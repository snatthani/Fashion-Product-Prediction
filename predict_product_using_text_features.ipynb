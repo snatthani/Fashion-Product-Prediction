{
 "cells": [
  {
   "cell_type": "markdown",
   "metadata": {},
   "source": [
    "# Fashion Product Prediction"
   ]
  },
  {
   "cell_type": "markdown",
   "metadata": {},
   "source": [
    "## Description\n",
    "<p> Source : https://www.kaggle.com/paramaggarwal/fashion-product-images-dataset </p> \n",
    "\n",
    "### Problem statement :\n",
    "<p> Extract textual features of different products </p>\n",
    "<p> Predict a products category by using textual features </p>"
   ]
  },
  {
   "cell_type": "markdown",
   "metadata": {},
   "source": [
    "## Performance Metric\n",
    "\n",
    "Metric(s):\n",
    "\n",
    "    Log Loss\n",
    "    Confusion Matrix"
   ]
  },
  {
   "cell_type": "markdown",
   "metadata": {
    "colab_type": "text",
    "id": "1dXbzebJ8gzH"
   },
   "source": [
    "# Importing Libraries"
   ]
  },
  {
   "cell_type": "code",
   "execution_count": 181,
   "metadata": {
    "colab": {
     "base_uri": "https://localhost:8080/",
     "height": 52
    },
    "colab_type": "code",
    "id": "BrCTtfraz2s6",
    "outputId": "c961629f-eb96-4594-b0d6-e4d9e4466734"
   },
   "outputs": [
    {
     "name": "stdout",
     "output_type": "stream",
     "text": [
      "[nltk_data] Downloading package stopwords to /root/nltk_data...\n",
      "[nltk_data]   Package stopwords is already up-to-date!\n"
     ]
    }
   ],
   "source": [
    "import warnings\n",
    "warnings.filterwarnings(\"ignore\")\n",
    "\n",
    "import numpy as np\n",
    "import pandas as pd\n",
    "import matplotlib.pyplot as plt\n",
    "import seaborn as sns\n",
    "%matplotlib inline\n",
    "\n",
    "import nltk\n",
    "nltk.download('stopwords')\n",
    "from nltk.corpus import stopwords\n",
    "#from nltk.stem import PorterStemmer\n",
    "\n",
    "from sklearn.preprocessing import LabelEncoder\n",
    "from sklearn.feature_extraction.text import CountVectorizer\n",
    "from sklearn.model_selection import train_test_split\n",
    "from sklearn.model_selection import GridSearchCV\n",
    "from sklearn.manifold import TSNE\n",
    "from sklearn.metrics.classification import log_loss\n",
    "from sklearn.metrics import confusion_matrix\n",
    "from sklearn.linear_model import SGDClassifier\n",
    "from sklearn.ensemble import RandomForestClassifier\n",
    "\n",
    "from xgboost import XGBClassifier\n",
    "from scipy.sparse import hstack\n",
    "\n",
    "from prettytable import PrettyTable\n",
    "from collections import defaultdict\n",
    "from tqdm import tqdm\n",
    "import os\n",
    "import re"
   ]
  },
  {
   "cell_type": "markdown",
   "metadata": {
    "colab_type": "text",
    "id": "Q1nh_TRw8dqt"
   },
   "source": [
    "# Data Extraction"
   ]
  },
  {
   "cell_type": "markdown",
   "metadata": {
    "colab_type": "text",
    "id": "QlUUiqpD8lSY"
   },
   "source": [
    "## Reading a random file - 1"
   ]
  },
  {
   "cell_type": "code",
   "execution_count": 2,
   "metadata": {
    "colab": {
     "base_uri": "https://localhost:8080/",
     "height": 1398
    },
    "colab_type": "code",
    "id": "eCqnNPgBMySL",
    "outputId": "cc11c893-2746-4ed2-e354-73083bbc3e16"
   },
   "outputs": [
    {
     "data": {
      "text/html": [
       "<div>\n",
       "<style scoped>\n",
       "    .dataframe tbody tr th:only-of-type {\n",
       "        vertical-align: middle;\n",
       "    }\n",
       "\n",
       "    .dataframe tbody tr th {\n",
       "        vertical-align: top;\n",
       "    }\n",
       "\n",
       "    .dataframe thead th {\n",
       "        text-align: right;\n",
       "    }\n",
       "</style>\n",
       "<table border=\"1\" class=\"dataframe\">\n",
       "  <thead>\n",
       "    <tr style=\"text-align: right;\">\n",
       "      <th></th>\n",
       "      <th>data</th>\n",
       "      <th>meta</th>\n",
       "      <th>notification</th>\n",
       "    </tr>\n",
       "  </thead>\n",
       "  <tbody>\n",
       "    <tr>\n",
       "      <th>ageGroup</th>\n",
       "      <td>Adults-Women</td>\n",
       "      <td>NaN</td>\n",
       "      <td>NaN</td>\n",
       "    </tr>\n",
       "    <tr>\n",
       "      <th>articleAttributes</th>\n",
       "      <td>{'Strap Material': 'Synthetic', 'Type': 'Hybri...</td>\n",
       "      <td>NaN</td>\n",
       "      <td>NaN</td>\n",
       "    </tr>\n",
       "    <tr>\n",
       "      <th>articleDisplayAttr</th>\n",
       "      <td>{'id': 66, 'core': {'order': '0', 'display': '...</td>\n",
       "      <td>NaN</td>\n",
       "      <td>NaN</td>\n",
       "    </tr>\n",
       "    <tr>\n",
       "      <th>articleNumber</th>\n",
       "      <td>NB9796SM01</td>\n",
       "      <td>NaN</td>\n",
       "      <td>NaN</td>\n",
       "    </tr>\n",
       "    <tr>\n",
       "      <th>articleType</th>\n",
       "      <td>{'id': 66, 'typeName': 'Watches', 'active': Tr...</td>\n",
       "      <td>NaN</td>\n",
       "      <td>NaN</td>\n",
       "    </tr>\n",
       "    <tr>\n",
       "      <th>baseColour</th>\n",
       "      <td>Silver</td>\n",
       "      <td>NaN</td>\n",
       "      <td>NaN</td>\n",
       "    </tr>\n",
       "    <tr>\n",
       "      <th>brandName</th>\n",
       "      <td>Titan</td>\n",
       "      <td>NaN</td>\n",
       "      <td>NaN</td>\n",
       "    </tr>\n",
       "    <tr>\n",
       "      <th>brandUserProfile</th>\n",
       "      <td>{'uidx': '28cf0b39.d898.4b6a.9541.77cb20672522...</td>\n",
       "      <td>NaN</td>\n",
       "      <td>NaN</td>\n",
       "    </tr>\n",
       "    <tr>\n",
       "      <th>catalogAddDate</th>\n",
       "      <td>1461843609</td>\n",
       "      <td>NaN</td>\n",
       "      <td>NaN</td>\n",
       "    </tr>\n",
       "    <tr>\n",
       "      <th>codEnabled</th>\n",
       "      <td>True</td>\n",
       "      <td>NaN</td>\n",
       "      <td>NaN</td>\n",
       "    </tr>\n",
       "    <tr>\n",
       "      <th>code</th>\n",
       "      <td>NaN</td>\n",
       "      <td>200</td>\n",
       "      <td>NaN</td>\n",
       "    </tr>\n",
       "    <tr>\n",
       "      <th>colour1</th>\n",
       "      <td>White</td>\n",
       "      <td>NaN</td>\n",
       "      <td>NaN</td>\n",
       "    </tr>\n",
       "    <tr>\n",
       "      <th>colour2</th>\n",
       "      <td>NA</td>\n",
       "      <td>NaN</td>\n",
       "      <td>NaN</td>\n",
       "    </tr>\n",
       "    <tr>\n",
       "      <th>crossLinks</th>\n",
       "      <td>[{'key': 'More Watches by Titan', 'value': 'wa...</td>\n",
       "      <td>NaN</td>\n",
       "      <td>NaN</td>\n",
       "    </tr>\n",
       "    <tr>\n",
       "      <th>discountedPrice</th>\n",
       "      <td>6500</td>\n",
       "      <td>NaN</td>\n",
       "      <td>NaN</td>\n",
       "    </tr>\n",
       "    <tr>\n",
       "      <th>displayCategories</th>\n",
       "      <td>Accessories</td>\n",
       "      <td>NaN</td>\n",
       "      <td>NaN</td>\n",
       "    </tr>\n",
       "    <tr>\n",
       "      <th>fashionType</th>\n",
       "      <td>Fashion</td>\n",
       "      <td>NaN</td>\n",
       "      <td>NaN</td>\n",
       "    </tr>\n",
       "    <tr>\n",
       "      <th>gender</th>\n",
       "      <td>Women</td>\n",
       "      <td>NaN</td>\n",
       "      <td>NaN</td>\n",
       "    </tr>\n",
       "    <tr>\n",
       "      <th>id</th>\n",
       "      <td>59263</td>\n",
       "      <td>NaN</td>\n",
       "      <td>NaN</td>\n",
       "    </tr>\n",
       "    <tr>\n",
       "      <th>isEMIEnabled</th>\n",
       "      <td>True</td>\n",
       "      <td>NaN</td>\n",
       "      <td>NaN</td>\n",
       "    </tr>\n",
       "    <tr>\n",
       "      <th>landingPageUrl</th>\n",
       "      <td>Watches/Titan/Titan-Women-Silver-Watch/59263/buy</td>\n",
       "      <td>NaN</td>\n",
       "      <td>NaN</td>\n",
       "    </tr>\n",
       "    <tr>\n",
       "      <th>lookGoodAlbum</th>\n",
       "      <td>{}</td>\n",
       "      <td>NaN</td>\n",
       "      <td>NaN</td>\n",
       "    </tr>\n",
       "    <tr>\n",
       "      <th>masterCategory</th>\n",
       "      <td>{'id': 1, 'typeName': 'Accessories', 'active':...</td>\n",
       "      <td>NaN</td>\n",
       "      <td>NaN</td>\n",
       "    </tr>\n",
       "    <tr>\n",
       "      <th>myntraRating</th>\n",
       "      <td>0</td>\n",
       "      <td>NaN</td>\n",
       "      <td>NaN</td>\n",
       "    </tr>\n",
       "    <tr>\n",
       "      <th>navigationId</th>\n",
       "      <td>410</td>\n",
       "      <td>NaN</td>\n",
       "      <td>NaN</td>\n",
       "    </tr>\n",
       "    <tr>\n",
       "      <th>otherFlags</th>\n",
       "      <td>[{'dataType': 'BOOLEAN', 'name': 'isFragile', ...</td>\n",
       "      <td>NaN</td>\n",
       "      <td>NaN</td>\n",
       "    </tr>\n",
       "    <tr>\n",
       "      <th>price</th>\n",
       "      <td>6500</td>\n",
       "      <td>NaN</td>\n",
       "      <td>NaN</td>\n",
       "    </tr>\n",
       "    <tr>\n",
       "      <th>productDescriptors</th>\n",
       "      <td>{'materials_care_desc': {'descriptorType': 'ma...</td>\n",
       "      <td>NaN</td>\n",
       "      <td>NaN</td>\n",
       "    </tr>\n",
       "    <tr>\n",
       "      <th>productDisplayName</th>\n",
       "      <td>Titan Women Silver Watch</td>\n",
       "      <td>NaN</td>\n",
       "      <td>NaN</td>\n",
       "    </tr>\n",
       "    <tr>\n",
       "      <th>productTypeId</th>\n",
       "      <td>361</td>\n",
       "      <td>NaN</td>\n",
       "      <td>NaN</td>\n",
       "    </tr>\n",
       "    <tr>\n",
       "      <th>requestId</th>\n",
       "      <td>NaN</td>\n",
       "      <td>b6c2bf15-7d36-4f41-b984-5a9cc07b094e</td>\n",
       "      <td>NaN</td>\n",
       "    </tr>\n",
       "    <tr>\n",
       "      <th>season</th>\n",
       "      <td>Winter</td>\n",
       "      <td>NaN</td>\n",
       "      <td>NaN</td>\n",
       "    </tr>\n",
       "    <tr>\n",
       "      <th>style360Images</th>\n",
       "      <td>{}</td>\n",
       "      <td>NaN</td>\n",
       "      <td>NaN</td>\n",
       "    </tr>\n",
       "    <tr>\n",
       "      <th>styleImages</th>\n",
       "      <td>{'default': {'imageURL': 'http://assets.myntas...</td>\n",
       "      <td>NaN</td>\n",
       "      <td>NaN</td>\n",
       "    </tr>\n",
       "    <tr>\n",
       "      <th>styleOptions</th>\n",
       "      <td>[{'id': 218178, 'name': 'Size', 'value': 'Ones...</td>\n",
       "      <td>NaN</td>\n",
       "      <td>NaN</td>\n",
       "    </tr>\n",
       "    <tr>\n",
       "      <th>styleType</th>\n",
       "      <td>P</td>\n",
       "      <td>NaN</td>\n",
       "      <td>NaN</td>\n",
       "    </tr>\n",
       "    <tr>\n",
       "      <th>subCategory</th>\n",
       "      <td>{'id': 27, 'typeName': 'Watches', 'active': Tr...</td>\n",
       "      <td>NaN</td>\n",
       "      <td>NaN</td>\n",
       "    </tr>\n",
       "    <tr>\n",
       "      <th>usage</th>\n",
       "      <td>Casual</td>\n",
       "      <td>NaN</td>\n",
       "      <td>NaN</td>\n",
       "    </tr>\n",
       "    <tr>\n",
       "      <th>variantName</th>\n",
       "      <td>Titan Watches</td>\n",
       "      <td>NaN</td>\n",
       "      <td>NaN</td>\n",
       "    </tr>\n",
       "    <tr>\n",
       "      <th>vat</th>\n",
       "      <td>14.5</td>\n",
       "      <td>NaN</td>\n",
       "      <td>NaN</td>\n",
       "    </tr>\n",
       "    <tr>\n",
       "      <th>visualTag</th>\n",
       "      <td></td>\n",
       "      <td>NaN</td>\n",
       "      <td>NaN</td>\n",
       "    </tr>\n",
       "    <tr>\n",
       "      <th>weight</th>\n",
       "      <td>0</td>\n",
       "      <td>NaN</td>\n",
       "      <td>NaN</td>\n",
       "    </tr>\n",
       "    <tr>\n",
       "      <th>year</th>\n",
       "      <td>2016</td>\n",
       "      <td>NaN</td>\n",
       "      <td>NaN</td>\n",
       "    </tr>\n",
       "  </tbody>\n",
       "</table>\n",
       "</div>"
      ],
      "text/plain": [
       "                                                                 data  \\\n",
       "ageGroup                                                 Adults-Women   \n",
       "articleAttributes   {'Strap Material': 'Synthetic', 'Type': 'Hybri...   \n",
       "articleDisplayAttr  {'id': 66, 'core': {'order': '0', 'display': '...   \n",
       "articleNumber                                              NB9796SM01   \n",
       "articleType         {'id': 66, 'typeName': 'Watches', 'active': Tr...   \n",
       "baseColour                                                     Silver   \n",
       "brandName                                                       Titan   \n",
       "brandUserProfile    {'uidx': '28cf0b39.d898.4b6a.9541.77cb20672522...   \n",
       "catalogAddDate                                             1461843609   \n",
       "codEnabled                                                       True   \n",
       "code                                                              NaN   \n",
       "colour1                                                         White   \n",
       "colour2                                                            NA   \n",
       "crossLinks          [{'key': 'More Watches by Titan', 'value': 'wa...   \n",
       "discountedPrice                                                  6500   \n",
       "displayCategories                                         Accessories   \n",
       "fashionType                                                   Fashion   \n",
       "gender                                                          Women   \n",
       "id                                                              59263   \n",
       "isEMIEnabled                                                     True   \n",
       "landingPageUrl       Watches/Titan/Titan-Women-Silver-Watch/59263/buy   \n",
       "lookGoodAlbum                                                      {}   \n",
       "masterCategory      {'id': 1, 'typeName': 'Accessories', 'active':...   \n",
       "myntraRating                                                        0   \n",
       "navigationId                                                      410   \n",
       "otherFlags          [{'dataType': 'BOOLEAN', 'name': 'isFragile', ...   \n",
       "price                                                            6500   \n",
       "productDescriptors  {'materials_care_desc': {'descriptorType': 'ma...   \n",
       "productDisplayName                           Titan Women Silver Watch   \n",
       "productTypeId                                                     361   \n",
       "requestId                                                         NaN   \n",
       "season                                                         Winter   \n",
       "style360Images                                                     {}   \n",
       "styleImages         {'default': {'imageURL': 'http://assets.myntas...   \n",
       "styleOptions        [{'id': 218178, 'name': 'Size', 'value': 'Ones...   \n",
       "styleType                                                           P   \n",
       "subCategory         {'id': 27, 'typeName': 'Watches', 'active': Tr...   \n",
       "usage                                                          Casual   \n",
       "variantName                                             Titan Watches   \n",
       "vat                                                              14.5   \n",
       "visualTag                                                               \n",
       "weight                                                              0   \n",
       "year                                                             2016   \n",
       "\n",
       "                                                    meta  notification  \n",
       "ageGroup                                             NaN           NaN  \n",
       "articleAttributes                                    NaN           NaN  \n",
       "articleDisplayAttr                                   NaN           NaN  \n",
       "articleNumber                                        NaN           NaN  \n",
       "articleType                                          NaN           NaN  \n",
       "baseColour                                           NaN           NaN  \n",
       "brandName                                            NaN           NaN  \n",
       "brandUserProfile                                     NaN           NaN  \n",
       "catalogAddDate                                       NaN           NaN  \n",
       "codEnabled                                           NaN           NaN  \n",
       "code                                                 200           NaN  \n",
       "colour1                                              NaN           NaN  \n",
       "colour2                                              NaN           NaN  \n",
       "crossLinks                                           NaN           NaN  \n",
       "discountedPrice                                      NaN           NaN  \n",
       "displayCategories                                    NaN           NaN  \n",
       "fashionType                                          NaN           NaN  \n",
       "gender                                               NaN           NaN  \n",
       "id                                                   NaN           NaN  \n",
       "isEMIEnabled                                         NaN           NaN  \n",
       "landingPageUrl                                       NaN           NaN  \n",
       "lookGoodAlbum                                        NaN           NaN  \n",
       "masterCategory                                       NaN           NaN  \n",
       "myntraRating                                         NaN           NaN  \n",
       "navigationId                                         NaN           NaN  \n",
       "otherFlags                                           NaN           NaN  \n",
       "price                                                NaN           NaN  \n",
       "productDescriptors                                   NaN           NaN  \n",
       "productDisplayName                                   NaN           NaN  \n",
       "productTypeId                                        NaN           NaN  \n",
       "requestId           b6c2bf15-7d36-4f41-b984-5a9cc07b094e           NaN  \n",
       "season                                               NaN           NaN  \n",
       "style360Images                                       NaN           NaN  \n",
       "styleImages                                          NaN           NaN  \n",
       "styleOptions                                         NaN           NaN  \n",
       "styleType                                            NaN           NaN  \n",
       "subCategory                                          NaN           NaN  \n",
       "usage                                                NaN           NaN  \n",
       "variantName                                          NaN           NaN  \n",
       "vat                                                  NaN           NaN  \n",
       "visualTag                                            NaN           NaN  \n",
       "weight                                               NaN           NaN  \n",
       "year                                                 NaN           NaN  "
      ]
     },
     "execution_count": 2,
     "metadata": {
      "tags": []
     },
     "output_type": "execute_result"
    }
   ],
   "source": [
    "#Reading a rondom file\n",
    "json_df = pd.read_json('fashion-dataset/styles/59263.json')\n",
    "json_df"
   ]
  },
  {
   "cell_type": "markdown",
   "metadata": {
    "colab_type": "text",
    "id": "emtR5LaBx-2_"
   },
   "source": [
    "Every file has the above structure. There are many rows and 3 columns namely data, meta and notification.\n",
    "\n",
    "Each file contains many different values for a product. For example id of product, year of product, price of product. \n",
    "\n",
    "We will use articleType, productDisplayName and productDescriptions."
   ]
  },
  {
   "cell_type": "markdown",
   "metadata": {
    "colab_type": "text",
    "id": "JSW-77_m9Afr"
   },
   "source": [
    "### Extracting features"
   ]
  },
  {
   "cell_type": "code",
   "execution_count": 3,
   "metadata": {
    "colab": {
     "base_uri": "https://localhost:8080/",
     "height": 72
    },
    "colab_type": "code",
    "id": "vUL6v8ymCFnQ",
    "outputId": "7242b188-5f3c-4ae5-ab60-23bb37801381"
   },
   "outputs": [
    {
     "name": "stdout",
     "output_type": "stream",
     "text": [
      "dict_keys(['id', 'typeName', 'active', 'socialSharingEnabled', 'isReturnable', 'isExchangeable', 'pickupEnabled', 'isTryAndBuyEnabled', 'isMyntsEnabled', 'serviceabilityDisclaimer'])\n",
      "dict_values([66, 'Watches', True, True, True, True, True, True, True, {'title': '', 'desc': ''}])\n"
     ]
    }
   ],
   "source": [
    "#extracting articleType\n",
    "articleType = json_df.loc['articleType']['data']\n",
    "print(articleType.keys())\n",
    "print(articleType.values())"
   ]
  },
  {
   "cell_type": "markdown",
   "metadata": {
    "colab_type": "text",
    "id": "F0wG6Ue1Ceta"
   },
   "source": [
    "The articleType has many keys inside it, we will use the typeName key."
   ]
  },
  {
   "cell_type": "code",
   "execution_count": 4,
   "metadata": {
    "colab": {
     "base_uri": "https://localhost:8080/",
     "height": 34
    },
    "colab_type": "code",
    "id": "O_Plp8VaCl61",
    "outputId": "192e39e2-8e95-4084-922e-50034c2fe8fc"
   },
   "outputs": [
    {
     "name": "stdout",
     "output_type": "stream",
     "text": [
      "Titan Women Silver Watch\n"
     ]
    }
   ],
   "source": [
    "#extracting productDisplayName\n",
    "productDisplayName = json_df.loc['productDisplayName']['data']\n",
    "print(productDisplayName)"
   ]
  },
  {
   "cell_type": "code",
   "execution_count": 5,
   "metadata": {
    "colab": {
     "base_uri": "https://localhost:8080/",
     "height": 72
    },
    "colab_type": "code",
    "id": "Pm6agQMfqRs8",
    "outputId": "af02201c-0f4e-498f-ab90-0c6fda4d7a00"
   },
   "outputs": [
    {
     "name": "stdout",
     "output_type": "stream",
     "text": [
      "dict_keys(['materials_care_desc', 'size_fit_desc', 'description', 'style_note'])\n",
      "dict_values([{'descriptorType': 'materials_care_desc', 'value': '<p>NA</p>'}, {'descriptorType': 'size_fit_desc', 'value': '<p>Case diameter: 25 mm<br />Dial shape: Round<br /></p>'}, {'descriptorType': 'description', 'value': '<p>Silver steel case with a fixed bezel for durability, style and comfort<br />Stainless steel strap with a butterfly clasp<br />White dial with silver hands<br />titan logo at the 6 hour mark<br />Screw to reset time<br />Solid case back for enhanced durability<br />Water resistance up to 30 meters, allowing you to use it even when showering <br />Warranty: 2 years</p>'}, {'descriptorType': 'style_note', 'value': '<p>This stylish watch from Titan, with classic, timeless styling is a must have for every well dressed woman. Built with the utmost precision and individuality, each watch has been designed and carefully tested to give you years of reliable service and contemporary style for the woman of class!</p>'}])\n"
     ]
    }
   ],
   "source": [
    "#extracting productDescriptors from the random file\n",
    "productDescriptors = json_df.loc['productDescriptors']['data']\n",
    "print(productDescriptors.keys())\n",
    "print(productDescriptors.values())"
   ]
  },
  {
   "cell_type": "markdown",
   "metadata": {
    "colab_type": "text",
    "id": "6vI5xrKw8EXn"
   },
   "source": [
    "Here the productDescriptors is a dictionary with 4 keys."
   ]
  },
  {
   "cell_type": "markdown",
   "metadata": {
    "colab_type": "text",
    "id": "Rz1P6t3-9K_Q"
   },
   "source": [
    "Checking if other files contain the same fields or not"
   ]
  },
  {
   "cell_type": "markdown",
   "metadata": {
    "colab_type": "text",
    "id": "JkQ4eDFI9SAV"
   },
   "source": [
    "## Reading a random file - 2"
   ]
  },
  {
   "cell_type": "code",
   "execution_count": 0,
   "metadata": {
    "colab": {},
    "colab_type": "code",
    "id": "o467zsCiDMEO"
   },
   "outputs": [],
   "source": [
    "#reading another random file\n",
    "json_df = pd.read_json('fashion-dataset/styles/15970.json')"
   ]
  },
  {
   "cell_type": "code",
   "execution_count": 7,
   "metadata": {
    "colab": {
     "base_uri": "https://localhost:8080/",
     "height": 72
    },
    "colab_type": "code",
    "id": "2oUupqLpDJ5C",
    "outputId": "bca20e77-903d-466d-c0c0-871e27ed200f"
   },
   "outputs": [
    {
     "name": "stdout",
     "output_type": "stream",
     "text": [
      "dict_keys(['id', 'typeName', 'active', 'socialSharingEnabled', 'isReturnable', 'isExchangeable', 'pickupEnabled', 'isTryAndBuyEnabled', 'isMyntsEnabled', 'serviceabilityDisclaimer'])\n",
      "dict_values([85, 'Shirts', True, True, True, True, True, True, True, {'title': '', 'desc': ''}])\n"
     ]
    }
   ],
   "source": [
    "#extracting articleType\n",
    "articleType = json_df.loc['articleType']['data']\n",
    "print(articleType.keys())\n",
    "print(articleType.values())"
   ]
  },
  {
   "cell_type": "code",
   "execution_count": 8,
   "metadata": {
    "colab": {
     "base_uri": "https://localhost:8080/",
     "height": 34
    },
    "colab_type": "code",
    "id": "vml4qs5HDXO5",
    "outputId": "d4b835d3-c70f-42f7-f668-8774da6fe63b"
   },
   "outputs": [
    {
     "name": "stdout",
     "output_type": "stream",
     "text": [
      "Turtle Check Men Navy Blue Shirt\n"
     ]
    }
   ],
   "source": [
    "#extracting productDisplayName\n",
    "productDisplayName = json_df.loc['productDisplayName']['data']\n",
    "print(productDisplayName)"
   ]
  },
  {
   "cell_type": "code",
   "execution_count": 9,
   "metadata": {
    "colab": {
     "base_uri": "https://localhost:8080/",
     "height": 72
    },
    "colab_type": "code",
    "id": "6xAj2hn_8K3h",
    "outputId": "75748425-926c-4e24-cb4b-7230167b6006"
   },
   "outputs": [
    {
     "name": "stdout",
     "output_type": "stream",
     "text": [
      "dict_keys(['description'])\n",
      "dict_values([{'descriptorType': 'description', 'value': '<p style=\"text-align: justify;\"><strong>Composition</strong><br />Dark brown and indigo blue plaid check shirt with white accents, made of 100% cotton, has long sleeves with buttoned cuffs and a button on the elbow for rolling up the sleeve, denim spread collar, buttoned front placket, patch pocket on the upper left chest and a curved hemline<br /><br /><strong>Fitting</strong><br />Slim<br /><br /><strong>Wash care</strong><br />Machine wash cold at 30 degrees with like colours<br />Do not bleach <br />Wash and dry inside out<br />Hang to dry in shade<br />Medium iron<br /><br />The cleverly mitired pocket on the upper left chest and denim collar adds smooth styling to this dark brown and indigo blue plaid check shirt from turtle, while the cotton fabric keeps you feeling fresh and comfortable all day. Part of the proceeds from the sale of this product go towards the Save Turtle project in collaboration with WWF and Wildlife Society of Orissa, making it an environment friendly choice. Team this with chinos or jeans and sneakers.<br /><br /><em>Model statistics</em><br />Product is a size M on a model of height 6\\' and chest 39\"</p>'}])\n"
     ]
    }
   ],
   "source": [
    "productDescriptors = json_df.loc['productDescriptors']['data']\n",
    "print(productDescriptors.keys())\n",
    "print(productDescriptors.values())"
   ]
  },
  {
   "cell_type": "markdown",
   "metadata": {
    "colab_type": "text",
    "id": "m84QU6mg9ctN"
   },
   "source": [
    "This file contains only 1 key in productDescriptors."
   ]
  },
  {
   "cell_type": "markdown",
   "metadata": {
    "colab_type": "text",
    "id": "lB6KX0zI9jJx"
   },
   "source": [
    "## Reading a random file - 3"
   ]
  },
  {
   "cell_type": "code",
   "execution_count": 0,
   "metadata": {
    "colab": {},
    "colab_type": "code",
    "id": "ru6PpEdX7xez"
   },
   "outputs": [],
   "source": [
    "#reading another random file\n",
    "json_df = pd.read_json('fashion-dataset/styles/49168.json')"
   ]
  },
  {
   "cell_type": "code",
   "execution_count": 11,
   "metadata": {
    "colab": {
     "base_uri": "https://localhost:8080/",
     "height": 72
    },
    "colab_type": "code",
    "id": "kZ5LcMSMDkXq",
    "outputId": "d4cbb345-3142-4de8-a79c-c39cb3ea55df"
   },
   "outputs": [
    {
     "name": "stdout",
     "output_type": "stream",
     "text": [
      "dict_keys(['id', 'typeName', 'active', 'socialSharingEnabled', 'isReturnable', 'isExchangeable', 'pickupEnabled', 'isTryAndBuyEnabled', 'isMyntsEnabled', 'serviceabilityDisclaimer'])\n",
      "dict_values([85, 'Shirts', True, True, True, True, True, True, True, {'title': '', 'desc': ''}])\n"
     ]
    }
   ],
   "source": [
    "#extracting articleType\n",
    "articleType = json_df.loc['articleType']['data']\n",
    "print(articleType.keys())\n",
    "print(articleType.values())"
   ]
  },
  {
   "cell_type": "code",
   "execution_count": 12,
   "metadata": {
    "colab": {
     "base_uri": "https://localhost:8080/",
     "height": 34
    },
    "colab_type": "code",
    "id": "-gYx3f1-Dm8O",
    "outputId": "934be212-2eb7-43a3-c8d5-8f1282d0e9c8"
   },
   "outputs": [
    {
     "name": "stdout",
     "output_type": "stream",
     "text": [
      "Spykar Men Navy Blue  Shirt\n"
     ]
    }
   ],
   "source": [
    "#extracting productDisplayName\n",
    "productDisplayName = json_df.loc['productDisplayName']['data']\n",
    "print(productDisplayName)"
   ]
  },
  {
   "cell_type": "code",
   "execution_count": 13,
   "metadata": {
    "colab": {
     "base_uri": "https://localhost:8080/",
     "height": 52
    },
    "colab_type": "code",
    "id": "w1gyYUujDe1h",
    "outputId": "de6f3383-46a3-4331-817a-0ef81761388d"
   },
   "outputs": [
    {
     "name": "stdout",
     "output_type": "stream",
     "text": [
      "dict_keys([])\n",
      "dict_values([])\n"
     ]
    }
   ],
   "source": [
    "productDescriptors = json_df.loc['productDescriptors']['data']\n",
    "print(productDescriptors.keys())\n",
    "print(productDescriptors.values())"
   ]
  },
  {
   "cell_type": "markdown",
   "metadata": {
    "colab_type": "text",
    "id": "Ysl_tpcJ9zhb"
   },
   "source": [
    "This file does not contain any key in productDescriptors. It means that productDescriptors is empty."
   ]
  },
  {
   "cell_type": "markdown",
   "metadata": {
    "colab_type": "text",
    "id": "weOlitfwrhr4"
   },
   "source": [
    "#### Note :- All json files do not have discriptors with all 4 keys. Also some files do not contain any information in productDescriptors"
   ]
  },
  {
   "cell_type": "markdown",
   "metadata": {
    "colab_type": "text",
    "id": "tYS5PXpo-FND"
   },
   "source": [
    "## Extracting id, articleType, displayName, description and masterCategory from all files"
   ]
  },
  {
   "cell_type": "code",
   "execution_count": 35,
   "metadata": {
    "colab": {
     "base_uri": "https://localhost:8080/",
     "height": 34
    },
    "colab_type": "code",
    "id": "u9eN8q_mxggN",
    "outputId": "a5c6fee2-39b2-496f-9826-fb09ca95fb08"
   },
   "outputs": [
    {
     "name": "stderr",
     "output_type": "stream",
     "text": [
      "100%|██████████| 44446/44446 [12:41<00:00, 32.37it/s]\n"
     ]
    }
   ],
   "source": [
    "path = './fashion-dataset/styles/'\n",
    "files = os.listdir(path)                                          #getting list of all files in styles folder\n",
    "#files = [i for i in os.listdir(path) if i.endswith(\"json\")]      #use this if the folder contains files other than json format \n",
    "\n",
    "descriptors_df = pd.DataFrame()                                   #dataframe that will contarin extracted information\n",
    "for filename in tqdm(files):\n",
    "    file_path = path + filename\n",
    "    json_df = pd.read_json(file_path)\n",
    "\n",
    "    row = {}                                                                       #new row for each file that contains information\n",
    "    id = json_df.loc['id']['data']\n",
    "    row['id'] = id\n",
    "    \n",
    "    articleType_dict = json_df.loc['articleType']['data']                             #returns a dict    \n",
    "    row['articleType'] = articleType_dict['typeName']\n",
    "    \n",
    "    row['productDisplayName'] = json_df.loc['productDisplayName']['data']\n",
    "\n",
    "    productDescriptors_dict = json_df.loc['productDescriptors']['data']            #returns a dict\n",
    "    if bool(productDescriptors_dict):                                              #empty dictionary evaluates to false\n",
    "        row['description'] = productDescriptors_dict['description']['value']       #taking only discription value\n",
    "    else:\n",
    "        continue                                                                   #if dict is empty skip the file\n",
    "\n",
    "    masterCategory_dict = json_df.loc['masterCategory']['data']\n",
    "    row['masterCategory'] = masterCategory_dict['typeName']\n",
    "\n",
    "    new_df = pd.DataFrame([row])                                                   #if we dont put row in [], it gives value error\n",
    "    descriptors_df = descriptors_df.append(new_df, ignore_index = True)"
   ]
  },
  {
   "cell_type": "code",
   "execution_count": 36,
   "metadata": {
    "colab": {
     "base_uri": "https://localhost:8080/",
     "height": 206
    },
    "colab_type": "code",
    "id": "LrdffpzQzxs4",
    "outputId": "8769197f-616c-49cc-9c70-2b8e0451e437"
   },
   "outputs": [
    {
     "data": {
      "text/html": [
       "<div>\n",
       "<style scoped>\n",
       "    .dataframe tbody tr th:only-of-type {\n",
       "        vertical-align: middle;\n",
       "    }\n",
       "\n",
       "    .dataframe tbody tr th {\n",
       "        vertical-align: top;\n",
       "    }\n",
       "\n",
       "    .dataframe thead th {\n",
       "        text-align: right;\n",
       "    }\n",
       "</style>\n",
       "<table border=\"1\" class=\"dataframe\">\n",
       "  <thead>\n",
       "    <tr style=\"text-align: right;\">\n",
       "      <th></th>\n",
       "      <th>articleType</th>\n",
       "      <th>description</th>\n",
       "      <th>id</th>\n",
       "      <th>masterCategory</th>\n",
       "      <th>productDisplayName</th>\n",
       "    </tr>\n",
       "  </thead>\n",
       "  <tbody>\n",
       "    <tr>\n",
       "      <th>0</th>\n",
       "      <td>Tshirts</td>\n",
       "      <td>&lt;p style=\"text-align: justify;\"&gt;1. 100% cotton...</td>\n",
       "      <td>1845</td>\n",
       "      <td>Apparel</td>\n",
       "      <td>Inkfruit Mens Surfer T-shirt</td>\n",
       "    </tr>\n",
       "    <tr>\n",
       "      <th>1</th>\n",
       "      <td>Jeans</td>\n",
       "      <td>&lt;p&gt;&lt;strong&gt;Composition&lt;/strong&gt;&lt;br /&gt; Blue jea...</td>\n",
       "      <td>23455</td>\n",
       "      <td>Apparel</td>\n",
       "      <td>Deni Yo Men Blue Washed Slim Fit Jeans</td>\n",
       "    </tr>\n",
       "    <tr>\n",
       "      <th>2</th>\n",
       "      <td>Earrings</td>\n",
       "      <td>&lt;p&gt;Silver earrings&lt;br /&gt;Silver hoops with CZ s...</td>\n",
       "      <td>48721</td>\n",
       "      <td>Accessories</td>\n",
       "      <td>Lucera Women Silver Earrings</td>\n",
       "    </tr>\n",
       "    <tr>\n",
       "      <th>3</th>\n",
       "      <td>Casual Shoes</td>\n",
       "      <td>&lt;p&gt;Round toed shoes with central lace-ups&lt;br /...</td>\n",
       "      <td>49381</td>\n",
       "      <td>Footwear</td>\n",
       "      <td>Vans Men Navy Blue Versa Casual Shoes</td>\n",
       "    </tr>\n",
       "    <tr>\n",
       "      <th>4</th>\n",
       "      <td>Kurtas</td>\n",
       "      <td>&lt;p&gt;&lt;strong&gt;Composition&lt;/strong&gt;&lt;br /&gt; Mustard ...</td>\n",
       "      <td>25824</td>\n",
       "      <td>Apparel</td>\n",
       "      <td>Diva Women Printed Mustard Kurta</td>\n",
       "    </tr>\n",
       "  </tbody>\n",
       "</table>\n",
       "</div>"
      ],
      "text/plain": [
       "    articleType                                        description     id  \\\n",
       "0       Tshirts  <p style=\"text-align: justify;\">1. 100% cotton...   1845   \n",
       "1         Jeans  <p><strong>Composition</strong><br /> Blue jea...  23455   \n",
       "2      Earrings  <p>Silver earrings<br />Silver hoops with CZ s...  48721   \n",
       "3  Casual Shoes  <p>Round toed shoes with central lace-ups<br /...  49381   \n",
       "4        Kurtas  <p><strong>Composition</strong><br /> Mustard ...  25824   \n",
       "\n",
       "  masterCategory                      productDisplayName  \n",
       "0        Apparel            Inkfruit Mens Surfer T-shirt  \n",
       "1        Apparel  Deni Yo Men Blue Washed Slim Fit Jeans  \n",
       "2    Accessories            Lucera Women Silver Earrings  \n",
       "3       Footwear   Vans Men Navy Blue Versa Casual Shoes  \n",
       "4        Apparel        Diva Women Printed Mustard Kurta  "
      ]
     },
     "execution_count": 36,
     "metadata": {
      "tags": []
     },
     "output_type": "execute_result"
    }
   ],
   "source": [
    "descriptors_df.head()"
   ]
  },
  {
   "cell_type": "code",
   "execution_count": 37,
   "metadata": {
    "colab": {
     "base_uri": "https://localhost:8080/",
     "height": 52
    },
    "colab_type": "code",
    "id": "rotes-S1jCev",
    "outputId": "15b7f386-8655-4c80-baef-e1c1c52977b8"
   },
   "outputs": [
    {
     "name": "stdout",
     "output_type": "stream",
     "text": [
      "Total number of json files 44446\n",
      "Total number of json files used in data extraction 44381\n"
     ]
    }
   ],
   "source": [
    "print('Total number of json files', len(files))\n",
    "print('Total number of json files used in data extraction', descriptors_df.shape[0])"
   ]
  },
  {
   "cell_type": "markdown",
   "metadata": {
    "colab_type": "text",
    "id": "0XAowqqLmRUk"
   },
   "source": [
    "## Storing Extracted data to csv"
   ]
  },
  {
   "cell_type": "markdown",
   "metadata": {
    "colab_type": "text",
    "id": "X6-9Tup_mUzY"
   },
   "source": [
    "Some descriptions contain **\\r** which results in creating a new row in csv and imporper data storage. Removing \\r from description"
   ]
  },
  {
   "cell_type": "code",
   "execution_count": 0,
   "metadata": {
    "colab": {},
    "colab_type": "code",
    "id": "OvWdl-XpnH90"
   },
   "outputs": [],
   "source": [
    "descriptors_df['description'] = descriptors_df['description'].apply(lambda row : row.replace('\\r',''))"
   ]
  },
  {
   "cell_type": "code",
   "execution_count": 0,
   "metadata": {
    "colab": {},
    "colab_type": "code",
    "id": "b0u0dQaTkWV-"
   },
   "outputs": [],
   "source": [
    "descriptors_df.to_csv('extracted_data.csv', index = False)"
   ]
  },
  {
   "cell_type": "markdown",
   "metadata": {
    "colab_type": "text",
    "id": "zTG21ZPViST_"
   },
   "source": [
    "# Data Preprocessing"
   ]
  },
  {
   "cell_type": "code",
   "execution_count": 0,
   "metadata": {
    "colab": {},
    "colab_type": "code",
    "id": "f81j9OlEkcsj"
   },
   "outputs": [],
   "source": [
    "descriptors_df = pd.read_csv('extracted_data.csv')"
   ]
  },
  {
   "cell_type": "code",
   "execution_count": 50,
   "metadata": {
    "colab": {
     "base_uri": "https://localhost:8080/",
     "height": 206
    },
    "colab_type": "code",
    "id": "p4Ua3TvpQsRK",
    "outputId": "0c3429bf-9d77-436e-fda8-e713a2e28aaf"
   },
   "outputs": [
    {
     "data": {
      "text/html": [
       "<div>\n",
       "<style scoped>\n",
       "    .dataframe tbody tr th:only-of-type {\n",
       "        vertical-align: middle;\n",
       "    }\n",
       "\n",
       "    .dataframe tbody tr th {\n",
       "        vertical-align: top;\n",
       "    }\n",
       "\n",
       "    .dataframe thead th {\n",
       "        text-align: right;\n",
       "    }\n",
       "</style>\n",
       "<table border=\"1\" class=\"dataframe\">\n",
       "  <thead>\n",
       "    <tr style=\"text-align: right;\">\n",
       "      <th></th>\n",
       "      <th>articleType</th>\n",
       "      <th>description</th>\n",
       "      <th>id</th>\n",
       "      <th>masterCategory</th>\n",
       "      <th>productDisplayName</th>\n",
       "    </tr>\n",
       "  </thead>\n",
       "  <tbody>\n",
       "    <tr>\n",
       "      <th>0</th>\n",
       "      <td>Tshirts</td>\n",
       "      <td>&lt;p style=\"text-align: justify;\"&gt;1. 100% cotton...</td>\n",
       "      <td>1845</td>\n",
       "      <td>Apparel</td>\n",
       "      <td>Inkfruit Mens Surfer T-shirt</td>\n",
       "    </tr>\n",
       "    <tr>\n",
       "      <th>1</th>\n",
       "      <td>Jeans</td>\n",
       "      <td>&lt;p&gt;&lt;strong&gt;Composition&lt;/strong&gt;&lt;br /&gt; Blue jea...</td>\n",
       "      <td>23455</td>\n",
       "      <td>Apparel</td>\n",
       "      <td>Deni Yo Men Blue Washed Slim Fit Jeans</td>\n",
       "    </tr>\n",
       "    <tr>\n",
       "      <th>2</th>\n",
       "      <td>Earrings</td>\n",
       "      <td>&lt;p&gt;Silver earrings&lt;br /&gt;Silver hoops with CZ s...</td>\n",
       "      <td>48721</td>\n",
       "      <td>Accessories</td>\n",
       "      <td>Lucera Women Silver Earrings</td>\n",
       "    </tr>\n",
       "    <tr>\n",
       "      <th>3</th>\n",
       "      <td>Casual Shoes</td>\n",
       "      <td>&lt;p&gt;Round toed shoes with central lace-ups&lt;br /...</td>\n",
       "      <td>49381</td>\n",
       "      <td>Footwear</td>\n",
       "      <td>Vans Men Navy Blue Versa Casual Shoes</td>\n",
       "    </tr>\n",
       "    <tr>\n",
       "      <th>4</th>\n",
       "      <td>Kurtas</td>\n",
       "      <td>&lt;p&gt;&lt;strong&gt;Composition&lt;/strong&gt;&lt;br /&gt; Mustard ...</td>\n",
       "      <td>25824</td>\n",
       "      <td>Apparel</td>\n",
       "      <td>Diva Women Printed Mustard Kurta</td>\n",
       "    </tr>\n",
       "  </tbody>\n",
       "</table>\n",
       "</div>"
      ],
      "text/plain": [
       "    articleType                                        description     id  \\\n",
       "0       Tshirts  <p style=\"text-align: justify;\">1. 100% cotton...   1845   \n",
       "1         Jeans  <p><strong>Composition</strong><br /> Blue jea...  23455   \n",
       "2      Earrings  <p>Silver earrings<br />Silver hoops with CZ s...  48721   \n",
       "3  Casual Shoes  <p>Round toed shoes with central lace-ups<br /...  49381   \n",
       "4        Kurtas  <p><strong>Composition</strong><br /> Mustard ...  25824   \n",
       "\n",
       "  masterCategory                      productDisplayName  \n",
       "0        Apparel            Inkfruit Mens Surfer T-shirt  \n",
       "1        Apparel  Deni Yo Men Blue Washed Slim Fit Jeans  \n",
       "2    Accessories            Lucera Women Silver Earrings  \n",
       "3       Footwear   Vans Men Navy Blue Versa Casual Shoes  \n",
       "4        Apparel        Diva Women Printed Mustard Kurta  "
      ]
     },
     "execution_count": 50,
     "metadata": {
      "tags": []
     },
     "output_type": "execute_result"
    }
   ],
   "source": [
    "descriptors_df.head()"
   ]
  },
  {
   "cell_type": "markdown",
   "metadata": {
    "colab_type": "text",
    "id": "ShEmKAdOWiZh"
   },
   "source": [
    "## Preprocessing articleType"
   ]
  },
  {
   "cell_type": "code",
   "execution_count": 51,
   "metadata": {
    "colab": {
     "base_uri": "https://localhost:8080/",
     "height": 34
    },
    "colab_type": "code",
    "id": "K_h4lYcHWoTt",
    "outputId": "304fdbf5-8a98-4f8c-f0ab-b1f366c227e9"
   },
   "outputs": [
    {
     "data": {
      "text/plain": [
       "False"
      ]
     },
     "execution_count": 51,
     "metadata": {
      "tags": []
     },
     "output_type": "execute_result"
    }
   ],
   "source": [
    "#checking for null values\n",
    "descriptors_df.articleType.isnull().any()"
   ]
  },
  {
   "cell_type": "markdown",
   "metadata": {
    "colab_type": "text",
    "id": "O98m0I96XGhT"
   },
   "source": [
    "No null valuse found"
   ]
  },
  {
   "cell_type": "markdown",
   "metadata": {
    "colab_type": "text",
    "id": "e2QxwP6dXIt0"
   },
   "source": [
    "Replacing space with _ and converting each articleType to lowercase"
   ]
  },
  {
   "cell_type": "code",
   "execution_count": 0,
   "metadata": {
    "colab": {},
    "colab_type": "code",
    "id": "GZyZBuJMXXX-"
   },
   "outputs": [],
   "source": [
    "descriptors_df['articleType'] = descriptors_df['articleType'].apply(lambda row : row.replace(' ','_'))\n",
    "descriptors_df['articleType'] = descriptors_df['articleType'].apply(lambda row : row.lower())"
   ]
  },
  {
   "cell_type": "code",
   "execution_count": 53,
   "metadata": {
    "colab": {
     "base_uri": "https://localhost:8080/",
     "height": 206
    },
    "colab_type": "code",
    "id": "YZgHlDrGXz4r",
    "outputId": "296e40c8-a23d-4bf7-df7d-b93dd7d241c7"
   },
   "outputs": [
    {
     "data": {
      "text/html": [
       "<div>\n",
       "<style scoped>\n",
       "    .dataframe tbody tr th:only-of-type {\n",
       "        vertical-align: middle;\n",
       "    }\n",
       "\n",
       "    .dataframe tbody tr th {\n",
       "        vertical-align: top;\n",
       "    }\n",
       "\n",
       "    .dataframe thead th {\n",
       "        text-align: right;\n",
       "    }\n",
       "</style>\n",
       "<table border=\"1\" class=\"dataframe\">\n",
       "  <thead>\n",
       "    <tr style=\"text-align: right;\">\n",
       "      <th></th>\n",
       "      <th>articleType</th>\n",
       "      <th>description</th>\n",
       "      <th>id</th>\n",
       "      <th>masterCategory</th>\n",
       "      <th>productDisplayName</th>\n",
       "    </tr>\n",
       "  </thead>\n",
       "  <tbody>\n",
       "    <tr>\n",
       "      <th>0</th>\n",
       "      <td>tshirts</td>\n",
       "      <td>&lt;p style=\"text-align: justify;\"&gt;1. 100% cotton...</td>\n",
       "      <td>1845</td>\n",
       "      <td>Apparel</td>\n",
       "      <td>Inkfruit Mens Surfer T-shirt</td>\n",
       "    </tr>\n",
       "    <tr>\n",
       "      <th>1</th>\n",
       "      <td>jeans</td>\n",
       "      <td>&lt;p&gt;&lt;strong&gt;Composition&lt;/strong&gt;&lt;br /&gt; Blue jea...</td>\n",
       "      <td>23455</td>\n",
       "      <td>Apparel</td>\n",
       "      <td>Deni Yo Men Blue Washed Slim Fit Jeans</td>\n",
       "    </tr>\n",
       "    <tr>\n",
       "      <th>2</th>\n",
       "      <td>earrings</td>\n",
       "      <td>&lt;p&gt;Silver earrings&lt;br /&gt;Silver hoops with CZ s...</td>\n",
       "      <td>48721</td>\n",
       "      <td>Accessories</td>\n",
       "      <td>Lucera Women Silver Earrings</td>\n",
       "    </tr>\n",
       "    <tr>\n",
       "      <th>3</th>\n",
       "      <td>casual_shoes</td>\n",
       "      <td>&lt;p&gt;Round toed shoes with central lace-ups&lt;br /...</td>\n",
       "      <td>49381</td>\n",
       "      <td>Footwear</td>\n",
       "      <td>Vans Men Navy Blue Versa Casual Shoes</td>\n",
       "    </tr>\n",
       "    <tr>\n",
       "      <th>4</th>\n",
       "      <td>kurtas</td>\n",
       "      <td>&lt;p&gt;&lt;strong&gt;Composition&lt;/strong&gt;&lt;br /&gt; Mustard ...</td>\n",
       "      <td>25824</td>\n",
       "      <td>Apparel</td>\n",
       "      <td>Diva Women Printed Mustard Kurta</td>\n",
       "    </tr>\n",
       "  </tbody>\n",
       "</table>\n",
       "</div>"
      ],
      "text/plain": [
       "    articleType                                        description     id  \\\n",
       "0       tshirts  <p style=\"text-align: justify;\">1. 100% cotton...   1845   \n",
       "1         jeans  <p><strong>Composition</strong><br /> Blue jea...  23455   \n",
       "2      earrings  <p>Silver earrings<br />Silver hoops with CZ s...  48721   \n",
       "3  casual_shoes  <p>Round toed shoes with central lace-ups<br /...  49381   \n",
       "4        kurtas  <p><strong>Composition</strong><br /> Mustard ...  25824   \n",
       "\n",
       "  masterCategory                      productDisplayName  \n",
       "0        Apparel            Inkfruit Mens Surfer T-shirt  \n",
       "1        Apparel  Deni Yo Men Blue Washed Slim Fit Jeans  \n",
       "2    Accessories            Lucera Women Silver Earrings  \n",
       "3       Footwear   Vans Men Navy Blue Versa Casual Shoes  \n",
       "4        Apparel        Diva Women Printed Mustard Kurta  "
      ]
     },
     "execution_count": 53,
     "metadata": {
      "tags": []
     },
     "output_type": "execute_result"
    }
   ],
   "source": [
    "descriptors_df.head()"
   ]
  },
  {
   "cell_type": "markdown",
   "metadata": {
    "colab_type": "text",
    "id": "9q78zbOoWYnN"
   },
   "source": [
    "## Preprocessing displayName"
   ]
  },
  {
   "cell_type": "code",
   "execution_count": 55,
   "metadata": {
    "colab": {
     "base_uri": "https://localhost:8080/",
     "height": 34
    },
    "colab_type": "code",
    "id": "ZOcXX9M_WDNH",
    "outputId": "db1c2768-0bdb-4db0-bcd0-cd2b2d38bb47"
   },
   "outputs": [
    {
     "data": {
      "text/plain": [
       "True"
      ]
     },
     "execution_count": 55,
     "metadata": {
      "tags": []
     },
     "output_type": "execute_result"
    }
   ],
   "source": [
    "#checking for null values\n",
    "descriptors_df.productDisplayName.isnull().any()"
   ]
  },
  {
   "cell_type": "markdown",
   "metadata": {
    "colab_type": "text",
    "id": "SsLD1HPBYSBz"
   },
   "source": [
    "Null values are present, removing null values"
   ]
  },
  {
   "cell_type": "code",
   "execution_count": 0,
   "metadata": {
    "colab": {},
    "colab_type": "code",
    "id": "mKcKDHZXYYdd"
   },
   "outputs": [],
   "source": [
    "descriptors_df.dropna(subset = ['productDisplayName'], inplace = True)"
   ]
  },
  {
   "cell_type": "code",
   "execution_count": 0,
   "metadata": {
    "colab": {},
    "colab_type": "code",
    "id": "JVqCnmC5cDX8"
   },
   "outputs": [],
   "source": [
    "descriptors_df['productDisplayName'] = descriptors_df['productDisplayName'].apply(lambda row : row.replace('-',''))\n",
    "descriptors_df['productDisplayName'] = descriptors_df['productDisplayName'].apply(lambda row : row.lower())"
   ]
  },
  {
   "cell_type": "code",
   "execution_count": 79,
   "metadata": {
    "colab": {
     "base_uri": "https://localhost:8080/",
     "height": 206
    },
    "colab_type": "code",
    "id": "RRABs9IbaMep",
    "outputId": "0b61c833-b6fe-4721-c8a3-feeea478f810"
   },
   "outputs": [
    {
     "data": {
      "text/html": [
       "<div>\n",
       "<style scoped>\n",
       "    .dataframe tbody tr th:only-of-type {\n",
       "        vertical-align: middle;\n",
       "    }\n",
       "\n",
       "    .dataframe tbody tr th {\n",
       "        vertical-align: top;\n",
       "    }\n",
       "\n",
       "    .dataframe thead th {\n",
       "        text-align: right;\n",
       "    }\n",
       "</style>\n",
       "<table border=\"1\" class=\"dataframe\">\n",
       "  <thead>\n",
       "    <tr style=\"text-align: right;\">\n",
       "      <th></th>\n",
       "      <th>articleType</th>\n",
       "      <th>description</th>\n",
       "      <th>id</th>\n",
       "      <th>masterCategory</th>\n",
       "      <th>productDisplayName</th>\n",
       "    </tr>\n",
       "  </thead>\n",
       "  <tbody>\n",
       "    <tr>\n",
       "      <th>0</th>\n",
       "      <td>tshirts</td>\n",
       "      <td>&lt;p style=\"text-align: justify;\"&gt;1. 100% cotton...</td>\n",
       "      <td>1845</td>\n",
       "      <td>Apparel</td>\n",
       "      <td>inkfruit mens surfer tshirt</td>\n",
       "    </tr>\n",
       "    <tr>\n",
       "      <th>1</th>\n",
       "      <td>jeans</td>\n",
       "      <td>&lt;p&gt;&lt;strong&gt;Composition&lt;/strong&gt;&lt;br /&gt; Blue jea...</td>\n",
       "      <td>23455</td>\n",
       "      <td>Apparel</td>\n",
       "      <td>deni yo men blue washed slim fit jeans</td>\n",
       "    </tr>\n",
       "    <tr>\n",
       "      <th>2</th>\n",
       "      <td>earrings</td>\n",
       "      <td>&lt;p&gt;Silver earrings&lt;br /&gt;Silver hoops with CZ s...</td>\n",
       "      <td>48721</td>\n",
       "      <td>Accessories</td>\n",
       "      <td>lucera women silver earrings</td>\n",
       "    </tr>\n",
       "    <tr>\n",
       "      <th>3</th>\n",
       "      <td>casual_shoes</td>\n",
       "      <td>&lt;p&gt;Round toed shoes with central lace-ups&lt;br /...</td>\n",
       "      <td>49381</td>\n",
       "      <td>Footwear</td>\n",
       "      <td>vans men navy blue versa casual shoes</td>\n",
       "    </tr>\n",
       "    <tr>\n",
       "      <th>4</th>\n",
       "      <td>kurtas</td>\n",
       "      <td>&lt;p&gt;&lt;strong&gt;Composition&lt;/strong&gt;&lt;br /&gt; Mustard ...</td>\n",
       "      <td>25824</td>\n",
       "      <td>Apparel</td>\n",
       "      <td>diva women printed mustard kurta</td>\n",
       "    </tr>\n",
       "  </tbody>\n",
       "</table>\n",
       "</div>"
      ],
      "text/plain": [
       "    articleType                                        description     id  \\\n",
       "0       tshirts  <p style=\"text-align: justify;\">1. 100% cotton...   1845   \n",
       "1         jeans  <p><strong>Composition</strong><br /> Blue jea...  23455   \n",
       "2      earrings  <p>Silver earrings<br />Silver hoops with CZ s...  48721   \n",
       "3  casual_shoes  <p>Round toed shoes with central lace-ups<br /...  49381   \n",
       "4        kurtas  <p><strong>Composition</strong><br /> Mustard ...  25824   \n",
       "\n",
       "  masterCategory                      productDisplayName  \n",
       "0        Apparel             inkfruit mens surfer tshirt  \n",
       "1        Apparel  deni yo men blue washed slim fit jeans  \n",
       "2    Accessories            lucera women silver earrings  \n",
       "3       Footwear   vans men navy blue versa casual shoes  \n",
       "4        Apparel        diva women printed mustard kurta  "
      ]
     },
     "execution_count": 79,
     "metadata": {
      "tags": []
     },
     "output_type": "execute_result"
    }
   ],
   "source": [
    "descriptors_df.head()"
   ]
  },
  {
   "cell_type": "markdown",
   "metadata": {
    "colab_type": "text",
    "id": "yxMyywJyWS4o"
   },
   "source": [
    "## Preprocessing description"
   ]
  },
  {
   "cell_type": "code",
   "execution_count": 76,
   "metadata": {
    "colab": {
     "base_uri": "https://localhost:8080/",
     "height": 34
    },
    "colab_type": "code",
    "id": "qTQlAHjsaEIn",
    "outputId": "9e5c6e29-d213-4f19-fd93-5b217b80b302"
   },
   "outputs": [
    {
     "data": {
      "text/plain": [
       "False"
      ]
     },
     "execution_count": 76,
     "metadata": {
      "tags": []
     },
     "output_type": "execute_result"
    }
   ],
   "source": [
    "#checking for null values\n",
    "descriptors_df.description.isnull().any()"
   ]
  },
  {
   "cell_type": "markdown",
   "metadata": {
    "colab_type": "text",
    "id": "NTvT6DuDbykH"
   },
   "source": [
    "No null values found, preprocessing the following things"
   ]
  },
  {
   "cell_type": "markdown",
   "metadata": {
    "colab_type": "text",
    "id": "5UkEcYhEov18"
   },
   "source": [
    "1. Remove rows with description = '-'\n",
    "2. Remove html tags\n",
    "3. Remove words like Style Note, iuml, raquo, etc\n",
    "4. Removing Special Characters\n",
    "5. Stopword Removal"
   ]
  },
  {
   "cell_type": "code",
   "execution_count": 0,
   "metadata": {
    "colab": {},
    "colab_type": "code",
    "id": "h4DaOWXAYmVO"
   },
   "outputs": [],
   "source": [
    "#https://stackoverflow.com/questions/9662346/python-code-to-remove-html-tags-from-a-string\n",
    "#function for reomving html tags\n",
    "def cleanhtml(raw_html):\n",
    "  cleanr = re.compile('<.*?>')\n",
    "  cleantext = re.sub(cleanr, '', raw_html)\n",
    "  return cleantext\n",
    "\n",
    "#https://stackoverflow.com/questions/6116978/how-to-replace-multiple-substrings-of-a-string\n",
    "#function for removing multiple substrings in a string\n",
    "def replace_all(text, dic):\n",
    "    for i, j in dic.items():\n",
    "        text = text.replace(i, j)\n",
    "    return text"
   ]
  },
  {
   "cell_type": "code",
   "execution_count": 81,
   "metadata": {
    "colab": {
     "base_uri": "https://localhost:8080/",
     "height": 34
    },
    "colab_type": "code",
    "id": "m1vMKHPcmwe7",
    "outputId": "b119f879-ebcd-4d18-f037-c652fab41e0d"
   },
   "outputs": [
    {
     "name": "stderr",
     "output_type": "stream",
     "text": [
      "100%|██████████| 43440/43440 [09:04<00:00, 79.85it/s]\n"
     ]
    }
   ],
   "source": [
    "#removing rows which contain only '-' in description\n",
    "descriptors_df = descriptors_df[descriptors_df.description != '-']\n",
    "\n",
    "preprocessed_descriptors = []\n",
    "for text in tqdm(descriptors_df['description'].values):\n",
    "    text = cleanhtml(text)\n",
    "    \n",
    "    d = { 'Style Note' : '', 'Composition' : '', 'nbsp' : '', 'iuml' : '', 'raquo' : '', 'iquest' : ''}\n",
    "    text = replace_all(text, d)                                                                 #replace the above substrings with ''\n",
    "    \n",
    "    text = re.sub(r\"\\'s\", \" is\", text)\n",
    "    text = re.sub('[^A-Za-z0-9]+', ' ', text)                                                   #remove special characters\n",
    "    text = [word for word in text.split() if word.lower() not in stopwords.words('english')]    #gets a list of non stopwords\n",
    "    text = ' '.join(text)                                                                       #join the words of above list using space\n",
    "    preprocessed_descriptors.append(text.lower().strip())"
   ]
  },
  {
   "cell_type": "code",
   "execution_count": 0,
   "metadata": {
    "colab": {},
    "colab_type": "code",
    "id": "bj6-EO58rA8_"
   },
   "outputs": [],
   "source": [
    "data = pd.DataFrame()\n",
    "data['id'] = descriptors_df['id'].values\n",
    "data['articleType'] = descriptors_df['articleType'].values\n",
    "data['productDisplayName'] = descriptors_df['productDisplayName'].values\n",
    "data['preprocessed_description'] = preprocessed_descriptors\n",
    "data['masterCategory'] = descriptors_df['masterCategory'].values"
   ]
  },
  {
   "cell_type": "code",
   "execution_count": 83,
   "metadata": {
    "colab": {
     "base_uri": "https://localhost:8080/",
     "height": 206
    },
    "colab_type": "code",
    "id": "lIAXGwtzrciC",
    "outputId": "4cd9fd39-d7d3-467e-e351-ac36fc5e8991"
   },
   "outputs": [
    {
     "data": {
      "text/html": [
       "<div>\n",
       "<style scoped>\n",
       "    .dataframe tbody tr th:only-of-type {\n",
       "        vertical-align: middle;\n",
       "    }\n",
       "\n",
       "    .dataframe tbody tr th {\n",
       "        vertical-align: top;\n",
       "    }\n",
       "\n",
       "    .dataframe thead th {\n",
       "        text-align: right;\n",
       "    }\n",
       "</style>\n",
       "<table border=\"1\" class=\"dataframe\">\n",
       "  <thead>\n",
       "    <tr style=\"text-align: right;\">\n",
       "      <th></th>\n",
       "      <th>id</th>\n",
       "      <th>articleType</th>\n",
       "      <th>productDisplayName</th>\n",
       "      <th>preprocessed_description</th>\n",
       "      <th>masterCategory</th>\n",
       "    </tr>\n",
       "  </thead>\n",
       "  <tbody>\n",
       "    <tr>\n",
       "      <th>0</th>\n",
       "      <td>1845</td>\n",
       "      <td>tshirts</td>\n",
       "      <td>inkfruit mens surfer tshirt</td>\n",
       "      <td>1 100 cottonthe entire front side shirt covere...</td>\n",
       "      <td>Apparel</td>\n",
       "    </tr>\n",
       "    <tr>\n",
       "      <th>1</th>\n",
       "      <td>23455</td>\n",
       "      <td>jeans</td>\n",
       "      <td>deni yo men blue washed slim fit jeans</td>\n",
       "      <td>blue jeans washed distressed look made 100 cot...</td>\n",
       "      <td>Apparel</td>\n",
       "    </tr>\n",
       "    <tr>\n",
       "      <th>2</th>\n",
       "      <td>48721</td>\n",
       "      <td>earrings</td>\n",
       "      <td>lucera women silver earrings</td>\n",
       "      <td>silver earringssilver hoops cz stone insets ou...</td>\n",
       "      <td>Accessories</td>\n",
       "    </tr>\n",
       "    <tr>\n",
       "      <th>3</th>\n",
       "      <td>49381</td>\n",
       "      <td>casual_shoes</td>\n",
       "      <td>vans men navy blue versa casual shoes</td>\n",
       "      <td>round toed shoes central lace ups padded inner...</td>\n",
       "      <td>Footwear</td>\n",
       "    </tr>\n",
       "    <tr>\n",
       "      <th>4</th>\n",
       "      <td>25824</td>\n",
       "      <td>kurtas</td>\n",
       "      <td>diva women printed mustard kurta</td>\n",
       "      <td>mustard printed kurta made 100 cotton fabric t...</td>\n",
       "      <td>Apparel</td>\n",
       "    </tr>\n",
       "  </tbody>\n",
       "</table>\n",
       "</div>"
      ],
      "text/plain": [
       "      id   articleType                      productDisplayName  \\\n",
       "0   1845       tshirts             inkfruit mens surfer tshirt   \n",
       "1  23455         jeans  deni yo men blue washed slim fit jeans   \n",
       "2  48721      earrings            lucera women silver earrings   \n",
       "3  49381  casual_shoes   vans men navy blue versa casual shoes   \n",
       "4  25824        kurtas        diva women printed mustard kurta   \n",
       "\n",
       "                            preprocessed_description masterCategory  \n",
       "0  1 100 cottonthe entire front side shirt covere...        Apparel  \n",
       "1  blue jeans washed distressed look made 100 cot...        Apparel  \n",
       "2  silver earringssilver hoops cz stone insets ou...    Accessories  \n",
       "3  round toed shoes central lace ups padded inner...       Footwear  \n",
       "4  mustard printed kurta made 100 cotton fabric t...        Apparel  "
      ]
     },
     "execution_count": 83,
     "metadata": {
      "tags": []
     },
     "output_type": "execute_result"
    }
   ],
   "source": [
    "data.head()"
   ]
  },
  {
   "cell_type": "markdown",
   "metadata": {
    "colab_type": "text",
    "id": "UP4Z6edrthEe"
   },
   "source": [
    "## Storing preprocessed data into csv"
   ]
  },
  {
   "cell_type": "markdown",
   "metadata": {
    "colab_type": "text",
    "id": "R51Pofq3tOn2"
   },
   "source": [
    "Due to preprocessing some of the descriptions have become empty. This results in NaN values in csv. "
   ]
  },
  {
   "cell_type": "code",
   "execution_count": 90,
   "metadata": {
    "colab": {
     "base_uri": "https://localhost:8080/",
     "height": 206
    },
    "colab_type": "code",
    "id": "ZDWb2pNkZ13c",
    "outputId": "6443595a-ec74-4209-affe-00521323ce7e"
   },
   "outputs": [
    {
     "data": {
      "text/html": [
       "<div>\n",
       "<style scoped>\n",
       "    .dataframe tbody tr th:only-of-type {\n",
       "        vertical-align: middle;\n",
       "    }\n",
       "\n",
       "    .dataframe tbody tr th {\n",
       "        vertical-align: top;\n",
       "    }\n",
       "\n",
       "    .dataframe thead th {\n",
       "        text-align: right;\n",
       "    }\n",
       "</style>\n",
       "<table border=\"1\" class=\"dataframe\">\n",
       "  <thead>\n",
       "    <tr style=\"text-align: right;\">\n",
       "      <th></th>\n",
       "      <th>id</th>\n",
       "      <th>articleType</th>\n",
       "      <th>productDisplayName</th>\n",
       "      <th>preprocessed_description</th>\n",
       "      <th>masterCategory</th>\n",
       "    </tr>\n",
       "  </thead>\n",
       "  <tbody>\n",
       "    <tr>\n",
       "      <th>51</th>\n",
       "      <td>40652</td>\n",
       "      <td>kurtas</td>\n",
       "      <td>span women mustard kurta</td>\n",
       "      <td></td>\n",
       "      <td>Apparel</td>\n",
       "    </tr>\n",
       "    <tr>\n",
       "      <th>142</th>\n",
       "      <td>45034</td>\n",
       "      <td>watches</td>\n",
       "      <td>maxima men black dial watch</td>\n",
       "      <td></td>\n",
       "      <td>Accessories</td>\n",
       "    </tr>\n",
       "    <tr>\n",
       "      <th>529</th>\n",
       "      <td>40639</td>\n",
       "      <td>kurtas</td>\n",
       "      <td>span women rust kurta</td>\n",
       "      <td></td>\n",
       "      <td>Apparel</td>\n",
       "    </tr>\n",
       "    <tr>\n",
       "      <th>536</th>\n",
       "      <td>40629</td>\n",
       "      <td>kurtas</td>\n",
       "      <td>span women olive green kurta</td>\n",
       "      <td></td>\n",
       "      <td>Apparel</td>\n",
       "    </tr>\n",
       "    <tr>\n",
       "      <th>600</th>\n",
       "      <td>27819</td>\n",
       "      <td>belts</td>\n",
       "      <td>bulchee men padded chino brown belt</td>\n",
       "      <td></td>\n",
       "      <td>Accessories</td>\n",
       "    </tr>\n",
       "  </tbody>\n",
       "</table>\n",
       "</div>"
      ],
      "text/plain": [
       "        id articleType                   productDisplayName  \\\n",
       "51   40652      kurtas             span women mustard kurta   \n",
       "142  45034     watches          maxima men black dial watch   \n",
       "529  40639      kurtas                span women rust kurta   \n",
       "536  40629      kurtas         span women olive green kurta   \n",
       "600  27819       belts  bulchee men padded chino brown belt   \n",
       "\n",
       "    preprocessed_description masterCategory  \n",
       "51                                  Apparel  \n",
       "142                             Accessories  \n",
       "529                                 Apparel  \n",
       "536                                 Apparel  \n",
       "600                             Accessories  "
      ]
     },
     "execution_count": 90,
     "metadata": {
      "tags": []
     },
     "output_type": "execute_result"
    }
   ],
   "source": [
    "data[data.preprocessed_description == ''].head()"
   ]
  },
  {
   "cell_type": "markdown",
   "metadata": {
    "colab_type": "text",
    "id": "qaeL8Xn3uElU"
   },
   "source": [
    "Lests see what was the extracted description at these ids"
   ]
  },
  {
   "cell_type": "code",
   "execution_count": 95,
   "metadata": {
    "colab": {
     "base_uri": "https://localhost:8080/",
     "height": 206
    },
    "colab_type": "code",
    "id": "qh6VRIqjfQ6G",
    "outputId": "349e6586-96dc-4fe3-9732-9bb7624a3907"
   },
   "outputs": [
    {
     "data": {
      "text/html": [
       "<div>\n",
       "<style scoped>\n",
       "    .dataframe tbody tr th:only-of-type {\n",
       "        vertical-align: middle;\n",
       "    }\n",
       "\n",
       "    .dataframe tbody tr th {\n",
       "        vertical-align: top;\n",
       "    }\n",
       "\n",
       "    .dataframe thead th {\n",
       "        text-align: right;\n",
       "    }\n",
       "</style>\n",
       "<table border=\"1\" class=\"dataframe\">\n",
       "  <thead>\n",
       "    <tr style=\"text-align: right;\">\n",
       "      <th></th>\n",
       "      <th>articleType</th>\n",
       "      <th>description</th>\n",
       "      <th>id</th>\n",
       "      <th>masterCategory</th>\n",
       "      <th>productDisplayName</th>\n",
       "    </tr>\n",
       "  </thead>\n",
       "  <tbody>\n",
       "    <tr>\n",
       "      <th>54</th>\n",
       "      <td>kurtas</td>\n",
       "      <td>&lt;p&gt;Style Note&lt;/p&gt;</td>\n",
       "      <td>40652</td>\n",
       "      <td>Apparel</td>\n",
       "      <td>span women mustard kurta</td>\n",
       "    </tr>\n",
       "    <tr>\n",
       "      <th>146</th>\n",
       "      <td>watches</td>\n",
       "      <td>&lt;p&gt;Style Note&lt;/p&gt;</td>\n",
       "      <td>45034</td>\n",
       "      <td>Accessories</td>\n",
       "      <td>maxima men black dial watch</td>\n",
       "    </tr>\n",
       "    <tr>\n",
       "      <th>545</th>\n",
       "      <td>kurtas</td>\n",
       "      <td>&lt;p&gt;Style Note&lt;/p&gt;</td>\n",
       "      <td>40639</td>\n",
       "      <td>Apparel</td>\n",
       "      <td>span women rust kurta</td>\n",
       "    </tr>\n",
       "    <tr>\n",
       "      <th>552</th>\n",
       "      <td>kurtas</td>\n",
       "      <td>&lt;p&gt;Style Note&lt;/p&gt;</td>\n",
       "      <td>40629</td>\n",
       "      <td>Apparel</td>\n",
       "      <td>span women olive green kurta</td>\n",
       "    </tr>\n",
       "    <tr>\n",
       "      <th>616</th>\n",
       "      <td>belts</td>\n",
       "      <td>&lt;p&gt;Style Note&lt;/p&gt;</td>\n",
       "      <td>27819</td>\n",
       "      <td>Accessories</td>\n",
       "      <td>bulchee men padded chino brown belt</td>\n",
       "    </tr>\n",
       "  </tbody>\n",
       "</table>\n",
       "</div>"
      ],
      "text/plain": [
       "    articleType        description     id masterCategory  \\\n",
       "54       kurtas  <p>Style Note</p>  40652        Apparel   \n",
       "146     watches  <p>Style Note</p>  45034    Accessories   \n",
       "545      kurtas  <p>Style Note</p>  40639        Apparel   \n",
       "552      kurtas  <p>Style Note</p>  40629        Apparel   \n",
       "616       belts  <p>Style Note</p>  27819    Accessories   \n",
       "\n",
       "                      productDisplayName  \n",
       "54              span women mustard kurta  \n",
       "146          maxima men black dial watch  \n",
       "545                span women rust kurta  \n",
       "552         span women olive green kurta  \n",
       "616  bulchee men padded chino brown belt  "
      ]
     },
     "execution_count": 95,
     "metadata": {
      "tags": []
     },
     "output_type": "execute_result"
    }
   ],
   "source": [
    "ids = data[data.preprocessed_description == ''].head().id.values                        #taking the above ids\n",
    "descriptors_df.loc[descriptors_df['id'].isin(ids)]"
   ]
  },
  {
   "cell_type": "markdown",
   "metadata": {
    "colab_type": "text",
    "id": "Kdp2vP7DvSl7"
   },
   "source": [
    "As extracted dataset contain only Style Note in its description, the preprocessed dataset has nothing in its description."
   ]
  },
  {
   "cell_type": "markdown",
   "metadata": {
    "colab_type": "text",
    "id": "1JgSZA8EvpzI"
   },
   "source": [
    "Removing rows with no description"
   ]
  },
  {
   "cell_type": "code",
   "execution_count": 0,
   "metadata": {
    "colab": {},
    "colab_type": "code",
    "id": "jLBfaw_Xcktr"
   },
   "outputs": [],
   "source": [
    "data = data[data.preprocessed_description != '']"
   ]
  },
  {
   "cell_type": "code",
   "execution_count": 97,
   "metadata": {
    "colab": {
     "base_uri": "https://localhost:8080/",
     "height": 191
    },
    "colab_type": "code",
    "id": "cbIGKlJbdRZQ",
    "outputId": "62453efb-2e0a-42c8-ab2a-0ae22881d04e"
   },
   "outputs": [
    {
     "name": "stdout",
     "output_type": "stream",
     "text": [
      "<class 'pandas.core.frame.DataFrame'>\n",
      "Int64Index: 43316 entries, 0 to 43439\n",
      "Data columns (total 5 columns):\n",
      "id                          43316 non-null int64\n",
      "articleType                 43316 non-null object\n",
      "productDisplayName          43316 non-null object\n",
      "preprocessed_description    43316 non-null object\n",
      "masterCategory              43316 non-null object\n",
      "dtypes: int64(1), object(4)\n",
      "memory usage: 2.0+ MB\n"
     ]
    }
   ],
   "source": [
    "data.info()"
   ]
  },
  {
   "cell_type": "code",
   "execution_count": 0,
   "metadata": {
    "colab": {},
    "colab_type": "code",
    "id": "lDLXxwPTwCqL"
   },
   "outputs": [],
   "source": [
    "data.to_csv('preprocessed_data.csv', index = False)"
   ]
  },
  {
   "cell_type": "markdown",
   "metadata": {
    "colab_type": "text",
    "id": "glCm7ZqRv40f"
   },
   "source": [
    "# Data Analysis"
   ]
  },
  {
   "cell_type": "code",
   "execution_count": 0,
   "metadata": {
    "colab": {},
    "colab_type": "code",
    "id": "ZK2YFvPqwCqd"
   },
   "outputs": [],
   "source": [
    "data = pd.read_csv('preprocessed_data.csv')"
   ]
  },
  {
   "cell_type": "code",
   "execution_count": 100,
   "metadata": {
    "colab": {
     "base_uri": "https://localhost:8080/",
     "height": 191
    },
    "colab_type": "code",
    "id": "P1hBgq-VwCqn",
    "outputId": "35e795ed-96b0-4a68-eaa2-83e0f6863237"
   },
   "outputs": [
    {
     "name": "stdout",
     "output_type": "stream",
     "text": [
      "<class 'pandas.core.frame.DataFrame'>\n",
      "RangeIndex: 43316 entries, 0 to 43315\n",
      "Data columns (total 5 columns):\n",
      "id                          43316 non-null int64\n",
      "articleType                 43316 non-null object\n",
      "productDisplayName          43316 non-null object\n",
      "preprocessed_description    43316 non-null object\n",
      "masterCategory              43316 non-null object\n",
      "dtypes: int64(1), object(4)\n",
      "memory usage: 1.7+ MB\n"
     ]
    }
   ],
   "source": [
    "data.info()"
   ]
  },
  {
   "cell_type": "code",
   "execution_count": 101,
   "metadata": {
    "colab": {
     "base_uri": "https://localhost:8080/",
     "height": 34
    },
    "colab_type": "code",
    "id": "9xavxAFT5e39",
    "outputId": "0c47af8b-578c-49a1-cbd1-45edb645fc5b"
   },
   "outputs": [
    {
     "name": "stdout",
     "output_type": "stream",
     "text": [
      "Total number of data points are 43316\n"
     ]
    }
   ],
   "source": [
    "print('Total number of data points are', data.shape[0])"
   ]
  },
  {
   "cell_type": "markdown",
   "metadata": {
    "colab_type": "text",
    "id": "tOzGIaF64FHj"
   },
   "source": [
    "## Distribution of class labels "
   ]
  },
  {
   "cell_type": "code",
   "execution_count": 102,
   "metadata": {
    "colab": {
     "base_uri": "https://localhost:8080/",
     "height": 475
    },
    "colab_type": "code",
    "id": "t0SUPjpg34Xo",
    "outputId": "3ef6e4ca-30df-43b6-f8d3-19f460a84a05"
   },
   "outputs": [
    {
     "data": {
      "image/png": "[encoded data removed]",
      "text/plain": [
       "<Figure size 432x288 with 1 Axes>"
      ]
     },
     "metadata": {
      "tags": []
     },
     "output_type": "display_data"
    },
    {
     "name": "stdout",
     "output_type": "stream",
     "text": [
      "Number of data points in class 1 : 20955 ( 48.377 %)\n",
      "Number of data points in class 0 : 10940 ( 25.256 %)\n",
      "Number of data points in class 2 : 8902 ( 20.551 %)\n",
      "Number of data points in class 5 : 2396 ( 5.531 %)\n",
      "Number of data points in class 3 : 99 ( 0.229 %)\n",
      "Number of data points in class 6 : 23 ( 0.053 %)\n",
      "Number of data points in class 4 : 1 ( 0.002 %)\n"
     ]
    }
   ],
   "source": [
    "value_counts = data['masterCategory'].value_counts().sortlevel()\n",
    "\n",
    "value_counts.plot(kind = 'bar')\n",
    "plt.xlabel('Class')\n",
    "plt.ylabel('Number of points')\n",
    "plt.title('Data points per class')\n",
    "plt.show()\n",
    "\n",
    "sorted_vc = np.argsort(-value_counts.values)\n",
    "for i in sorted_vc:\n",
    "    print('Number of data points in class', i, ':',value_counts.values[i], '(', np.round((value_counts.values[i]/data.shape[0]*100), 3), '%)')"
   ]
  },
  {
   "cell_type": "markdown",
   "metadata": {
    "colab_type": "text",
    "id": "xhIyJwFC82DP"
   },
   "source": [
    "The data is highly imbalaced, with class 1 covering 48% of total datapoints whiles classes 3 and 6 have only 0.229% and 0.053% of points. There is only one point for class 4 i.e. 0.002% of whole dataset."
   ]
  },
  {
   "cell_type": "markdown",
   "metadata": {
    "colab_type": "text",
    "id": "_-uZhReX6ndZ"
   },
   "source": [
    "As we have only one data point in 'Home' Class we remove that class"
   ]
  },
  {
   "cell_type": "code",
   "execution_count": 0,
   "metadata": {
    "colab": {},
    "colab_type": "code",
    "id": "e6mVhIFq0bwq"
   },
   "outputs": [],
   "source": [
    "data = data[data.masterCategory != 'Home']"
   ]
  },
  {
   "cell_type": "markdown",
   "metadata": {
    "colab_type": "text",
    "id": "6vcgvRliwufa"
   },
   "source": [
    "### Convering Categorical output into numerical output"
   ]
  },
  {
   "cell_type": "code",
   "execution_count": 104,
   "metadata": {
    "colab": {
     "base_uri": "https://localhost:8080/",
     "height": 241
    },
    "colab_type": "code",
    "id": "TWXEbpL9wdBJ",
    "outputId": "36cbc78f-295c-47f8-955d-333e3275aa99"
   },
   "outputs": [
    {
     "data": {
      "text/html": [
       "<div>\n",
       "<style scoped>\n",
       "    .dataframe tbody tr th:only-of-type {\n",
       "        vertical-align: middle;\n",
       "    }\n",
       "\n",
       "    .dataframe tbody tr th {\n",
       "        vertical-align: top;\n",
       "    }\n",
       "\n",
       "    .dataframe thead th {\n",
       "        text-align: right;\n",
       "    }\n",
       "</style>\n",
       "<table border=\"1\" class=\"dataframe\">\n",
       "  <thead>\n",
       "    <tr style=\"text-align: right;\">\n",
       "      <th></th>\n",
       "      <th>id</th>\n",
       "      <th>articleType</th>\n",
       "      <th>productDisplayName</th>\n",
       "      <th>preprocessed_description</th>\n",
       "      <th>masterCategory</th>\n",
       "      <th>masterCategoryEncoded</th>\n",
       "    </tr>\n",
       "  </thead>\n",
       "  <tbody>\n",
       "    <tr>\n",
       "      <th>0</th>\n",
       "      <td>1845</td>\n",
       "      <td>tshirts</td>\n",
       "      <td>inkfruit mens surfer tshirt</td>\n",
       "      <td>1 100 cottonthe entire front side shirt covere...</td>\n",
       "      <td>Apparel</td>\n",
       "      <td>1</td>\n",
       "    </tr>\n",
       "    <tr>\n",
       "      <th>1</th>\n",
       "      <td>23455</td>\n",
       "      <td>jeans</td>\n",
       "      <td>deni yo men blue washed slim fit jeans</td>\n",
       "      <td>blue jeans washed distressed look made 100 cot...</td>\n",
       "      <td>Apparel</td>\n",
       "      <td>1</td>\n",
       "    </tr>\n",
       "    <tr>\n",
       "      <th>2</th>\n",
       "      <td>48721</td>\n",
       "      <td>earrings</td>\n",
       "      <td>lucera women silver earrings</td>\n",
       "      <td>silver earringssilver hoops cz stone insets ou...</td>\n",
       "      <td>Accessories</td>\n",
       "      <td>0</td>\n",
       "    </tr>\n",
       "    <tr>\n",
       "      <th>3</th>\n",
       "      <td>49381</td>\n",
       "      <td>casual_shoes</td>\n",
       "      <td>vans men navy blue versa casual shoes</td>\n",
       "      <td>round toed shoes central lace ups padded inner...</td>\n",
       "      <td>Footwear</td>\n",
       "      <td>2</td>\n",
       "    </tr>\n",
       "    <tr>\n",
       "      <th>4</th>\n",
       "      <td>25824</td>\n",
       "      <td>kurtas</td>\n",
       "      <td>diva women printed mustard kurta</td>\n",
       "      <td>mustard printed kurta made 100 cotton fabric t...</td>\n",
       "      <td>Apparel</td>\n",
       "      <td>1</td>\n",
       "    </tr>\n",
       "  </tbody>\n",
       "</table>\n",
       "</div>"
      ],
      "text/plain": [
       "      id   articleType                      productDisplayName  \\\n",
       "0   1845       tshirts             inkfruit mens surfer tshirt   \n",
       "1  23455         jeans  deni yo men blue washed slim fit jeans   \n",
       "2  48721      earrings            lucera women silver earrings   \n",
       "3  49381  casual_shoes   vans men navy blue versa casual shoes   \n",
       "4  25824        kurtas        diva women printed mustard kurta   \n",
       "\n",
       "                            preprocessed_description masterCategory  \\\n",
       "0  1 100 cottonthe entire front side shirt covere...        Apparel   \n",
       "1  blue jeans washed distressed look made 100 cot...        Apparel   \n",
       "2  silver earringssilver hoops cz stone insets ou...    Accessories   \n",
       "3  round toed shoes central lace ups padded inner...       Footwear   \n",
       "4  mustard printed kurta made 100 cotton fabric t...        Apparel   \n",
       "\n",
       "   masterCategoryEncoded  \n",
       "0                      1  \n",
       "1                      1  \n",
       "2                      0  \n",
       "3                      2  \n",
       "4                      1  "
      ]
     },
     "execution_count": 104,
     "metadata": {
      "tags": []
     },
     "output_type": "execute_result"
    }
   ],
   "source": [
    "le = LabelEncoder()\n",
    "\n",
    "masterCategoryEncoded = le.fit_transform(data['masterCategory'])\n",
    "data['masterCategoryEncoded'] = masterCategoryEncoded\n",
    "data.head()"
   ]
  },
  {
   "cell_type": "markdown",
   "metadata": {
    "colab_type": "text",
    "id": "_tMLPhcTjw8e"
   },
   "source": [
    "## Analysis on articleType"
   ]
  },
  {
   "cell_type": "code",
   "execution_count": 113,
   "metadata": {
    "colab": {
     "base_uri": "https://localhost:8080/",
     "height": 1094
    },
    "colab_type": "code",
    "id": "ehcw7ysQlBDY",
    "outputId": "a3533197-e3cb-444c-f488-1d018013b245"
   },
   "outputs": [
    {
     "data": {
      "text/plain": [
       "tshirts                      6950\n",
       "shirts                       3188\n",
       "casual_shoes                 2683\n",
       "watches                      2329\n",
       "sports_shoes                 2017\n",
       "kurtas                       1753\n",
       "handbags                     1745\n",
       "tops                         1704\n",
       "heels                        1305\n",
       "sunglasses                   1070\n",
       "wallets                       922\n",
       "flip_flops                    872\n",
       "sandals                       863\n",
       "briefs                        844\n",
       "belts                         786\n",
       "backpacks                     709\n",
       "socks                         664\n",
       "perfume_and_body_mist         608\n",
       "formal_shoes                  605\n",
       "jeans                         597\n",
       "shorts                        533\n",
       "trousers                      519\n",
       "flats                         491\n",
       "bra                           473\n",
       "dresses                       449\n",
       "sarees                        422\n",
       "earrings                      417\n",
       "deodorant                     347\n",
       "nail_polish                   328\n",
       "lipstick                      314\n",
       "                             ... \n",
       "wristbands                      7\n",
       "footballs                       7\n",
       "salwar_and_dupatta              7\n",
       "body_lotion                     6\n",
       "eye_cream                       6\n",
       "nail_essentials                 6\n",
       "umbrellas                       6\n",
       "shrug                           6\n",
       "toner                           5\n",
       "face_scrub_and_exfoliator       5\n",
       "nehru_jackets                   4\n",
       "makeup_remover                  4\n",
       "lehenga_choli                   4\n",
       "lip_plumper                     4\n",
       "robe                            4\n",
       "beauty_accessory                4\n",
       "tablet_sleeve                   3\n",
       "trolley_bag                     3\n",
       "lounge_tshirts                  3\n",
       "hat                             3\n",
       "ties_and_cufflinks              2\n",
       "face_serum_and_gel              2\n",
       "rain_trousers                   2\n",
       "key_chain                       2\n",
       "body_wash_and_scrub             1\n",
       "ipad                            1\n",
       "suits                           1\n",
       "hair_accessory                  1\n",
       "shoe_laces                      1\n",
       "mens_grooming_kit               1\n",
       "Name: articleType, Length: 142, dtype: int64"
      ]
     },
     "execution_count": 113,
     "metadata": {
      "tags": []
     },
     "output_type": "execute_result"
    }
   ],
   "source": [
    "#different articles and their number of occurances\n",
    "data['articleType'].value_counts()"
   ]
  },
  {
   "cell_type": "code",
   "execution_count": 112,
   "metadata": {
    "colab": {
     "base_uri": "https://localhost:8080/",
     "height": 34
    },
    "colab_type": "code",
    "id": "KdjQnpEjj1Y0",
    "outputId": "af7c03fd-6a7e-4a2f-c860-e31859b3ff42"
   },
   "outputs": [
    {
     "name": "stdout",
     "output_type": "stream",
     "text": [
      "Total unique values in articleType are 142\n"
     ]
    }
   ],
   "source": [
    "print('Total unique values in articleType are', len(data['articleType'].unique()))"
   ]
  },
  {
   "cell_type": "markdown",
   "metadata": {
    "colab_type": "text",
    "id": "8-BSm8aPlg75"
   },
   "source": [
    "### Top articleType for each class"
   ]
  },
  {
   "cell_type": "code",
   "execution_count": 116,
   "metadata": {
    "colab": {
     "base_uri": "https://localhost:8080/",
     "height": 442
    },
    "colab_type": "code",
    "id": "a1O4Vm4glemi",
    "outputId": "d8e9a6d6-45ab-4d17-e208-4fe0aaa8dd50"
   },
   "outputs": [
    {
     "data": {
      "image/png": "[encoded data removed]",
      "text/plain": [
       "<Figure size 1296x504 with 6 Axes>"
      ]
     },
     "metadata": {
      "tags": []
     },
     "output_type": "display_data"
    }
   ],
   "source": [
    "fix, axs = plt.subplots(nrows = 2, ncols = 3, figsize=(18, 7))\n",
    "\n",
    "for i in range(2):\n",
    "    for j in range(3):\n",
    "        feature_counts = data[data['masterCategoryEncoded'] == i*3+j].groupby('articleType')['id'].count().reset_index()         #selecting a master category and grouping by articleType and counting values, 'id' is provided so that count values becomes a column\n",
    "        sorted_feature_counts = feature_counts.sort_values('id', ascending = False)[0:5]\n",
    "        sns.barplot(x = 'id', y = 'articleType', data = sorted_feature_counts, ax=axs[i][j])"
   ]
  },
  {
   "cell_type": "markdown",
   "metadata": {
    "colab_type": "text",
    "id": "tHa-Pbhrm9l1"
   },
   "source": [
    "Top articleType for each class are very different, hence this feature can be very usefull in classification."
   ]
  },
  {
   "cell_type": "markdown",
   "metadata": {
    "colab_type": "text",
    "id": "aHg4NUl0m3z1"
   },
   "source": [
    "## Analysis on displayName"
   ]
  },
  {
   "cell_type": "markdown",
   "metadata": {
    "colab_type": "text",
    "id": "3tgkZKtynPPt"
   },
   "source": [
    "### Top words for each class"
   ]
  },
  {
   "cell_type": "code",
   "execution_count": 0,
   "metadata": {
    "colab": {},
    "colab_type": "code",
    "id": "-b00arPbnPP2"
   },
   "outputs": [],
   "source": [
    "#creating a dictionary which will contain a word as key and its frequency as value for a single class\n",
    "\n",
    "#takes a dataframe which will contain rows of a particular class\n",
    "def dictionary_for_class(df):\n",
    "    dictionary = defaultdict(int)\n",
    "    for index, row in df.iterrows():\n",
    "        for word in row['productDisplayName'].split():\n",
    "            dictionary[word] +=1\n",
    "    return dictionary"
   ]
  },
  {
   "cell_type": "code",
   "execution_count": 0,
   "metadata": {
    "colab": {},
    "colab_type": "code",
    "id": "WpQv9vb4nPQE"
   },
   "outputs": [],
   "source": [
    "dict_list = []                                             #a dictionary which will contain 6 dictionarys for each class\n",
    "\n",
    "for i in range(0,6):\n",
    "    df = data[data['masterCategoryEncoded'] == i]\n",
    "    dict_list.append(dictionary_for_class(df))"
   ]
  },
  {
   "cell_type": "code",
   "execution_count": 119,
   "metadata": {
    "colab": {
     "base_uri": "https://localhost:8080/",
     "height": 442
    },
    "colab_type": "code",
    "id": "yT3GJNUhnPQN",
    "outputId": "4bc3a57b-d009-474f-e416-5362862c7f5a"
   },
   "outputs": [
    {
     "data": {
      "image/png": "[encoded data removed]",
      "text/plain": [
       "<Figure size 1296x504 with 6 Axes>"
      ]
     },
     "metadata": {
      "tags": []
     },
     "output_type": "display_data"
    }
   ],
   "source": [
    "fix, axs = plt.subplots(nrows = 2, ncols = 3, figsize=(18, 7))\n",
    "\n",
    "for i in range(2):\n",
    "    for j in range(3):\n",
    "        temp = pd.DataFrame(list(dict_list[(i*3+j)].items()), columns = ['Words', 'Counts'])\n",
    "        sorted_words = temp.sort_values('Counts', ascending = False)[:10]\n",
    "        sns.barplot(x = \"Counts\", y = \"Words\", data = sorted_words, ax=axs[i][j])"
   ]
  },
  {
   "cell_type": "markdown",
   "metadata": {
    "colab_type": "text",
    "id": "wKFAzdibnp6H"
   },
   "source": [
    "Top words for each categories have some common words like, men, women, black. white, etc. Hence this feature wont be much usefull in classification"
   ]
  },
  {
   "cell_type": "markdown",
   "metadata": {
    "colab_type": "text",
    "id": "wfkSAs3ioM0o"
   },
   "source": [
    "## Analysis on discription"
   ]
  },
  {
   "cell_type": "markdown",
   "metadata": {
    "colab_type": "text",
    "id": "D03ohF9M9bkj"
   },
   "source": [
    "### Top words for each class"
   ]
  },
  {
   "cell_type": "code",
   "execution_count": 0,
   "metadata": {
    "colab": {},
    "colab_type": "code",
    "id": "8atPydAM1hBX"
   },
   "outputs": [],
   "source": [
    "#creating a dictionary which will contain a word as key and its frequency as value for a single class\n",
    "\n",
    "#takes a dataframe which will contain rows of a particular class\n",
    "def dictionary_for_class(df):\n",
    "    dictionary = defaultdict(int)\n",
    "    for index, row in df.iterrows():\n",
    "        for word in row['preprocessed_description'].split():\n",
    "            dictionary[word] +=1\n",
    "    return dictionary"
   ]
  },
  {
   "cell_type": "code",
   "execution_count": 0,
   "metadata": {
    "colab": {},
    "colab_type": "code",
    "id": "rezuLg8Q2VTS"
   },
   "outputs": [],
   "source": [
    "dict_list = []                                             #a dictionary which will contain 6 dictionarys for each class\n",
    "\n",
    "for i in range(0,6):\n",
    "    df = data[data['masterCategoryEncoded'] == i]\n",
    "    dict_list.append(dictionary_for_class(df))"
   ]
  },
  {
   "cell_type": "code",
   "execution_count": 122,
   "metadata": {
    "colab": {
     "base_uri": "https://localhost:8080/",
     "height": 442
    },
    "colab_type": "code",
    "id": "n7BHFlMt29jE",
    "outputId": "87716929-ef39-47be-cd54-85e116473997"
   },
   "outputs": [
    {
     "data": {
      "image/png": "[encoded data removed]",
      "text/plain": [
       "<Figure size 1296x504 with 6 Axes>"
      ]
     },
     "metadata": {
      "tags": []
     },
     "output_type": "display_data"
    }
   ],
   "source": [
    "fix, axs = plt.subplots(nrows = 2, ncols = 3, figsize=(18, 7))\n",
    "\n",
    "for i in range(2):\n",
    "    for j in range(3):\n",
    "        temp = pd.DataFrame(list(dict_list[(i*3+j)].items()), columns = ['Words', 'Counts'])\n",
    "        sorted_words = temp.sort_values('Counts', ascending = False)[:10]\n",
    "        sns.barplot(x = \"Counts\", y = \"Words\", data = sorted_words, ax=axs[i][j])"
   ]
  },
  {
   "cell_type": "markdown",
   "metadata": {
    "colab_type": "text",
    "id": "siysFSNi-zQW"
   },
   "source": [
    "Top words are each class are very different except for class 0 and 3 i.e Accessories and Free Items. Maybe many of the  Free Items are Accessories."
   ]
  },
  {
   "cell_type": "markdown",
   "metadata": {
    "colab_type": "text",
    "id": "A5ABoYRE_mtR"
   },
   "source": [
    "As top words for each class are different we can easily classify the data points. However there are very few data points for Free Items and Sporting Goods classes, which can be a problem."
   ]
  },
  {
   "cell_type": "markdown",
   "metadata": {
    "colab_type": "text",
    "id": "v1O7Xcz8pqk_"
   },
   "source": [
    "# Creating train and test dataset"
   ]
  },
  {
   "cell_type": "markdown",
   "metadata": {
    "colab_type": "text",
    "id": "rkx9vulQ_tYl"
   },
   "source": [
    "## Splitting the dataset"
   ]
  },
  {
   "cell_type": "code",
   "execution_count": 143,
   "metadata": {
    "colab": {
     "base_uri": "https://localhost:8080/",
     "height": 34
    },
    "colab_type": "code",
    "id": "XoV92m8X93XV",
    "outputId": "450478be-d0a6-445a-a8d7-c5ed3594c2bb"
   },
   "outputs": [
    {
     "name": "stdout",
     "output_type": "stream",
     "text": [
      "Shape of tr data, cv data and test data is :  (34652, 3) (8663, 3)\n"
     ]
    }
   ],
   "source": [
    "#creating input and output parts\n",
    "X = data.drop(['id', 'masterCategory', 'masterCategoryEncoded'], axis = 1)\n",
    "Y = data['masterCategoryEncoded']\n",
    "\n",
    "#splitting the data into train/test\n",
    "X_tr, X_test, Y_tr, Y_test = train_test_split(X, Y, test_size = 0.2, stratify = Y, random_state = 0)\n",
    "\n",
    "print(\"Shape of tr data, cv data and test data is : \", X_tr.shape, X_test.shape)"
   ]
  },
  {
   "cell_type": "code",
   "execution_count": 144,
   "metadata": {
    "colab": {
     "base_uri": "https://localhost:8080/",
     "height": 206
    },
    "colab_type": "code",
    "id": "gSh6EY43o8iV",
    "outputId": "448f0e74-cc4f-460e-b46a-ba9618953063"
   },
   "outputs": [
    {
     "data": {
      "text/html": [
       "<div>\n",
       "<style scoped>\n",
       "    .dataframe tbody tr th:only-of-type {\n",
       "        vertical-align: middle;\n",
       "    }\n",
       "\n",
       "    .dataframe tbody tr th {\n",
       "        vertical-align: top;\n",
       "    }\n",
       "\n",
       "    .dataframe thead th {\n",
       "        text-align: right;\n",
       "    }\n",
       "</style>\n",
       "<table border=\"1\" class=\"dataframe\">\n",
       "  <thead>\n",
       "    <tr style=\"text-align: right;\">\n",
       "      <th></th>\n",
       "      <th>articleType</th>\n",
       "      <th>productDisplayName</th>\n",
       "      <th>preprocessed_description</th>\n",
       "    </tr>\n",
       "  </thead>\n",
       "  <tbody>\n",
       "    <tr>\n",
       "      <th>33623</th>\n",
       "      <td>dresses</td>\n",
       "      <td>doodle girls printed pink dress</td>\n",
       "      <td>pink cream black printed dress made 100 cotton...</td>\n",
       "    </tr>\n",
       "    <tr>\n",
       "      <th>40591</th>\n",
       "      <td>tshirts</td>\n",
       "      <td>lotto women cathy pink tshirt</td>\n",
       "      <td>pink v neck shirt short sleeves gold embroider...</td>\n",
       "    </tr>\n",
       "    <tr>\n",
       "      <th>7049</th>\n",
       "      <td>nightdress</td>\n",
       "      <td>red rose women blue nightdress</td>\n",
       "      <td>light blue knee length night dress orange trim...</td>\n",
       "    </tr>\n",
       "    <tr>\n",
       "      <th>42746</th>\n",
       "      <td>sports_shoes</td>\n",
       "      <td>nike women white sports shoes</td>\n",
       "      <td>superior grip ultra lightweight package city c...</td>\n",
       "    </tr>\n",
       "    <tr>\n",
       "      <th>2714</th>\n",
       "      <td>sarees</td>\n",
       "      <td>fnf red &amp; blue evening wear sari</td>\n",
       "      <td>blue red mustard coloured printed georgette sari</td>\n",
       "    </tr>\n",
       "  </tbody>\n",
       "</table>\n",
       "</div>"
      ],
      "text/plain": [
       "        articleType                productDisplayName  \\\n",
       "33623       dresses   doodle girls printed pink dress   \n",
       "40591       tshirts     lotto women cathy pink tshirt   \n",
       "7049     nightdress    red rose women blue nightdress   \n",
       "42746  sports_shoes     nike women white sports shoes   \n",
       "2714         sarees  fnf red & blue evening wear sari   \n",
       "\n",
       "                                preprocessed_description  \n",
       "33623  pink cream black printed dress made 100 cotton...  \n",
       "40591  pink v neck shirt short sleeves gold embroider...  \n",
       "7049   light blue knee length night dress orange trim...  \n",
       "42746  superior grip ultra lightweight package city c...  \n",
       "2714    blue red mustard coloured printed georgette sari  "
      ]
     },
     "execution_count": 144,
     "metadata": {
      "tags": []
     },
     "output_type": "execute_result"
    }
   ],
   "source": [
    "X_tr.head()"
   ]
  },
  {
   "cell_type": "markdown",
   "metadata": {
    "colab_type": "text",
    "id": "5dbz3doJ7w4k"
   },
   "source": [
    "### Distribution of class labels for train and test data."
   ]
  },
  {
   "cell_type": "code",
   "execution_count": 145,
   "metadata": {
    "colab": {
     "base_uri": "https://localhost:8080/",
     "height": 789
    },
    "colab_type": "code",
    "id": "2txZ6rDn75Ev",
    "outputId": "036579a7-3e57-421b-eadd-347eafe3c298"
   },
   "outputs": [
    {
     "data": {
      "image/png": "[encoded data removed]",
      "text/plain": [
       "<Figure size 432x288 with 1 Axes>"
      ]
     },
     "metadata": {
      "tags": []
     },
     "output_type": "display_data"
    },
    {
     "name": "stdout",
     "output_type": "stream",
     "text": [
      "Number of data points in class 1 : 16764 ( 48.378 %)\n",
      "Number of data points in class 0 : 8752 ( 25.257 %)\n",
      "Number of data points in class 2 : 7122 ( 20.553 %)\n",
      "Number of data points in class 4 : 1917 ( 5.532 %)\n",
      "Number of data points in class 3 : 79 ( 0.228 %)\n",
      "Number of data points in class 5 : 18 ( 0.052 %)\n",
      "--------------------------------------------------------------------------------\n"
     ]
    },
    {
     "data": {
      "image/png": "[encoded data removed]",
      "text/plain": [
       "<Figure size 432x288 with 1 Axes>"
      ]
     },
     "metadata": {
      "tags": []
     },
     "output_type": "display_data"
    },
    {
     "name": "stdout",
     "output_type": "stream",
     "text": [
      "Number of data points in class 1 : 4191 ( 48.378 %)\n",
      "Number of data points in class 0 : 2188 ( 25.257 %)\n",
      "Number of data points in class 2 : 1780 ( 20.547 %)\n",
      "Number of data points in class 4 : 479 ( 5.529 %)\n",
      "Number of data points in class 3 : 20 ( 0.231 %)\n",
      "Number of data points in class 5 : 5 ( 0.058 %)\n"
     ]
    }
   ],
   "source": [
    "value_counts = Y_tr.value_counts().sortlevel()\n",
    "\n",
    "value_counts.plot(kind = 'bar')\n",
    "plt.xlabel('Class')\n",
    "plt.ylabel('Number of points')\n",
    "plt.title('Data points per class for train data')\n",
    "plt.show()\n",
    "\n",
    "sorted_vc = np.argsort(-value_counts.values)\n",
    "for i in sorted_vc:\n",
    "    print('Number of data points in class', i, ':',value_counts.values[i], '(', np.round((value_counts.values[i]/X_tr.shape[0]*100), 3), '%)')\n",
    "    \n",
    "   \n",
    "print('-'*80)\n",
    "value_counts = Y_test.value_counts().sortlevel()\n",
    "\n",
    "value_counts.plot(kind = 'bar')\n",
    "plt.xlabel('Class')\n",
    "plt.ylabel('Number of points')\n",
    "plt.title('Data points per class for test data')\n",
    "plt.show()\n",
    "\n",
    "sorted_vc = np.argsort(-value_counts.values)\n",
    "for i in sorted_vc:\n",
    "    print('Number of data points in class', i, ':',value_counts.values[i], '(', np.round((value_counts.values[i]/X_test.shape[0]*100), 3), '%)')"
   ]
  },
  {
   "cell_type": "markdown",
   "metadata": {
    "colab_type": "text",
    "id": "9WNlOQ2Rq7np"
   },
   "source": [
    "## Encoding Features"
   ]
  },
  {
   "cell_type": "markdown",
   "metadata": {
    "colab_type": "text",
    "id": "JRlVSa3trA0B"
   },
   "source": [
    "### One Hot encoding of articleType"
   ]
  },
  {
   "cell_type": "code",
   "execution_count": 146,
   "metadata": {
    "colab": {
     "base_uri": "https://localhost:8080/",
     "height": 52
    },
    "colab_type": "code",
    "id": "TzTIgYNMrIuF",
    "outputId": "df121392-41bf-4c07-aad1-4472314d01fb"
   },
   "outputs": [
    {
     "name": "stdout",
     "output_type": "stream",
     "text": [
      "Shape of matrix after one hot encoding  (34652, 140)\n",
      "Shape of matrix after one hot encoding  (8663, 140)\n"
     ]
    }
   ],
   "source": [
    "vectorizer = CountVectorizer(lowercase = False, binary = True)\n",
    "articleType_tr = vectorizer.fit_transform(X_tr['articleType'].values)\n",
    "articleType_test = vectorizer.transform(X_test['articleType'].values)\n",
    "\n",
    "print(\"Shape of matrix after one hot encoding \",articleType_tr.shape)\n",
    "print(\"Shape of matrix after one hot encoding \",articleType_test.shape)"
   ]
  },
  {
   "cell_type": "markdown",
   "metadata": {
    "colab_type": "text",
    "id": "Ieg3qpdtrzyy"
   },
   "source": [
    "### Bag of words encoding of product displayName"
   ]
  },
  {
   "cell_type": "code",
   "execution_count": 147,
   "metadata": {
    "colab": {
     "base_uri": "https://localhost:8080/",
     "height": 52
    },
    "colab_type": "code",
    "id": "-aVwdmOlr7xF",
    "outputId": "31e941ff-738a-4b6f-9d74-49c6da53bb1a"
   },
   "outputs": [
    {
     "name": "stdout",
     "output_type": "stream",
     "text": [
      "Shape of matrix after bow encoding  (34652, 1186)\n",
      "Shape of matrix after bow encoding  (8663, 1186)\n"
     ]
    }
   ],
   "source": [
    "vectorizer = CountVectorizer(min_df = 10)\n",
    "displayName_tr = vectorizer.fit_transform(X_tr['productDisplayName'])\n",
    "displayName_test = vectorizer.transform(X_test['productDisplayName'])\n",
    "\n",
    "print(\"Shape of matrix after bow encoding \",displayName_tr.shape)\n",
    "print(\"Shape of matrix after bow encoding \",displayName_test.shape)"
   ]
  },
  {
   "cell_type": "markdown",
   "metadata": {
    "colab_type": "text",
    "id": "v9BP-6bhAjw3"
   },
   "source": [
    "### Bag of words encoding of product description"
   ]
  },
  {
   "cell_type": "code",
   "execution_count": 148,
   "metadata": {
    "colab": {
     "base_uri": "https://localhost:8080/",
     "height": 52
    },
    "colab_type": "code",
    "id": "V6L6Gw_VAVXa",
    "outputId": "1ff1d6fd-afe3-4434-9985-e41a6f9f4b30"
   },
   "outputs": [
    {
     "name": "stdout",
     "output_type": "stream",
     "text": [
      "Shape of matrix after bow encoding  (34652, 7174)\n",
      "Shape of matrix after bow encoding  (8663, 7174)\n"
     ]
    }
   ],
   "source": [
    "vectorizer = CountVectorizer(min_df = 10)\n",
    "description_tr = vectorizer.fit_transform(X_tr['preprocessed_description'])\n",
    "description_test = vectorizer.transform(X_test['preprocessed_description'])\n",
    "\n",
    "print(\"Shape of matrix after bow encoding \",description_tr.shape)\n",
    "print(\"Shape of matrix after bow encoding \",description_test.shape)"
   ]
  },
  {
   "cell_type": "markdown",
   "metadata": {
    "colab_type": "text",
    "id": "-z4YYRsqs74O"
   },
   "source": [
    "### Stacking the above features"
   ]
  },
  {
   "cell_type": "code",
   "execution_count": 0,
   "metadata": {
    "colab": {},
    "colab_type": "code",
    "id": "v_iLU_Y1s_0x"
   },
   "outputs": [],
   "source": [
    "Xtr = hstack((articleType_tr, displayName_tr, description_tr)).tocsr()\n",
    "Xtest = hstack((articleType_test, displayName_test, description_test)).tocsr()"
   ]
  },
  {
   "cell_type": "markdown",
   "metadata": {
    "colab_type": "text",
    "id": "Avc_XSzL-J-_"
   },
   "source": [
    "## TSNE visualization of data points"
   ]
  },
  {
   "cell_type": "code",
   "execution_count": 150,
   "metadata": {
    "colab": {
     "base_uri": "https://localhost:8080/",
     "height": 456
    },
    "colab_type": "code",
    "id": "TgY8b6wQ-IXY",
    "outputId": "efe79a02-b59e-499d-c139-eba27f67f80b"
   },
   "outputs": [
    {
     "data": {
      "image/png": "[encoded data removed]",
      "text/plain": [
       "<Figure size 482x432 with 1 Axes>"
      ]
     },
     "metadata": {
      "tags": []
     },
     "output_type": "display_data"
    }
   ],
   "source": [
    "x = Xtr.toarray()[:5000]\n",
    "y = Y_tr[:5000]\n",
    "model = TSNE(n_components = 2, perplexity = 50, random_state = 0)\n",
    "tsne_data = model.fit_transform(x)\n",
    "tsne_data = np.vstack((tsne_data.T, y)).T\n",
    "tsne_df = pd.DataFrame(data = tsne_data, columns = (\"Dim_1\", \"Dim_2\", \"label\"))\n",
    "sns.FacetGrid(tsne_df, hue=\"label\", size=6).map(plt.scatter, 'Dim_1','Dim_2').add_legend()\n",
    "plt.title(\"TSNE visualtion of data points\")\n",
    "plt.show()"
   ]
  },
  {
   "cell_type": "markdown",
   "metadata": {
    "colab_type": "text",
    "id": "oCnyE3dbDym-"
   },
   "source": [
    "The graph shows that data is quite seperable, only at some points there is overlap between the classes"
   ]
  },
  {
   "cell_type": "markdown",
   "metadata": {
    "colab_type": "text",
    "id": "GpumCpjfCnT8"
   },
   "source": [
    "# Machine Learning Modelling"
   ]
  },
  {
   "cell_type": "code",
   "execution_count": 0,
   "metadata": {
    "colab": {},
    "colab_type": "code",
    "id": "oMH-H4b2I4_M"
   },
   "outputs": [],
   "source": [
    "def plot_confusion_matrix(test_y, predict_y):\n",
    "    C = confusion_matrix(test_y, predict_y)\n",
    "    A = (((C.T)/(C.sum(axis = 1))).T)\n",
    "    B = (C/C.sum(axis = 0))\n",
    "\n",
    "    labels = [0, 1, 2, 3, 4, 5]\n",
    "    \n",
    "    print(\"-\"*20, \"Confusion matrix\", \"-\"*20)\n",
    "    plt.figure(figsize = (15,7))\n",
    "    sns.heatmap(C, annot = True, cmap = \"YlGnBu\", fmt = \".3f\", xticklabels = labels, yticklabels = labels)\n",
    "    plt.xlabel('Predicted Class')\n",
    "    plt.ylabel('Original Class')\n",
    "    plt.show()\n",
    "    \n",
    "    print(\"-\"*20, \"Precision matrix (Columm Sum=1)\", \"-\"*20)\n",
    "    plt.figure(figsize = (15,7))\n",
    "    sns.heatmap(B, annot = True, cmap = \"YlGnBu\", fmt = \".3f\", xticklabels = labels, yticklabels = labels)\n",
    "    plt.xlabel('Predicted Class')\n",
    "    plt.ylabel('Original Class')\n",
    "    plt.show()\n",
    "    \n",
    "    print(\"-\"*20, \"Recall matrix (Row sum=1)\", \"-\"*20)\n",
    "    plt.figure(figsize = (15,7))\n",
    "    sns.heatmap(A, annot = True, cmap = \"YlGnBu\", fmt = \".3f\", xticklabels = labels, yticklabels = labels)\n",
    "    plt.xlabel('Predicted Class')\n",
    "    plt.ylabel('Original Class')\n",
    "    plt.show()"
   ]
  },
  {
   "cell_type": "markdown",
   "metadata": {
    "colab_type": "text",
    "id": "sxeqM_woHw33"
   },
   "source": [
    "## Random Model"
   ]
  },
  {
   "cell_type": "code",
   "execution_count": 153,
   "metadata": {
    "colab": {
     "base_uri": "https://localhost:8080/",
     "height": 1365
    },
    "colab_type": "code",
    "id": "VbCuxP7THwP6",
    "outputId": "d64612c5-a10e-491f-f997-a650af944586"
   },
   "outputs": [
    {
     "name": "stdout",
     "output_type": "stream",
     "text": [
      "Log loss on Test Data using Random Model 2.076862579593794\n",
      "-------------------- Confusion matrix --------------------\n"
     ]
    },
    {
     "data": {
      "image/png": "[encoded data removed]",
      "text/plain": [
       "<Figure size 1080x504 with 2 Axes>"
      ]
     },
     "metadata": {
      "tags": []
     },
     "output_type": "display_data"
    },
    {
     "name": "stdout",
     "output_type": "stream",
     "text": [
      "-------------------- Precision matrix (Columm Sum=1) --------------------\n"
     ]
    },
    {
     "data": {
      "image/png": "[encoded data removed]",
      "text/plain": [
       "<Figure size 1080x504 with 2 Axes>"
      ]
     },
     "metadata": {
      "tags": []
     },
     "output_type": "display_data"
    },
    {
     "name": "stdout",
     "output_type": "stream",
     "text": [
      "-------------------- Recall matrix (Row sum=1) --------------------\n"
     ]
    },
    {
     "data": {
      "image/png": "[encoded data removed]",
      "text/plain": [
       "<Figure size 1080x504 with 2 Axes>"
      ]
     },
     "metadata": {
      "tags": []
     },
     "output_type": "display_data"
    }
   ],
   "source": [
    "# we need to generate 6 numbers and the sum of numbers should be 1\n",
    "# one solution is to genarate 6 numbers and divide each of the numbers by their sum\n",
    "# ref: https://stackoverflow.com/a/18662466/4084039\n",
    "\n",
    "test_data_len = Xtest.shape[0]\n",
    "\n",
    "#Test set\n",
    "#we create a output array that has exactly same as the test data\n",
    "test_predicted_y = np.zeros((test_data_len, 6))\n",
    "for i in range(test_data_len):\n",
    "    rand_probs = np.random.rand(1, 6)\n",
    "    test_predicted_y[i] = ((rand_probs/sum(sum(rand_probs)))[0])\n",
    "print(\"Log loss on Test Data using Random Model\", log_loss(Y_test, test_predicted_y, eps = 1e-15))\n",
    "\n",
    "predicted_y = np.argmax(test_predicted_y, axis = 1)\n",
    "plot_confusion_matrix(Y_test, predicted_y)"
   ]
  },
  {
   "cell_type": "markdown",
   "metadata": {
    "colab_type": "text",
    "id": "G77zdB0dHzRS"
   },
   "source": [
    "## Logistic Regression model"
   ]
  },
  {
   "cell_type": "code",
   "execution_count": 173,
   "metadata": {
    "colab": {
     "base_uri": "https://localhost:8080/",
     "height": 294
    },
    "colab_type": "code",
    "id": "yw-q8ywVBfZn",
    "outputId": "6f03dc6d-b621-4174-cd57-8b1d571e3cea"
   },
   "outputs": [
    {
     "data": {
      "image/png": "[encoded data removed]",
      "text/plain": [
       "<Figure size 1440x288 with 4 Axes>"
      ]
     },
     "metadata": {
      "tags": []
     },
     "output_type": "display_data"
    }
   ],
   "source": [
    "alpha = [0.00001, 0.0001, 0.001, 0.01, 0.1, 1, 10]\n",
    "penalty = ['l1', 'l2']\n",
    "\n",
    "parameters = {'alpha' : alpha, 'penalty' : penalty}\n",
    "clf = SGDClassifier(loss = 'log')\n",
    "model = GridSearchCV(clf, param_grid = parameters, scoring = 'neg_log_loss')\n",
    "model.fit(Xtr, Y_tr)\n",
    "\n",
    "results = pd.DataFrame(model.cv_results_)\n",
    "params = results['params']\n",
    "logloss_tr_array = -results['mean_train_score']\n",
    "logloss_cv_array = -results['mean_test_score']\n",
    "  \n",
    "\n",
    "#Heatmaps for logloss of train and test data\n",
    "plt.figure(figsize = (20,4))\n",
    "plt.subplot(1, 2, 1)\n",
    "scores_tr = -model.cv_results_['mean_train_score'].reshape(len(alpha),len(penalty))\n",
    "sns.heatmap(scores_tr, annot = True, xticklabels = penalty, yticklabels = alpha)\n",
    "plt.xlabel('Penalty')\n",
    "plt.ylabel('Alpha')\n",
    "plt.title('Logloss values of train data')\n",
    "\n",
    "plt.subplot(1, 2, 2)\n",
    "scores_test = -model.cv_results_['mean_test_score'].reshape(len(alpha),len(penalty))\n",
    "sns.heatmap(scores_test, annot = True, xticklabels = penalty, yticklabels = alpha)\n",
    "plt.xlabel('Penalty')\n",
    "plt.ylabel('Alpha')\n",
    "plt.title('Logloss values of test data')\n",
    "plt.show()"
   ]
  },
  {
   "cell_type": "code",
   "execution_count": 174,
   "metadata": {
    "colab": {
     "base_uri": "https://localhost:8080/",
     "height": 1389
    },
    "colab_type": "code",
    "id": "tsac0mLH2Mha",
    "outputId": "96baea19-02a9-49f4-f937-003f93bdbb39"
   },
   "outputs": [
    {
     "name": "stdout",
     "output_type": "stream",
     "text": [
      "Values of best parameters are {'alpha': 0.0001, 'penalty': 'l2'} , train logloss is 0.011534356524320449 and test logloss is 0.017692126523187256\n",
      "-------------------- Confusion matrix --------------------\n"
     ]
    },
    {
     "data": {
      "image/png": "[encoded data removed]",
      "text/plain": [
       "<Figure size 1080x504 with 2 Axes>"
      ]
     },
     "metadata": {
      "tags": []
     },
     "output_type": "display_data"
    },
    {
     "name": "stdout",
     "output_type": "stream",
     "text": [
      "-------------------- Precision matrix (Columm Sum=1) --------------------\n"
     ]
    },
    {
     "data": {
      "image/png": "[encoded data removed]",
      "text/plain": [
       "<Figure size 1080x504 with 2 Axes>"
      ]
     },
     "metadata": {
      "tags": []
     },
     "output_type": "display_data"
    },
    {
     "name": "stdout",
     "output_type": "stream",
     "text": [
      "-------------------- Recall matrix (Row sum=1) --------------------\n"
     ]
    },
    {
     "data": {
      "image/png": "[encoded data removed]",
      "text/plain": [
       "<Figure size 1080x504 with 2 Axes>"
      ]
     },
     "metadata": {
      "tags": []
     },
     "output_type": "display_data"
    }
   ],
   "source": [
    "params_lr = model.best_params_\n",
    "logloss_tr_lr = -model.cv_results_['mean_train_score'][model.best_index_]\n",
    "logloss_test_lr = -model.cv_results_['mean_test_score'][model.best_index_]\n",
    "print(\"Values of best parameters are\",params_lr, \", train logloss is\", logloss_tr_lr, \"and test logloss is\", logloss_test_lr)\n",
    "\n",
    "plot_confusion_matrix(Y_test, model.predict(Xtest))"
   ]
  },
  {
   "cell_type": "markdown",
   "metadata": {
    "colab_type": "text",
    "id": "FL0Gvou-O4hl"
   },
   "source": [
    "As said before that Free Items(Class 3) are similar to Accesorries(Class0), we can see in the confusion matrix and recall matrix of test set, that the points belonging to class 3 are getting predicted as class 0 class 2. "
   ]
  },
  {
   "cell_type": "markdown",
   "metadata": {
    "colab_type": "text",
    "id": "2BgO8sx251fM"
   },
   "source": [
    "## Random Forest Model"
   ]
  },
  {
   "cell_type": "code",
   "execution_count": 179,
   "metadata": {
    "colab": {
     "base_uri": "https://localhost:8080/",
     "height": 294
    },
    "colab_type": "code",
    "id": "TIYxpOOn502b",
    "outputId": "28b0bc29-db90-4591-d371-3d1ad29044ac"
   },
   "outputs": [
    {
     "data": {
      "image/png": "[encoded data removed]",
      "text/plain": [
       "<Figure size 1440x288 with 4 Axes>"
      ]
     },
     "metadata": {
      "tags": []
     },
     "output_type": "display_data"
    }
   ],
   "source": [
    "max_depth = [5, 10, 20, 50, 100, 200]\n",
    "n_estimators = [10, 20, 50, 100, 200]\n",
    "\n",
    "parameters = {'max_depth' : max_depth, 'n_estimators' : n_estimators}\n",
    "clf = RandomForestClassifier()\n",
    "model = GridSearchCV(clf, param_grid = parameters, scoring = 'neg_log_loss')\n",
    "model.fit(Xtr, Y_tr)\n",
    "\n",
    "results = pd.DataFrame(model.cv_results_)\n",
    "params = results['params']\n",
    "logloss_tr_array = -results['mean_train_score']\n",
    "logloss_cv_array = -results['mean_test_score']\n",
    "\n",
    "\n",
    "#Heatmaps for logloss of train and test data\n",
    "plt.figure(figsize = (20,4))\n",
    "plt.subplot(1, 2, 1)\n",
    "scores_tr = -model.cv_results_['mean_train_score'].reshape(len(n_estimators),len(max_depth))\n",
    "sns.heatmap(scores_tr, annot = True, xticklabels = max_depth, yticklabels = n_estimators)\n",
    "plt.xlabel('Max Depth')\n",
    "plt.ylabel('Estimators')\n",
    "plt.title('Logloss values of train data')\n",
    "\n",
    "plt.subplot(1, 2, 2)\n",
    "scores_test = -model.cv_results_['mean_test_score'].reshape(len(n_estimators),len(max_depth))\n",
    "sns.heatmap(scores_test, annot = True, xticklabels = max_depth, yticklabels = n_estimators)\n",
    "plt.xlabel('Max Depth')\n",
    "plt.ylabel('Estimators')\n",
    "plt.title('Logloss values of test data')\n",
    "plt.show()"
   ]
  },
  {
   "cell_type": "code",
   "execution_count": 180,
   "metadata": {
    "colab": {
     "base_uri": "https://localhost:8080/",
     "height": 1389
    },
    "colab_type": "code",
    "id": "91hOGnoX59TT",
    "outputId": "78fa5a8d-37c0-41ab-bf0e-ef7dcc3d2ce2"
   },
   "outputs": [
    {
     "name": "stdout",
     "output_type": "stream",
     "text": [
      "Values of best parameters are {'max_depth': 200, 'n_estimators': 200} , train logloss is 0.010560799580791624 and test logloss is 0.03654766879420128\n",
      "-------------------- Confusion matrix --------------------\n"
     ]
    },
    {
     "data": {
      "image/png": "[encoded data removed]",
      "text/plain": [
       "<Figure size 1080x504 with 2 Axes>"
      ]
     },
     "metadata": {
      "tags": []
     },
     "output_type": "display_data"
    },
    {
     "name": "stdout",
     "output_type": "stream",
     "text": [
      "-------------------- Precision matrix (Columm Sum=1) --------------------\n"
     ]
    },
    {
     "data": {
      "image/png": "[encoded data removed]",
      "text/plain": [
       "<Figure size 1080x504 with 2 Axes>"
      ]
     },
     "metadata": {
      "tags": []
     },
     "output_type": "display_data"
    },
    {
     "name": "stdout",
     "output_type": "stream",
     "text": [
      "-------------------- Recall matrix (Row sum=1) --------------------\n"
     ]
    },
    {
     "data": {
      "image/png": "[encoded data removed]",
      "text/plain": [
       "<Figure size 1080x504 with 2 Axes>"
      ]
     },
     "metadata": {
      "tags": []
     },
     "output_type": "display_data"
    }
   ],
   "source": [
    "params_rf = model.best_params_\n",
    "logloss_tr_rf = -model.cv_results_['mean_train_score'][model.best_index_]\n",
    "logloss_test_rf = -model.cv_results_['mean_test_score'][model.best_index_]\n",
    "print(\"Values of best parameters are\",params_rf, \", train logloss is\", logloss_tr_rf, \"and test logloss is\", logloss_test_rf)\n",
    "\n",
    "plot_confusion_matrix(Y_test, model.predict(Xtest))"
   ]
  },
  {
   "cell_type": "markdown",
   "metadata": {
    "colab_type": "text",
    "id": "9b9VjC_M-6Ez"
   },
   "source": [
    "## XGBoost Model"
   ]
  },
  {
   "cell_type": "code",
   "execution_count": 184,
   "metadata": {
    "colab": {
     "base_uri": "https://localhost:8080/",
     "height": 294
    },
    "colab_type": "code",
    "id": "b-xLpIgh_DxP",
    "outputId": "c1be3688-7106-4ef8-e3e1-81c441050855"
   },
   "outputs": [
    {
     "data": {
      "image/png": "[encoded data removed]",
      "text/plain": [
       "<Figure size 1440x288 with 4 Axes>"
      ]
     },
     "metadata": {
      "tags": []
     },
     "output_type": "display_data"
    }
   ],
   "source": [
    "max_depth = [1, 3, 6, 9]\n",
    "n_estimators = [50, 100]\n",
    "\n",
    "parameters = {'max_depth' : max_depth, 'n_estimators' : n_estimators}\n",
    "clf = XGBClassifier()\n",
    "model = GridSearchCV(clf, param_grid = parameters, scoring = 'neg_log_loss')\n",
    "model.fit(Xtr, Y_tr)\n",
    "\n",
    "results = pd.DataFrame(model.cv_results_)\n",
    "params = results['params']\n",
    "logloss_tr_array = -results['mean_train_score']\n",
    "logloss_cv_array = -results['mean_test_score']\n",
    "\n",
    "\n",
    "#Heatmaps for logloss of train and test data\n",
    "plt.figure(figsize = (20,4))\n",
    "plt.subplot(1, 2, 1)\n",
    "scores_tr = -model.cv_results_['mean_train_score'].reshape(len(n_estimators),len(max_depth))\n",
    "sns.heatmap(scores_tr, annot = True, xticklabels = max_depth, yticklabels = n_estimators)\n",
    "plt.xlabel('Max Depth')\n",
    "plt.ylabel('Estimators')\n",
    "plt.title('Logloss values of train data')\n",
    "\n",
    "plt.subplot(1, 2, 2)\n",
    "scores_test = -model.cv_results_['mean_test_score'].reshape(len(n_estimators),len(max_depth))\n",
    "sns.heatmap(scores_test, annot = True, xticklabels = max_depth, yticklabels = n_estimators)\n",
    "plt.xlabel('Max Depth')\n",
    "plt.ylabel('Estimators')\n",
    "plt.title('Logloss values of test data')\n",
    "plt.show()"
   ]
  },
  {
   "cell_type": "code",
   "execution_count": 185,
   "metadata": {
    "colab": {
     "base_uri": "https://localhost:8080/",
     "height": 1389
    },
    "colab_type": "code",
    "id": "zHYgZMp2_D7d",
    "outputId": "60b072ae-f8cf-4e41-a14b-68b02068dfc5"
   },
   "outputs": [
    {
     "name": "stdout",
     "output_type": "stream",
     "text": [
      "Values of best parameters are {'max_depth': 9, 'n_estimators': 100} , train logloss is 0.006638756136553983 and test logloss is 0.011402879991920871\n",
      "-------------------- Confusion matrix --------------------\n"
     ]
    },
    {
     "data": {
      "image/png": "[encoded data removed]",
      "text/plain": [
       "<Figure size 1080x504 with 2 Axes>"
      ]
     },
     "metadata": {
      "tags": []
     },
     "output_type": "display_data"
    },
    {
     "name": "stdout",
     "output_type": "stream",
     "text": [
      "-------------------- Precision matrix (Columm Sum=1) --------------------\n"
     ]
    },
    {
     "data": {
      "image/png": "[encoded data removed]",
      "text/plain": [
       "<Figure size 1080x504 with 2 Axes>"
      ]
     },
     "metadata": {
      "tags": []
     },
     "output_type": "display_data"
    },
    {
     "name": "stdout",
     "output_type": "stream",
     "text": [
      "-------------------- Recall matrix (Row sum=1) --------------------\n"
     ]
    },
    {
     "data": {
      "image/png": "[encoded data removed]",
      "text/plain": [
       "<Figure size 1080x504 with 2 Axes>"
      ]
     },
     "metadata": {
      "tags": []
     },
     "output_type": "display_data"
    }
   ],
   "source": [
    "params_xgb = model.best_params_\n",
    "logloss_tr_xgb = -model.cv_results_['mean_train_score'][model.best_index_]\n",
    "logloss_test_xgb = -model.cv_results_['mean_test_score'][model.best_index_]\n",
    "print(\"Values of best parameters are\",params_xgb, \", train logloss is\", logloss_tr_xgb, \"and test logloss is\", logloss_test_xgb)\n",
    "\n",
    "plot_confusion_matrix(Y_test, model.predict(Xtest))"
   ]
  },
  {
   "cell_type": "markdown",
   "metadata": {
    "colab_type": "text",
    "id": "DjtxDYyVBo3J"
   },
   "source": [
    "# Step by Step Procedure\n",
    "\n",
    "1. Reading json files and extracting product data from json files\n",
    "2. Preprocessing the extracted data, such as removal of html tags, removal of stopwords, etc from description and display name of products\n",
    "3. Analysis on different features describing how much different values they can take for each class\n",
    "4. Featuring data using one hot encoding and bag of words encoding\n",
    "5. Modelling data using Logistic Regression, Random Forest and XGBoost"
   ]
  },
  {
   "cell_type": "markdown",
   "metadata": {
    "colab_type": "text",
    "id": "XpQRs-mvAuUj"
   },
   "source": [
    "# Model Comparison"
   ]
  },
  {
   "cell_type": "code",
   "execution_count": 186,
   "metadata": {
    "colab": {
     "base_uri": "https://localhost:8080/",
     "height": 139
    },
    "colab_type": "code",
    "id": "UIyTGVhjAt56",
    "outputId": "2b626539-2e4f-4920-c66a-9f4aba7122aa"
   },
   "outputs": [
    {
     "name": "stdout",
     "output_type": "stream",
     "text": [
      "+---------------------+-----------------------------------------+----------------------+----------------------+\n",
      "|        Model        |             Best Parameters             |    Train Logloss     |     Test Logloss     |\n",
      "+---------------------+-----------------------------------------+----------------------+----------------------+\n",
      "| Logistic Regression |    {'alpha': 0.0001, 'penalty': 'l2'}   | 0.011534356524320449 | 0.017692126523187256 |\n",
      "|    Random Forest    | {'max_depth': 200, 'n_estimators': 200} | 0.010560799580791624 | 0.03654766879420128  |\n",
      "|       XGBoost       |  {'max_depth': 9, 'n_estimators': 100}  | 0.006638756136553983 | 0.011402879991920871 |\n",
      "+---------------------+-----------------------------------------+----------------------+----------------------+\n"
     ]
    }
   ],
   "source": [
    "from prettytable import PrettyTable\n",
    "t = PrettyTable()\n",
    "t.field_names = [\"Model\", \"Best Parameters\", \"Train Logloss\", \"Test Logloss\"]\n",
    "t.add_row([\"Logistic Regression\", params_lr, logloss_tr_lr, logloss_test_lr])\n",
    "t.add_row([\"Random Forest\", params_rf, logloss_tr_rf, logloss_test_rf])\n",
    "t.add_row([\"XGBoost\", params_xgb, logloss_tr_xgb, logloss_test_xgb])\n",
    "print(t)"
   ]
  }
 ],
 "metadata": {
  "colab": {
   "collapsed_sections": [],
   "name": "fashion_product_images_dataset.ipynb",
   "provenance": [],
   "version": "0.3.2"
  },
  "kernelspec": {
   "display_name": "Python 3",
   "language": "python",
   "name": "python3"
  },
  "language_info": {
   "codemirror_mode": {
    "name": "ipython",
    "version": 3
   },
   "file_extension": ".py",
   "mimetype": "text/x-python",
   "name": "python",
   "nbconvert_exporter": "python",
   "pygments_lexer": "ipython3",
   "version": "3.5.2"
  }
 },
 "nbformat": 4,
 "nbformat_minor": 1
}
