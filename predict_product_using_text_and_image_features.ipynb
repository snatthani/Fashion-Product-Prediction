{
 "cells": [
  {
   "cell_type": "markdown",
   "metadata": {},
   "source": [
    "# Fashion Product Prediction"
   ]
  },
  {
   "cell_type": "markdown",
   "metadata": {
    "colab_type": "text",
    "id": "DbR4RWSEw3bm"
   },
   "source": [
    "## Description\n",
    "<p> Source : https://www.kaggle.com/paramaggarwal/fashion-product-images-dataset </p> \n",
    "\n",
    "### Problem statement :\n",
    "<p> Extract textual features and image features(using VGG16 model) of different products </p>\n",
    "<p> Predict a products category by using textual and image features </p>"
   ]
  },
  {
   "cell_type": "markdown",
   "metadata": {},
   "source": [
    "## Performance Metric\n",
    "\n",
    "Metric(s):\n",
    "\n",
    "    Log Loss\n",
    "    Confusion Matrix"
   ]
  },
  {
   "cell_type": "markdown",
   "metadata": {
    "colab_type": "text",
    "id": "1dXbzebJ8gzH"
   },
   "source": [
    "# Importing Libraries"
   ]
  },
  {
   "cell_type": "code",
   "execution_count": 1,
   "metadata": {
    "colab": {
     "base_uri": "https://localhost:8080/",
     "height": 52
    },
    "colab_type": "code",
    "id": "BrCTtfraz2s6",
    "outputId": "5b574a9c-238b-422f-9b81-2d87d22b3888"
   },
   "outputs": [
    {
     "name": "stdout",
     "output_type": "stream",
     "text": [
      "[nltk_data] Downloading package stopwords to /root/nltk_data...\n",
      "[nltk_data]   Unzipping corpora/stopwords.zip.\n"
     ]
    }
   ],
   "source": [
    "import warnings\n",
    "warnings.filterwarnings(\"ignore\")\n",
    "\n",
    "import numpy as np\n",
    "import pandas as pd\n",
    "import matplotlib.pyplot as plt\n",
    "import seaborn as sns\n",
    "%matplotlib inline\n",
    "\n",
    "import nltk\n",
    "nltk.download('stopwords')\n",
    "from nltk.corpus import stopwords\n",
    "#from nltk.stem import PorterStemmer\n",
    "\n",
    "from sklearn.preprocessing import LabelEncoder\n",
    "from sklearn.manifold import TSNE\n",
    "from sklearn.feature_extraction.text import CountVectorizer\n",
    "from sklearn.model_selection import train_test_split\n",
    "from sklearn.model_selection import GridSearchCV\n",
    "from sklearn.model_selection import ShuffleSplit\n",
    "from sklearn.calibration import CalibratedClassifierCV\n",
    "from sklearn.metrics.classification import log_loss\n",
    "from sklearn.metrics import confusion_matrix\n",
    "from sklearn.linear_model import SGDClassifier\n",
    "from sklearn.ensemble import RandomForestClassifier\n",
    "\n",
    "from xgboost import XGBClassifier\n",
    "from scipy.sparse import hstack\n",
    "\n",
    "from prettytable import PrettyTable\n",
    "from collections import defaultdict\n",
    "from tqdm import tqdm\n",
    "import os\n",
    "import re"
   ]
  },
  {
   "cell_type": "markdown",
   "metadata": {
    "colab_type": "text",
    "id": "Q1nh_TRw8dqt"
   },
   "source": [
    "# Data Extraction"
   ]
  },
  {
   "cell_type": "markdown",
   "metadata": {
    "colab_type": "text",
    "id": "QlUUiqpD8lSY"
   },
   "source": [
    "## Reading a random file - 1"
   ]
  },
  {
   "cell_type": "code",
   "execution_count": 2,
   "metadata": {
    "colab": {
     "base_uri": "https://localhost:8080/",
     "height": 1398
    },
    "colab_type": "code",
    "id": "eCqnNPgBMySL",
    "outputId": "8f20cbcd-52b5-429c-f67b-f49aac321bbf"
   },
   "outputs": [
    {
     "data": {
      "text/html": [
       "<div>\n",
       "<style scoped>\n",
       "    .dataframe tbody tr th:only-of-type {\n",
       "        vertical-align: middle;\n",
       "    }\n",
       "\n",
       "    .dataframe tbody tr th {\n",
       "        vertical-align: top;\n",
       "    }\n",
       "\n",
       "    .dataframe thead th {\n",
       "        text-align: right;\n",
       "    }\n",
       "</style>\n",
       "<table border=\"1\" class=\"dataframe\">\n",
       "  <thead>\n",
       "    <tr style=\"text-align: right;\">\n",
       "      <th></th>\n",
       "      <th>data</th>\n",
       "      <th>meta</th>\n",
       "      <th>notification</th>\n",
       "    </tr>\n",
       "  </thead>\n",
       "  <tbody>\n",
       "    <tr>\n",
       "      <th>ageGroup</th>\n",
       "      <td>Adults-Women</td>\n",
       "      <td>NaN</td>\n",
       "      <td>NaN</td>\n",
       "    </tr>\n",
       "    <tr>\n",
       "      <th>articleAttributes</th>\n",
       "      <td>{'Strap Material': 'Synthetic', 'Type': 'Hybri...</td>\n",
       "      <td>NaN</td>\n",
       "      <td>NaN</td>\n",
       "    </tr>\n",
       "    <tr>\n",
       "      <th>articleDisplayAttr</th>\n",
       "      <td>{'id': 66, 'core': {'order': '0', 'display': '...</td>\n",
       "      <td>NaN</td>\n",
       "      <td>NaN</td>\n",
       "    </tr>\n",
       "    <tr>\n",
       "      <th>articleNumber</th>\n",
       "      <td>NB9796SM01</td>\n",
       "      <td>NaN</td>\n",
       "      <td>NaN</td>\n",
       "    </tr>\n",
       "    <tr>\n",
       "      <th>articleType</th>\n",
       "      <td>{'id': 66, 'typeName': 'Watches', 'active': Tr...</td>\n",
       "      <td>NaN</td>\n",
       "      <td>NaN</td>\n",
       "    </tr>\n",
       "    <tr>\n",
       "      <th>baseColour</th>\n",
       "      <td>Silver</td>\n",
       "      <td>NaN</td>\n",
       "      <td>NaN</td>\n",
       "    </tr>\n",
       "    <tr>\n",
       "      <th>brandName</th>\n",
       "      <td>Titan</td>\n",
       "      <td>NaN</td>\n",
       "      <td>NaN</td>\n",
       "    </tr>\n",
       "    <tr>\n",
       "      <th>brandUserProfile</th>\n",
       "      <td>{'uidx': '28cf0b39.d898.4b6a.9541.77cb20672522...</td>\n",
       "      <td>NaN</td>\n",
       "      <td>NaN</td>\n",
       "    </tr>\n",
       "    <tr>\n",
       "      <th>catalogAddDate</th>\n",
       "      <td>1461843609</td>\n",
       "      <td>NaN</td>\n",
       "      <td>NaN</td>\n",
       "    </tr>\n",
       "    <tr>\n",
       "      <th>codEnabled</th>\n",
       "      <td>True</td>\n",
       "      <td>NaN</td>\n",
       "      <td>NaN</td>\n",
       "    </tr>\n",
       "    <tr>\n",
       "      <th>code</th>\n",
       "      <td>NaN</td>\n",
       "      <td>200</td>\n",
       "      <td>NaN</td>\n",
       "    </tr>\n",
       "    <tr>\n",
       "      <th>colour1</th>\n",
       "      <td>White</td>\n",
       "      <td>NaN</td>\n",
       "      <td>NaN</td>\n",
       "    </tr>\n",
       "    <tr>\n",
       "      <th>colour2</th>\n",
       "      <td>NA</td>\n",
       "      <td>NaN</td>\n",
       "      <td>NaN</td>\n",
       "    </tr>\n",
       "    <tr>\n",
       "      <th>crossLinks</th>\n",
       "      <td>[{'key': 'More Watches by Titan', 'value': 'wa...</td>\n",
       "      <td>NaN</td>\n",
       "      <td>NaN</td>\n",
       "    </tr>\n",
       "    <tr>\n",
       "      <th>discountedPrice</th>\n",
       "      <td>6500</td>\n",
       "      <td>NaN</td>\n",
       "      <td>NaN</td>\n",
       "    </tr>\n",
       "    <tr>\n",
       "      <th>displayCategories</th>\n",
       "      <td>Accessories</td>\n",
       "      <td>NaN</td>\n",
       "      <td>NaN</td>\n",
       "    </tr>\n",
       "    <tr>\n",
       "      <th>fashionType</th>\n",
       "      <td>Fashion</td>\n",
       "      <td>NaN</td>\n",
       "      <td>NaN</td>\n",
       "    </tr>\n",
       "    <tr>\n",
       "      <th>gender</th>\n",
       "      <td>Women</td>\n",
       "      <td>NaN</td>\n",
       "      <td>NaN</td>\n",
       "    </tr>\n",
       "    <tr>\n",
       "      <th>id</th>\n",
       "      <td>59263</td>\n",
       "      <td>NaN</td>\n",
       "      <td>NaN</td>\n",
       "    </tr>\n",
       "    <tr>\n",
       "      <th>isEMIEnabled</th>\n",
       "      <td>True</td>\n",
       "      <td>NaN</td>\n",
       "      <td>NaN</td>\n",
       "    </tr>\n",
       "    <tr>\n",
       "      <th>landingPageUrl</th>\n",
       "      <td>Watches/Titan/Titan-Women-Silver-Watch/59263/buy</td>\n",
       "      <td>NaN</td>\n",
       "      <td>NaN</td>\n",
       "    </tr>\n",
       "    <tr>\n",
       "      <th>lookGoodAlbum</th>\n",
       "      <td>{}</td>\n",
       "      <td>NaN</td>\n",
       "      <td>NaN</td>\n",
       "    </tr>\n",
       "    <tr>\n",
       "      <th>masterCategory</th>\n",
       "      <td>{'id': 1, 'typeName': 'Accessories', 'active':...</td>\n",
       "      <td>NaN</td>\n",
       "      <td>NaN</td>\n",
       "    </tr>\n",
       "    <tr>\n",
       "      <th>myntraRating</th>\n",
       "      <td>0</td>\n",
       "      <td>NaN</td>\n",
       "      <td>NaN</td>\n",
       "    </tr>\n",
       "    <tr>\n",
       "      <th>navigationId</th>\n",
       "      <td>410</td>\n",
       "      <td>NaN</td>\n",
       "      <td>NaN</td>\n",
       "    </tr>\n",
       "    <tr>\n",
       "      <th>otherFlags</th>\n",
       "      <td>[{'dataType': 'BOOLEAN', 'name': 'isFragile', ...</td>\n",
       "      <td>NaN</td>\n",
       "      <td>NaN</td>\n",
       "    </tr>\n",
       "    <tr>\n",
       "      <th>price</th>\n",
       "      <td>6500</td>\n",
       "      <td>NaN</td>\n",
       "      <td>NaN</td>\n",
       "    </tr>\n",
       "    <tr>\n",
       "      <th>productDescriptors</th>\n",
       "      <td>{'materials_care_desc': {'descriptorType': 'ma...</td>\n",
       "      <td>NaN</td>\n",
       "      <td>NaN</td>\n",
       "    </tr>\n",
       "    <tr>\n",
       "      <th>productDisplayName</th>\n",
       "      <td>Titan Women Silver Watch</td>\n",
       "      <td>NaN</td>\n",
       "      <td>NaN</td>\n",
       "    </tr>\n",
       "    <tr>\n",
       "      <th>productTypeId</th>\n",
       "      <td>361</td>\n",
       "      <td>NaN</td>\n",
       "      <td>NaN</td>\n",
       "    </tr>\n",
       "    <tr>\n",
       "      <th>requestId</th>\n",
       "      <td>NaN</td>\n",
       "      <td>b6c2bf15-7d36-4f41-b984-5a9cc07b094e</td>\n",
       "      <td>NaN</td>\n",
       "    </tr>\n",
       "    <tr>\n",
       "      <th>season</th>\n",
       "      <td>Winter</td>\n",
       "      <td>NaN</td>\n",
       "      <td>NaN</td>\n",
       "    </tr>\n",
       "    <tr>\n",
       "      <th>style360Images</th>\n",
       "      <td>{}</td>\n",
       "      <td>NaN</td>\n",
       "      <td>NaN</td>\n",
       "    </tr>\n",
       "    <tr>\n",
       "      <th>styleImages</th>\n",
       "      <td>{'default': {'imageURL': 'http://assets.myntas...</td>\n",
       "      <td>NaN</td>\n",
       "      <td>NaN</td>\n",
       "    </tr>\n",
       "    <tr>\n",
       "      <th>styleOptions</th>\n",
       "      <td>[{'id': 218178, 'name': 'Size', 'value': 'Ones...</td>\n",
       "      <td>NaN</td>\n",
       "      <td>NaN</td>\n",
       "    </tr>\n",
       "    <tr>\n",
       "      <th>styleType</th>\n",
       "      <td>P</td>\n",
       "      <td>NaN</td>\n",
       "      <td>NaN</td>\n",
       "    </tr>\n",
       "    <tr>\n",
       "      <th>subCategory</th>\n",
       "      <td>{'id': 27, 'typeName': 'Watches', 'active': Tr...</td>\n",
       "      <td>NaN</td>\n",
       "      <td>NaN</td>\n",
       "    </tr>\n",
       "    <tr>\n",
       "      <th>usage</th>\n",
       "      <td>Casual</td>\n",
       "      <td>NaN</td>\n",
       "      <td>NaN</td>\n",
       "    </tr>\n",
       "    <tr>\n",
       "      <th>variantName</th>\n",
       "      <td>Titan Watches</td>\n",
       "      <td>NaN</td>\n",
       "      <td>NaN</td>\n",
       "    </tr>\n",
       "    <tr>\n",
       "      <th>vat</th>\n",
       "      <td>14.5</td>\n",
       "      <td>NaN</td>\n",
       "      <td>NaN</td>\n",
       "    </tr>\n",
       "    <tr>\n",
       "      <th>visualTag</th>\n",
       "      <td></td>\n",
       "      <td>NaN</td>\n",
       "      <td>NaN</td>\n",
       "    </tr>\n",
       "    <tr>\n",
       "      <th>weight</th>\n",
       "      <td>0</td>\n",
       "      <td>NaN</td>\n",
       "      <td>NaN</td>\n",
       "    </tr>\n",
       "    <tr>\n",
       "      <th>year</th>\n",
       "      <td>2016</td>\n",
       "      <td>NaN</td>\n",
       "      <td>NaN</td>\n",
       "    </tr>\n",
       "  </tbody>\n",
       "</table>\n",
       "</div>"
      ],
      "text/plain": [
       "                                                                 data  \\\n",
       "ageGroup                                                 Adults-Women   \n",
       "articleAttributes   {'Strap Material': 'Synthetic', 'Type': 'Hybri...   \n",
       "articleDisplayAttr  {'id': 66, 'core': {'order': '0', 'display': '...   \n",
       "articleNumber                                              NB9796SM01   \n",
       "articleType         {'id': 66, 'typeName': 'Watches', 'active': Tr...   \n",
       "baseColour                                                     Silver   \n",
       "brandName                                                       Titan   \n",
       "brandUserProfile    {'uidx': '28cf0b39.d898.4b6a.9541.77cb20672522...   \n",
       "catalogAddDate                                             1461843609   \n",
       "codEnabled                                                       True   \n",
       "code                                                              NaN   \n",
       "colour1                                                         White   \n",
       "colour2                                                            NA   \n",
       "crossLinks          [{'key': 'More Watches by Titan', 'value': 'wa...   \n",
       "discountedPrice                                                  6500   \n",
       "displayCategories                                         Accessories   \n",
       "fashionType                                                   Fashion   \n",
       "gender                                                          Women   \n",
       "id                                                              59263   \n",
       "isEMIEnabled                                                     True   \n",
       "landingPageUrl       Watches/Titan/Titan-Women-Silver-Watch/59263/buy   \n",
       "lookGoodAlbum                                                      {}   \n",
       "masterCategory      {'id': 1, 'typeName': 'Accessories', 'active':...   \n",
       "myntraRating                                                        0   \n",
       "navigationId                                                      410   \n",
       "otherFlags          [{'dataType': 'BOOLEAN', 'name': 'isFragile', ...   \n",
       "price                                                            6500   \n",
       "productDescriptors  {'materials_care_desc': {'descriptorType': 'ma...   \n",
       "productDisplayName                           Titan Women Silver Watch   \n",
       "productTypeId                                                     361   \n",
       "requestId                                                         NaN   \n",
       "season                                                         Winter   \n",
       "style360Images                                                     {}   \n",
       "styleImages         {'default': {'imageURL': 'http://assets.myntas...   \n",
       "styleOptions        [{'id': 218178, 'name': 'Size', 'value': 'Ones...   \n",
       "styleType                                                           P   \n",
       "subCategory         {'id': 27, 'typeName': 'Watches', 'active': Tr...   \n",
       "usage                                                          Casual   \n",
       "variantName                                             Titan Watches   \n",
       "vat                                                              14.5   \n",
       "visualTag                                                               \n",
       "weight                                                              0   \n",
       "year                                                             2016   \n",
       "\n",
       "                                                    meta  notification  \n",
       "ageGroup                                             NaN           NaN  \n",
       "articleAttributes                                    NaN           NaN  \n",
       "articleDisplayAttr                                   NaN           NaN  \n",
       "articleNumber                                        NaN           NaN  \n",
       "articleType                                          NaN           NaN  \n",
       "baseColour                                           NaN           NaN  \n",
       "brandName                                            NaN           NaN  \n",
       "brandUserProfile                                     NaN           NaN  \n",
       "catalogAddDate                                       NaN           NaN  \n",
       "codEnabled                                           NaN           NaN  \n",
       "code                                                 200           NaN  \n",
       "colour1                                              NaN           NaN  \n",
       "colour2                                              NaN           NaN  \n",
       "crossLinks                                           NaN           NaN  \n",
       "discountedPrice                                      NaN           NaN  \n",
       "displayCategories                                    NaN           NaN  \n",
       "fashionType                                          NaN           NaN  \n",
       "gender                                               NaN           NaN  \n",
       "id                                                   NaN           NaN  \n",
       "isEMIEnabled                                         NaN           NaN  \n",
       "landingPageUrl                                       NaN           NaN  \n",
       "lookGoodAlbum                                        NaN           NaN  \n",
       "masterCategory                                       NaN           NaN  \n",
       "myntraRating                                         NaN           NaN  \n",
       "navigationId                                         NaN           NaN  \n",
       "otherFlags                                           NaN           NaN  \n",
       "price                                                NaN           NaN  \n",
       "productDescriptors                                   NaN           NaN  \n",
       "productDisplayName                                   NaN           NaN  \n",
       "productTypeId                                        NaN           NaN  \n",
       "requestId           b6c2bf15-7d36-4f41-b984-5a9cc07b094e           NaN  \n",
       "season                                               NaN           NaN  \n",
       "style360Images                                       NaN           NaN  \n",
       "styleImages                                          NaN           NaN  \n",
       "styleOptions                                         NaN           NaN  \n",
       "styleType                                            NaN           NaN  \n",
       "subCategory                                          NaN           NaN  \n",
       "usage                                                NaN           NaN  \n",
       "variantName                                          NaN           NaN  \n",
       "vat                                                  NaN           NaN  \n",
       "visualTag                                            NaN           NaN  \n",
       "weight                                               NaN           NaN  \n",
       "year                                                 NaN           NaN  "
      ]
     },
     "execution_count": 2,
     "metadata": {
      "tags": []
     },
     "output_type": "execute_result"
    }
   ],
   "source": [
    "#Reading a rondom file\n",
    "json_df = pd.read_json('fashion-dataset/styles/59263.json')\n",
    "json_df"
   ]
  },
  {
   "cell_type": "markdown",
   "metadata": {
    "colab_type": "text",
    "id": "emtR5LaBx-2_"
   },
   "source": [
    "Every file has the above structure. There are many rows and 3 columns namely data, meta and notification.\n",
    "\n",
    "Each file contains many different values for a product. For example id of product, year of product, price of product. \n",
    "\n",
    "We will use articleType, productDisplayName and productDescriptions."
   ]
  },
  {
   "cell_type": "markdown",
   "metadata": {
    "colab_type": "text",
    "id": "JSW-77_m9Afr"
   },
   "source": [
    "### Extracting features"
   ]
  },
  {
   "cell_type": "code",
   "execution_count": 3,
   "metadata": {
    "colab": {
     "base_uri": "https://localhost:8080/",
     "height": 72
    },
    "colab_type": "code",
    "id": "vUL6v8ymCFnQ",
    "outputId": "78f9c1aa-28da-47dc-f6d9-94a63003c005"
   },
   "outputs": [
    {
     "name": "stdout",
     "output_type": "stream",
     "text": [
      "dict_keys(['id', 'typeName', 'active', 'socialSharingEnabled', 'isReturnable', 'isExchangeable', 'pickupEnabled', 'isTryAndBuyEnabled', 'isMyntsEnabled', 'serviceabilityDisclaimer'])\n",
      "dict_values([66, 'Watches', True, True, True, True, True, True, True, {'title': '', 'desc': ''}])\n"
     ]
    }
   ],
   "source": [
    "#extracting articleType\n",
    "articleType = json_df.loc['articleType']['data']\n",
    "print(articleType.keys())\n",
    "print(articleType.values())"
   ]
  },
  {
   "cell_type": "markdown",
   "metadata": {
    "colab_type": "text",
    "id": "F0wG6Ue1Ceta"
   },
   "source": [
    "The articleType has many keys inside it, we will use the typeName key."
   ]
  },
  {
   "cell_type": "code",
   "execution_count": 4,
   "metadata": {
    "colab": {
     "base_uri": "https://localhost:8080/",
     "height": 34
    },
    "colab_type": "code",
    "id": "O_Plp8VaCl61",
    "outputId": "cc2ce6df-23fa-4c02-ffff-576351b9d6a5"
   },
   "outputs": [
    {
     "name": "stdout",
     "output_type": "stream",
     "text": [
      "Titan Women Silver Watch\n"
     ]
    }
   ],
   "source": [
    "#extracting productDisplayName\n",
    "productDisplayName = json_df.loc['productDisplayName']['data']\n",
    "print(productDisplayName)"
   ]
  },
  {
   "cell_type": "code",
   "execution_count": 5,
   "metadata": {
    "colab": {
     "base_uri": "https://localhost:8080/",
     "height": 72
    },
    "colab_type": "code",
    "id": "Pm6agQMfqRs8",
    "outputId": "16d5539d-ed25-44ff-b8c9-d2e6800a8170"
   },
   "outputs": [
    {
     "name": "stdout",
     "output_type": "stream",
     "text": [
      "dict_keys(['materials_care_desc', 'size_fit_desc', 'description', 'style_note'])\n",
      "dict_values([{'descriptorType': 'materials_care_desc', 'value': '<p>NA</p>'}, {'descriptorType': 'size_fit_desc', 'value': '<p>Case diameter: 25 mm<br />Dial shape: Round<br /></p>'}, {'descriptorType': 'description', 'value': '<p>Silver steel case with a fixed bezel for durability, style and comfort<br />Stainless steel strap with a butterfly clasp<br />White dial with silver hands<br />titan logo at the 6 hour mark<br />Screw to reset time<br />Solid case back for enhanced durability<br />Water resistance up to 30 meters, allowing you to use it even when showering <br />Warranty: 2 years</p>'}, {'descriptorType': 'style_note', 'value': '<p>This stylish watch from Titan, with classic, timeless styling is a must have for every well dressed woman. Built with the utmost precision and individuality, each watch has been designed and carefully tested to give you years of reliable service and contemporary style for the woman of class!</p>'}])\n"
     ]
    }
   ],
   "source": [
    "#extracting productDescriptors from the random file\n",
    "productDescriptors = json_df.loc['productDescriptors']['data']\n",
    "print(productDescriptors.keys())\n",
    "print(productDescriptors.values())"
   ]
  },
  {
   "cell_type": "markdown",
   "metadata": {
    "colab_type": "text",
    "id": "6vI5xrKw8EXn"
   },
   "source": [
    "Here the productDescriptors is a dictionary with 4 keys."
   ]
  },
  {
   "cell_type": "markdown",
   "metadata": {
    "colab_type": "text",
    "id": "Rz1P6t3-9K_Q"
   },
   "source": [
    "Checking if other files contain the same fields or not"
   ]
  },
  {
   "cell_type": "markdown",
   "metadata": {
    "colab_type": "text",
    "id": "JkQ4eDFI9SAV"
   },
   "source": [
    "## Reading a random file - 2"
   ]
  },
  {
   "cell_type": "code",
   "execution_count": 0,
   "metadata": {
    "colab": {},
    "colab_type": "code",
    "id": "o467zsCiDMEO"
   },
   "outputs": [],
   "source": [
    "#reading another random file\n",
    "json_df = pd.read_json('fashion-dataset/styles/15970.json')"
   ]
  },
  {
   "cell_type": "code",
   "execution_count": 7,
   "metadata": {
    "colab": {
     "base_uri": "https://localhost:8080/",
     "height": 72
    },
    "colab_type": "code",
    "id": "2oUupqLpDJ5C",
    "outputId": "c03b0d72-e6cf-4572-871d-0318a4afc69a"
   },
   "outputs": [
    {
     "name": "stdout",
     "output_type": "stream",
     "text": [
      "dict_keys(['id', 'typeName', 'active', 'socialSharingEnabled', 'isReturnable', 'isExchangeable', 'pickupEnabled', 'isTryAndBuyEnabled', 'isMyntsEnabled', 'serviceabilityDisclaimer'])\n",
      "dict_values([85, 'Shirts', True, True, True, True, True, True, True, {'title': '', 'desc': ''}])\n"
     ]
    }
   ],
   "source": [
    "#extracting articleType\n",
    "articleType = json_df.loc['articleType']['data']\n",
    "print(articleType.keys())\n",
    "print(articleType.values())"
   ]
  },
  {
   "cell_type": "code",
   "execution_count": 8,
   "metadata": {
    "colab": {
     "base_uri": "https://localhost:8080/",
     "height": 34
    },
    "colab_type": "code",
    "id": "vml4qs5HDXO5",
    "outputId": "087581cf-0203-488a-b9a4-65e0e4a00c62"
   },
   "outputs": [
    {
     "name": "stdout",
     "output_type": "stream",
     "text": [
      "Turtle Check Men Navy Blue Shirt\n"
     ]
    }
   ],
   "source": [
    "#extracting productDisplayName\n",
    "productDisplayName = json_df.loc['productDisplayName']['data']\n",
    "print(productDisplayName)"
   ]
  },
  {
   "cell_type": "code",
   "execution_count": 9,
   "metadata": {
    "colab": {
     "base_uri": "https://localhost:8080/",
     "height": 72
    },
    "colab_type": "code",
    "id": "6xAj2hn_8K3h",
    "outputId": "c77a1b0c-7fd5-4087-f0fc-66e3e1adb612"
   },
   "outputs": [
    {
     "name": "stdout",
     "output_type": "stream",
     "text": [
      "dict_keys(['description'])\n",
      "dict_values([{'descriptorType': 'description', 'value': '<p style=\"text-align: justify;\"><strong>Composition</strong><br />Dark brown and indigo blue plaid check shirt with white accents, made of 100% cotton, has long sleeves with buttoned cuffs and a button on the elbow for rolling up the sleeve, denim spread collar, buttoned front placket, patch pocket on the upper left chest and a curved hemline<br /><br /><strong>Fitting</strong><br />Slim<br /><br /><strong>Wash care</strong><br />Machine wash cold at 30 degrees with like colours<br />Do not bleach <br />Wash and dry inside out<br />Hang to dry in shade<br />Medium iron<br /><br />The cleverly mitired pocket on the upper left chest and denim collar adds smooth styling to this dark brown and indigo blue plaid check shirt from turtle, while the cotton fabric keeps you feeling fresh and comfortable all day. Part of the proceeds from the sale of this product go towards the Save Turtle project in collaboration with WWF and Wildlife Society of Orissa, making it an environment friendly choice. Team this with chinos or jeans and sneakers.<br /><br /><em>Model statistics</em><br />Product is a size M on a model of height 6\\' and chest 39\"</p>'}])\n"
     ]
    }
   ],
   "source": [
    "productDescriptors = json_df.loc['productDescriptors']['data']\n",
    "print(productDescriptors.keys())\n",
    "print(productDescriptors.values())"
   ]
  },
  {
   "cell_type": "markdown",
   "metadata": {
    "colab_type": "text",
    "id": "m84QU6mg9ctN"
   },
   "source": [
    "This file contains only 1 key in productDescriptors."
   ]
  },
  {
   "cell_type": "markdown",
   "metadata": {
    "colab_type": "text",
    "id": "lB6KX0zI9jJx"
   },
   "source": [
    "## Reading a random file - 3"
   ]
  },
  {
   "cell_type": "code",
   "execution_count": 0,
   "metadata": {
    "colab": {},
    "colab_type": "code",
    "id": "ru6PpEdX7xez"
   },
   "outputs": [],
   "source": [
    "#reading another random file\n",
    "json_df = pd.read_json('fashion-dataset/styles/49168.json')"
   ]
  },
  {
   "cell_type": "code",
   "execution_count": 11,
   "metadata": {
    "colab": {
     "base_uri": "https://localhost:8080/",
     "height": 72
    },
    "colab_type": "code",
    "id": "kZ5LcMSMDkXq",
    "outputId": "fcb7dfc5-59dc-4602-8355-4dfad56e2205"
   },
   "outputs": [
    {
     "name": "stdout",
     "output_type": "stream",
     "text": [
      "dict_keys(['id', 'typeName', 'active', 'socialSharingEnabled', 'isReturnable', 'isExchangeable', 'pickupEnabled', 'isTryAndBuyEnabled', 'isMyntsEnabled', 'serviceabilityDisclaimer'])\n",
      "dict_values([85, 'Shirts', True, True, True, True, True, True, True, {'title': '', 'desc': ''}])\n"
     ]
    }
   ],
   "source": [
    "#extracting articleType\n",
    "articleType = json_df.loc['articleType']['data']\n",
    "print(articleType.keys())\n",
    "print(articleType.values())"
   ]
  },
  {
   "cell_type": "code",
   "execution_count": 12,
   "metadata": {
    "colab": {
     "base_uri": "https://localhost:8080/",
     "height": 34
    },
    "colab_type": "code",
    "id": "-gYx3f1-Dm8O",
    "outputId": "46c0cb9d-1476-44b3-f01f-b452c1fbfcb8"
   },
   "outputs": [
    {
     "name": "stdout",
     "output_type": "stream",
     "text": [
      "Spykar Men Navy Blue  Shirt\n"
     ]
    }
   ],
   "source": [
    "#extracting productDisplayName\n",
    "productDisplayName = json_df.loc['productDisplayName']['data']\n",
    "print(productDisplayName)"
   ]
  },
  {
   "cell_type": "code",
   "execution_count": 13,
   "metadata": {
    "colab": {
     "base_uri": "https://localhost:8080/",
     "height": 52
    },
    "colab_type": "code",
    "id": "w1gyYUujDe1h",
    "outputId": "ce3eeffe-4427-4318-db07-782d1473dc19"
   },
   "outputs": [
    {
     "name": "stdout",
     "output_type": "stream",
     "text": [
      "dict_keys([])\n",
      "dict_values([])\n"
     ]
    }
   ],
   "source": [
    "productDescriptors = json_df.loc['productDescriptors']['data']\n",
    "print(productDescriptors.keys())\n",
    "print(productDescriptors.values())"
   ]
  },
  {
   "cell_type": "markdown",
   "metadata": {
    "colab_type": "text",
    "id": "Ysl_tpcJ9zhb"
   },
   "source": [
    "This file does not contain any key in productDescriptors. It means that productDescriptors is empty."
   ]
  },
  {
   "cell_type": "markdown",
   "metadata": {
    "colab_type": "text",
    "id": "weOlitfwrhr4"
   },
   "source": [
    "#### Note :- All json files do not have discriptors with all 4 keys. Also some files do not contain any information in productDescriptors"
   ]
  },
  {
   "cell_type": "markdown",
   "metadata": {
    "colab_type": "text",
    "id": "tYS5PXpo-FND"
   },
   "source": [
    "## Extracting id, articleType, displayName, description and masterCategory from all files"
   ]
  },
  {
   "cell_type": "code",
   "execution_count": 14,
   "metadata": {
    "colab": {
     "base_uri": "https://localhost:8080/",
     "height": 34
    },
    "colab_type": "code",
    "id": "u9eN8q_mxggN",
    "outputId": "ed530ba5-145d-418b-9d15-1efc08fc5987"
   },
   "outputs": [
    {
     "name": "stderr",
     "output_type": "stream",
     "text": [
      "100%|██████████| 44446/44446 [09:09<00:00, 80.91it/s]\n"
     ]
    }
   ],
   "source": [
    "path = './fashion-dataset/styles/'\n",
    "files = os.listdir(path)                                          #getting list of all files in styles folder\n",
    "#files = [i for i in os.listdir(path) if i.endswith(\"json\")]      #use this if the folder contains files other than json format \n",
    "\n",
    "descriptors_df = pd.DataFrame()                                   #dataframe that will contarin extracted information\n",
    "for filename in tqdm(files):\n",
    "    file_path = path + filename\n",
    "    json_df = pd.read_json(file_path)\n",
    "\n",
    "    row = {}                                                                       #new row for each file that contains information\n",
    "    id = json_df.loc['id']['data']\n",
    "    row['id'] = id\n",
    "    \n",
    "    articleType_dict = json_df.loc['articleType']['data']                             #returns a dict    \n",
    "    row['articleType'] = articleType_dict['typeName']\n",
    "    \n",
    "    row['productDisplayName'] = json_df.loc['productDisplayName']['data']\n",
    "\n",
    "    productDescriptors_dict = json_df.loc['productDescriptors']['data']            #returns a dict\n",
    "    if bool(productDescriptors_dict):                                              #empty dictionary evaluates to false\n",
    "        row['description'] = productDescriptors_dict['description']['value']       #taking only discription value\n",
    "    else:\n",
    "        continue                                                                   #if dict is empty skip the file\n",
    "\n",
    "    masterCategory_dict = json_df.loc['masterCategory']['data']\n",
    "    row['masterCategory'] = masterCategory_dict['typeName']\n",
    "\n",
    "    new_df = pd.DataFrame([row])                                                   #if we dont put row in [], it gives value error\n",
    "    descriptors_df = descriptors_df.append(new_df, ignore_index = True)"
   ]
  },
  {
   "cell_type": "code",
   "execution_count": 15,
   "metadata": {
    "colab": {
     "base_uri": "https://localhost:8080/",
     "height": 206
    },
    "colab_type": "code",
    "id": "LrdffpzQzxs4",
    "outputId": "519360c8-ab9c-4959-f5fc-a89ca0575761"
   },
   "outputs": [
    {
     "data": {
      "text/html": [
       "<div>\n",
       "<style scoped>\n",
       "    .dataframe tbody tr th:only-of-type {\n",
       "        vertical-align: middle;\n",
       "    }\n",
       "\n",
       "    .dataframe tbody tr th {\n",
       "        vertical-align: top;\n",
       "    }\n",
       "\n",
       "    .dataframe thead th {\n",
       "        text-align: right;\n",
       "    }\n",
       "</style>\n",
       "<table border=\"1\" class=\"dataframe\">\n",
       "  <thead>\n",
       "    <tr style=\"text-align: right;\">\n",
       "      <th></th>\n",
       "      <th>articleType</th>\n",
       "      <th>description</th>\n",
       "      <th>id</th>\n",
       "      <th>masterCategory</th>\n",
       "      <th>productDisplayName</th>\n",
       "    </tr>\n",
       "  </thead>\n",
       "  <tbody>\n",
       "    <tr>\n",
       "      <th>0</th>\n",
       "      <td>Nightdress</td>\n",
       "      <td>&lt;p&gt;Green knee-length nightdress, has a round n...</td>\n",
       "      <td>52367</td>\n",
       "      <td>Apparel</td>\n",
       "      <td>Red Rose Women Green Nightdress</td>\n",
       "    </tr>\n",
       "    <tr>\n",
       "      <th>1</th>\n",
       "      <td>Sarees</td>\n",
       "      <td>&lt;p&gt;Multicoloured sari with overtones of green ...</td>\n",
       "      <td>52979</td>\n",
       "      <td>Apparel</td>\n",
       "      <td>FNF Multi Coloured Sari</td>\n",
       "    </tr>\n",
       "    <tr>\n",
       "      <th>2</th>\n",
       "      <td>Wallets</td>\n",
       "      <td>&lt;p&gt;Worry no longer about managing money, cards...</td>\n",
       "      <td>20431</td>\n",
       "      <td>Accessories</td>\n",
       "      <td>Baggit Women Tijori Viva Brown Wallet</td>\n",
       "    </tr>\n",
       "    <tr>\n",
       "      <th>3</th>\n",
       "      <td>Socks</td>\n",
       "      <td>&lt;p&gt;Pack of five socks in assorted colours&lt;br /...</td>\n",
       "      <td>49232</td>\n",
       "      <td>Accessories</td>\n",
       "      <td>Calzini Men Pack of 5 Sports Socks</td>\n",
       "    </tr>\n",
       "    <tr>\n",
       "      <th>4</th>\n",
       "      <td>Kurtas</td>\n",
       "      <td>&lt;p&gt;&lt;strong&gt;Composition&lt;/strong&gt;&lt;br /&gt;White rou...</td>\n",
       "      <td>28959</td>\n",
       "      <td>Apparel</td>\n",
       "      <td>BIBA Women Ethnic White Kurta</td>\n",
       "    </tr>\n",
       "  </tbody>\n",
       "</table>\n",
       "</div>"
      ],
      "text/plain": [
       "  articleType                                        description     id  \\\n",
       "0  Nightdress  <p>Green knee-length nightdress, has a round n...  52367   \n",
       "1      Sarees  <p>Multicoloured sari with overtones of green ...  52979   \n",
       "2     Wallets  <p>Worry no longer about managing money, cards...  20431   \n",
       "3       Socks  <p>Pack of five socks in assorted colours<br /...  49232   \n",
       "4      Kurtas  <p><strong>Composition</strong><br />White rou...  28959   \n",
       "\n",
       "  masterCategory                     productDisplayName  \n",
       "0        Apparel        Red Rose Women Green Nightdress  \n",
       "1        Apparel                FNF Multi Coloured Sari  \n",
       "2    Accessories  Baggit Women Tijori Viva Brown Wallet  \n",
       "3    Accessories     Calzini Men Pack of 5 Sports Socks  \n",
       "4        Apparel          BIBA Women Ethnic White Kurta  "
      ]
     },
     "execution_count": 15,
     "metadata": {
      "tags": []
     },
     "output_type": "execute_result"
    }
   ],
   "source": [
    "descriptors_df.head()"
   ]
  },
  {
   "cell_type": "code",
   "execution_count": 16,
   "metadata": {
    "colab": {
     "base_uri": "https://localhost:8080/",
     "height": 52
    },
    "colab_type": "code",
    "id": "rotes-S1jCev",
    "outputId": "149a89df-084e-416e-a236-b0d3ad891cf4"
   },
   "outputs": [
    {
     "name": "stdout",
     "output_type": "stream",
     "text": [
      "Total number of json files 44446\n",
      "Total number of json files used in data extraction 44381\n"
     ]
    }
   ],
   "source": [
    "print('Total number of json files', len(files))\n",
    "print('Total number of json files used in data extraction', descriptors_df.shape[0])"
   ]
  },
  {
   "cell_type": "markdown",
   "metadata": {
    "colab_type": "text",
    "id": "0XAowqqLmRUk"
   },
   "source": [
    "## Storing Extracted data to csv"
   ]
  },
  {
   "cell_type": "markdown",
   "metadata": {
    "colab_type": "text",
    "id": "X6-9Tup_mUzY"
   },
   "source": [
    "Some descriptions contain **\\r** which results in creating a new row in csv and imporper data storage. Removing \\r from description"
   ]
  },
  {
   "cell_type": "code",
   "execution_count": 0,
   "metadata": {
    "colab": {},
    "colab_type": "code",
    "id": "OvWdl-XpnH90"
   },
   "outputs": [],
   "source": [
    "descriptors_df['description'] = descriptors_df['description'].apply(lambda row : row.replace('\\r',''))"
   ]
  },
  {
   "cell_type": "code",
   "execution_count": 0,
   "metadata": {
    "colab": {},
    "colab_type": "code",
    "id": "b0u0dQaTkWV-"
   },
   "outputs": [],
   "source": [
    "descriptors_df.to_csv('extracted_data.csv', index = False)"
   ]
  },
  {
   "cell_type": "markdown",
   "metadata": {
    "colab_type": "text",
    "id": "zTG21ZPViST_"
   },
   "source": [
    "# Data Preprocessing"
   ]
  },
  {
   "cell_type": "code",
   "execution_count": 0,
   "metadata": {
    "colab": {},
    "colab_type": "code",
    "id": "f81j9OlEkcsj"
   },
   "outputs": [],
   "source": [
    "descriptors_df = pd.read_csv('extracted_data.csv')"
   ]
  },
  {
   "cell_type": "code",
   "execution_count": 20,
   "metadata": {
    "colab": {
     "base_uri": "https://localhost:8080/",
     "height": 206
    },
    "colab_type": "code",
    "id": "p4Ua3TvpQsRK",
    "outputId": "44653203-bda9-434e-d985-538459c975b2"
   },
   "outputs": [
    {
     "data": {
      "text/html": [
       "<div>\n",
       "<style scoped>\n",
       "    .dataframe tbody tr th:only-of-type {\n",
       "        vertical-align: middle;\n",
       "    }\n",
       "\n",
       "    .dataframe tbody tr th {\n",
       "        vertical-align: top;\n",
       "    }\n",
       "\n",
       "    .dataframe thead th {\n",
       "        text-align: right;\n",
       "    }\n",
       "</style>\n",
       "<table border=\"1\" class=\"dataframe\">\n",
       "  <thead>\n",
       "    <tr style=\"text-align: right;\">\n",
       "      <th></th>\n",
       "      <th>articleType</th>\n",
       "      <th>description</th>\n",
       "      <th>id</th>\n",
       "      <th>masterCategory</th>\n",
       "      <th>productDisplayName</th>\n",
       "    </tr>\n",
       "  </thead>\n",
       "  <tbody>\n",
       "    <tr>\n",
       "      <th>0</th>\n",
       "      <td>Nightdress</td>\n",
       "      <td>&lt;p&gt;Green knee-length nightdress, has a round n...</td>\n",
       "      <td>52367</td>\n",
       "      <td>Apparel</td>\n",
       "      <td>Red Rose Women Green Nightdress</td>\n",
       "    </tr>\n",
       "    <tr>\n",
       "      <th>1</th>\n",
       "      <td>Sarees</td>\n",
       "      <td>&lt;p&gt;Multicoloured sari with overtones of green ...</td>\n",
       "      <td>52979</td>\n",
       "      <td>Apparel</td>\n",
       "      <td>FNF Multi Coloured Sari</td>\n",
       "    </tr>\n",
       "    <tr>\n",
       "      <th>2</th>\n",
       "      <td>Wallets</td>\n",
       "      <td>&lt;p&gt;Worry no longer about managing money, cards...</td>\n",
       "      <td>20431</td>\n",
       "      <td>Accessories</td>\n",
       "      <td>Baggit Women Tijori Viva Brown Wallet</td>\n",
       "    </tr>\n",
       "    <tr>\n",
       "      <th>3</th>\n",
       "      <td>Socks</td>\n",
       "      <td>&lt;p&gt;Pack of five socks in assorted colours&lt;br /...</td>\n",
       "      <td>49232</td>\n",
       "      <td>Accessories</td>\n",
       "      <td>Calzini Men Pack of 5 Sports Socks</td>\n",
       "    </tr>\n",
       "    <tr>\n",
       "      <th>4</th>\n",
       "      <td>Kurtas</td>\n",
       "      <td>&lt;p&gt;&lt;strong&gt;Composition&lt;/strong&gt;&lt;br /&gt;White rou...</td>\n",
       "      <td>28959</td>\n",
       "      <td>Apparel</td>\n",
       "      <td>BIBA Women Ethnic White Kurta</td>\n",
       "    </tr>\n",
       "  </tbody>\n",
       "</table>\n",
       "</div>"
      ],
      "text/plain": [
       "  articleType                                        description     id  \\\n",
       "0  Nightdress  <p>Green knee-length nightdress, has a round n...  52367   \n",
       "1      Sarees  <p>Multicoloured sari with overtones of green ...  52979   \n",
       "2     Wallets  <p>Worry no longer about managing money, cards...  20431   \n",
       "3       Socks  <p>Pack of five socks in assorted colours<br /...  49232   \n",
       "4      Kurtas  <p><strong>Composition</strong><br />White rou...  28959   \n",
       "\n",
       "  masterCategory                     productDisplayName  \n",
       "0        Apparel        Red Rose Women Green Nightdress  \n",
       "1        Apparel                FNF Multi Coloured Sari  \n",
       "2    Accessories  Baggit Women Tijori Viva Brown Wallet  \n",
       "3    Accessories     Calzini Men Pack of 5 Sports Socks  \n",
       "4        Apparel          BIBA Women Ethnic White Kurta  "
      ]
     },
     "execution_count": 20,
     "metadata": {
      "tags": []
     },
     "output_type": "execute_result"
    }
   ],
   "source": [
    "descriptors_df.head()"
   ]
  },
  {
   "cell_type": "markdown",
   "metadata": {
    "colab_type": "text",
    "id": "ShEmKAdOWiZh"
   },
   "source": [
    "## Preprocessing articleType"
   ]
  },
  {
   "cell_type": "code",
   "execution_count": 21,
   "metadata": {
    "colab": {
     "base_uri": "https://localhost:8080/",
     "height": 34
    },
    "colab_type": "code",
    "id": "K_h4lYcHWoTt",
    "outputId": "9734befe-c3c4-485e-89c5-fe0363926ea1"
   },
   "outputs": [
    {
     "data": {
      "text/plain": [
       "False"
      ]
     },
     "execution_count": 21,
     "metadata": {
      "tags": []
     },
     "output_type": "execute_result"
    }
   ],
   "source": [
    "#checking for null values\n",
    "descriptors_df.articleType.isnull().any()"
   ]
  },
  {
   "cell_type": "markdown",
   "metadata": {
    "colab_type": "text",
    "id": "O98m0I96XGhT"
   },
   "source": [
    "No null valuse found"
   ]
  },
  {
   "cell_type": "markdown",
   "metadata": {
    "colab_type": "text",
    "id": "e2QxwP6dXIt0"
   },
   "source": [
    "Replacing space with _ and converting each articleType to lowercase"
   ]
  },
  {
   "cell_type": "code",
   "execution_count": 0,
   "metadata": {
    "colab": {},
    "colab_type": "code",
    "id": "GZyZBuJMXXX-"
   },
   "outputs": [],
   "source": [
    "descriptors_df['articleType'] = descriptors_df['articleType'].apply(lambda row : row.replace(' ','_'))\n",
    "descriptors_df['articleType'] = descriptors_df['articleType'].apply(lambda row : row.lower())"
   ]
  },
  {
   "cell_type": "code",
   "execution_count": 23,
   "metadata": {
    "colab": {
     "base_uri": "https://localhost:8080/",
     "height": 206
    },
    "colab_type": "code",
    "id": "YZgHlDrGXz4r",
    "outputId": "0e6d5d90-72fc-4ebb-9259-050d2e2392b6"
   },
   "outputs": [
    {
     "data": {
      "text/html": [
       "<div>\n",
       "<style scoped>\n",
       "    .dataframe tbody tr th:only-of-type {\n",
       "        vertical-align: middle;\n",
       "    }\n",
       "\n",
       "    .dataframe tbody tr th {\n",
       "        vertical-align: top;\n",
       "    }\n",
       "\n",
       "    .dataframe thead th {\n",
       "        text-align: right;\n",
       "    }\n",
       "</style>\n",
       "<table border=\"1\" class=\"dataframe\">\n",
       "  <thead>\n",
       "    <tr style=\"text-align: right;\">\n",
       "      <th></th>\n",
       "      <th>articleType</th>\n",
       "      <th>description</th>\n",
       "      <th>id</th>\n",
       "      <th>masterCategory</th>\n",
       "      <th>productDisplayName</th>\n",
       "    </tr>\n",
       "  </thead>\n",
       "  <tbody>\n",
       "    <tr>\n",
       "      <th>0</th>\n",
       "      <td>nightdress</td>\n",
       "      <td>&lt;p&gt;Green knee-length nightdress, has a round n...</td>\n",
       "      <td>52367</td>\n",
       "      <td>Apparel</td>\n",
       "      <td>Red Rose Women Green Nightdress</td>\n",
       "    </tr>\n",
       "    <tr>\n",
       "      <th>1</th>\n",
       "      <td>sarees</td>\n",
       "      <td>&lt;p&gt;Multicoloured sari with overtones of green ...</td>\n",
       "      <td>52979</td>\n",
       "      <td>Apparel</td>\n",
       "      <td>FNF Multi Coloured Sari</td>\n",
       "    </tr>\n",
       "    <tr>\n",
       "      <th>2</th>\n",
       "      <td>wallets</td>\n",
       "      <td>&lt;p&gt;Worry no longer about managing money, cards...</td>\n",
       "      <td>20431</td>\n",
       "      <td>Accessories</td>\n",
       "      <td>Baggit Women Tijori Viva Brown Wallet</td>\n",
       "    </tr>\n",
       "    <tr>\n",
       "      <th>3</th>\n",
       "      <td>socks</td>\n",
       "      <td>&lt;p&gt;Pack of five socks in assorted colours&lt;br /...</td>\n",
       "      <td>49232</td>\n",
       "      <td>Accessories</td>\n",
       "      <td>Calzini Men Pack of 5 Sports Socks</td>\n",
       "    </tr>\n",
       "    <tr>\n",
       "      <th>4</th>\n",
       "      <td>kurtas</td>\n",
       "      <td>&lt;p&gt;&lt;strong&gt;Composition&lt;/strong&gt;&lt;br /&gt;White rou...</td>\n",
       "      <td>28959</td>\n",
       "      <td>Apparel</td>\n",
       "      <td>BIBA Women Ethnic White Kurta</td>\n",
       "    </tr>\n",
       "  </tbody>\n",
       "</table>\n",
       "</div>"
      ],
      "text/plain": [
       "  articleType                                        description     id  \\\n",
       "0  nightdress  <p>Green knee-length nightdress, has a round n...  52367   \n",
       "1      sarees  <p>Multicoloured sari with overtones of green ...  52979   \n",
       "2     wallets  <p>Worry no longer about managing money, cards...  20431   \n",
       "3       socks  <p>Pack of five socks in assorted colours<br /...  49232   \n",
       "4      kurtas  <p><strong>Composition</strong><br />White rou...  28959   \n",
       "\n",
       "  masterCategory                     productDisplayName  \n",
       "0        Apparel        Red Rose Women Green Nightdress  \n",
       "1        Apparel                FNF Multi Coloured Sari  \n",
       "2    Accessories  Baggit Women Tijori Viva Brown Wallet  \n",
       "3    Accessories     Calzini Men Pack of 5 Sports Socks  \n",
       "4        Apparel          BIBA Women Ethnic White Kurta  "
      ]
     },
     "execution_count": 23,
     "metadata": {
      "tags": []
     },
     "output_type": "execute_result"
    }
   ],
   "source": [
    "descriptors_df.head()"
   ]
  },
  {
   "cell_type": "markdown",
   "metadata": {
    "colab_type": "text",
    "id": "9q78zbOoWYnN"
   },
   "source": [
    "## Preprocessing displayName"
   ]
  },
  {
   "cell_type": "code",
   "execution_count": 24,
   "metadata": {
    "colab": {
     "base_uri": "https://localhost:8080/",
     "height": 34
    },
    "colab_type": "code",
    "id": "ZOcXX9M_WDNH",
    "outputId": "dba8346f-2a7e-4dac-9bb4-0e9a968ccac8"
   },
   "outputs": [
    {
     "data": {
      "text/plain": [
       "True"
      ]
     },
     "execution_count": 24,
     "metadata": {
      "tags": []
     },
     "output_type": "execute_result"
    }
   ],
   "source": [
    "#checking for null values\n",
    "descriptors_df.productDisplayName.isnull().any()"
   ]
  },
  {
   "cell_type": "markdown",
   "metadata": {
    "colab_type": "text",
    "id": "SsLD1HPBYSBz"
   },
   "source": [
    "Null values are present, removing null values"
   ]
  },
  {
   "cell_type": "code",
   "execution_count": 0,
   "metadata": {
    "colab": {},
    "colab_type": "code",
    "id": "mKcKDHZXYYdd"
   },
   "outputs": [],
   "source": [
    "descriptors_df.dropna(subset = ['productDisplayName'], inplace = True)"
   ]
  },
  {
   "cell_type": "code",
   "execution_count": 0,
   "metadata": {
    "colab": {},
    "colab_type": "code",
    "id": "JVqCnmC5cDX8"
   },
   "outputs": [],
   "source": [
    "descriptors_df['productDisplayName'] = descriptors_df['productDisplayName'].apply(lambda row : row.replace('-',''))\n",
    "descriptors_df['productDisplayName'] = descriptors_df['productDisplayName'].apply(lambda row : row.lower())"
   ]
  },
  {
   "cell_type": "code",
   "execution_count": 27,
   "metadata": {
    "colab": {
     "base_uri": "https://localhost:8080/",
     "height": 206
    },
    "colab_type": "code",
    "id": "RRABs9IbaMep",
    "outputId": "413db23e-c3eb-40a0-abd2-4891e706a39b"
   },
   "outputs": [
    {
     "data": {
      "text/html": [
       "<div>\n",
       "<style scoped>\n",
       "    .dataframe tbody tr th:only-of-type {\n",
       "        vertical-align: middle;\n",
       "    }\n",
       "\n",
       "    .dataframe tbody tr th {\n",
       "        vertical-align: top;\n",
       "    }\n",
       "\n",
       "    .dataframe thead th {\n",
       "        text-align: right;\n",
       "    }\n",
       "</style>\n",
       "<table border=\"1\" class=\"dataframe\">\n",
       "  <thead>\n",
       "    <tr style=\"text-align: right;\">\n",
       "      <th></th>\n",
       "      <th>articleType</th>\n",
       "      <th>description</th>\n",
       "      <th>id</th>\n",
       "      <th>masterCategory</th>\n",
       "      <th>productDisplayName</th>\n",
       "    </tr>\n",
       "  </thead>\n",
       "  <tbody>\n",
       "    <tr>\n",
       "      <th>0</th>\n",
       "      <td>nightdress</td>\n",
       "      <td>&lt;p&gt;Green knee-length nightdress, has a round n...</td>\n",
       "      <td>52367</td>\n",
       "      <td>Apparel</td>\n",
       "      <td>red rose women green nightdress</td>\n",
       "    </tr>\n",
       "    <tr>\n",
       "      <th>1</th>\n",
       "      <td>sarees</td>\n",
       "      <td>&lt;p&gt;Multicoloured sari with overtones of green ...</td>\n",
       "      <td>52979</td>\n",
       "      <td>Apparel</td>\n",
       "      <td>fnf multi coloured sari</td>\n",
       "    </tr>\n",
       "    <tr>\n",
       "      <th>2</th>\n",
       "      <td>wallets</td>\n",
       "      <td>&lt;p&gt;Worry no longer about managing money, cards...</td>\n",
       "      <td>20431</td>\n",
       "      <td>Accessories</td>\n",
       "      <td>baggit women tijori viva brown wallet</td>\n",
       "    </tr>\n",
       "    <tr>\n",
       "      <th>3</th>\n",
       "      <td>socks</td>\n",
       "      <td>&lt;p&gt;Pack of five socks in assorted colours&lt;br /...</td>\n",
       "      <td>49232</td>\n",
       "      <td>Accessories</td>\n",
       "      <td>calzini men pack of 5 sports socks</td>\n",
       "    </tr>\n",
       "    <tr>\n",
       "      <th>4</th>\n",
       "      <td>kurtas</td>\n",
       "      <td>&lt;p&gt;&lt;strong&gt;Composition&lt;/strong&gt;&lt;br /&gt;White rou...</td>\n",
       "      <td>28959</td>\n",
       "      <td>Apparel</td>\n",
       "      <td>biba women ethnic white kurta</td>\n",
       "    </tr>\n",
       "  </tbody>\n",
       "</table>\n",
       "</div>"
      ],
      "text/plain": [
       "  articleType                                        description     id  \\\n",
       "0  nightdress  <p>Green knee-length nightdress, has a round n...  52367   \n",
       "1      sarees  <p>Multicoloured sari with overtones of green ...  52979   \n",
       "2     wallets  <p>Worry no longer about managing money, cards...  20431   \n",
       "3       socks  <p>Pack of five socks in assorted colours<br /...  49232   \n",
       "4      kurtas  <p><strong>Composition</strong><br />White rou...  28959   \n",
       "\n",
       "  masterCategory                     productDisplayName  \n",
       "0        Apparel        red rose women green nightdress  \n",
       "1        Apparel                fnf multi coloured sari  \n",
       "2    Accessories  baggit women tijori viva brown wallet  \n",
       "3    Accessories     calzini men pack of 5 sports socks  \n",
       "4        Apparel          biba women ethnic white kurta  "
      ]
     },
     "execution_count": 27,
     "metadata": {
      "tags": []
     },
     "output_type": "execute_result"
    }
   ],
   "source": [
    "descriptors_df.head()"
   ]
  },
  {
   "cell_type": "markdown",
   "metadata": {
    "colab_type": "text",
    "id": "yxMyywJyWS4o"
   },
   "source": [
    "## Preprocessing description"
   ]
  },
  {
   "cell_type": "code",
   "execution_count": 28,
   "metadata": {
    "colab": {
     "base_uri": "https://localhost:8080/",
     "height": 34
    },
    "colab_type": "code",
    "id": "qTQlAHjsaEIn",
    "outputId": "d9381525-f07d-432c-af12-71e095766925"
   },
   "outputs": [
    {
     "data": {
      "text/plain": [
       "False"
      ]
     },
     "execution_count": 28,
     "metadata": {
      "tags": []
     },
     "output_type": "execute_result"
    }
   ],
   "source": [
    "#checking for null values\n",
    "descriptors_df.description.isnull().any()"
   ]
  },
  {
   "cell_type": "markdown",
   "metadata": {
    "colab_type": "text",
    "id": "NTvT6DuDbykH"
   },
   "source": [
    "No null values found, preprocessing the following things"
   ]
  },
  {
   "cell_type": "markdown",
   "metadata": {
    "colab_type": "text",
    "id": "5UkEcYhEov18"
   },
   "source": [
    "1. Remove rows with description = '-'\n",
    "2. Remove html tags\n",
    "3. Remove words like Style Note, iuml, raquo, etc\n",
    "4. Removing Special Characters\n",
    "5. Stopword Removal"
   ]
  },
  {
   "cell_type": "code",
   "execution_count": 0,
   "metadata": {
    "colab": {},
    "colab_type": "code",
    "id": "h4DaOWXAYmVO"
   },
   "outputs": [],
   "source": [
    "#https://stackoverflow.com/questions/9662346/python-code-to-remove-html-tags-from-a-string\n",
    "#function for reomving html tags\n",
    "def cleanhtml(raw_html):\n",
    "  cleanr = re.compile('<.*?>')\n",
    "  cleantext = re.sub(cleanr, '', raw_html)\n",
    "  return cleantext\n",
    "\n",
    "#https://stackoverflow.com/questions/6116978/how-to-replace-multiple-substrings-of-a-string\n",
    "#function for removing multiple substrings in a string\n",
    "def replace_all(text, dic):\n",
    "    for i, j in dic.items():\n",
    "        text = text.replace(i, j)\n",
    "    return text"
   ]
  },
  {
   "cell_type": "code",
   "execution_count": 30,
   "metadata": {
    "colab": {
     "base_uri": "https://localhost:8080/",
     "height": 34
    },
    "colab_type": "code",
    "id": "m1vMKHPcmwe7",
    "outputId": "53f1a38b-81c4-43fd-e8b7-57d3d49f164c"
   },
   "outputs": [
    {
     "name": "stderr",
     "output_type": "stream",
     "text": [
      "100%|██████████| 43440/43440 [11:07<00:00, 65.08it/s]\n"
     ]
    }
   ],
   "source": [
    "#removing rows which contain only '-' in description\n",
    "descriptors_df = descriptors_df[descriptors_df.description != '-']\n",
    "\n",
    "preprocessed_descriptors = []\n",
    "for text in tqdm(descriptors_df['description'].values):\n",
    "    text = cleanhtml(text)\n",
    "    \n",
    "    d = { 'Style Note' : '', 'Composition' : '', 'nbsp' : '', 'iuml' : '', 'raquo' : '', 'iquest' : ''}\n",
    "    text = replace_all(text, d)                                                                 #replace the above substrings with ''\n",
    "    \n",
    "    text = re.sub(r\"\\'s\", \" is\", text)\n",
    "    text = re.sub('[^A-Za-z0-9]+', ' ', text)                                                   #remove special characters\n",
    "    text = [word for word in text.split() if word.lower() not in stopwords.words('english')]    #gets a list of non stopwords\n",
    "    text = ' '.join(text)                                                                       #join the words of above list using space\n",
    "    preprocessed_descriptors.append(text.lower().strip())"
   ]
  },
  {
   "cell_type": "code",
   "execution_count": 0,
   "metadata": {
    "colab": {},
    "colab_type": "code",
    "id": "bj6-EO58rA8_"
   },
   "outputs": [],
   "source": [
    "data = pd.DataFrame()\n",
    "data['id'] = descriptors_df['id'].values\n",
    "data['articleType'] = descriptors_df['articleType'].values\n",
    "data['productDisplayName'] = descriptors_df['productDisplayName'].values\n",
    "data['preprocessed_description'] = preprocessed_descriptors\n",
    "data['masterCategory'] = descriptors_df['masterCategory'].values"
   ]
  },
  {
   "cell_type": "code",
   "execution_count": 32,
   "metadata": {
    "colab": {
     "base_uri": "https://localhost:8080/",
     "height": 206
    },
    "colab_type": "code",
    "id": "lIAXGwtzrciC",
    "outputId": "00a59e78-1c47-4be9-9dfb-b90bc4453817"
   },
   "outputs": [
    {
     "data": {
      "text/html": [
       "<div>\n",
       "<style scoped>\n",
       "    .dataframe tbody tr th:only-of-type {\n",
       "        vertical-align: middle;\n",
       "    }\n",
       "\n",
       "    .dataframe tbody tr th {\n",
       "        vertical-align: top;\n",
       "    }\n",
       "\n",
       "    .dataframe thead th {\n",
       "        text-align: right;\n",
       "    }\n",
       "</style>\n",
       "<table border=\"1\" class=\"dataframe\">\n",
       "  <thead>\n",
       "    <tr style=\"text-align: right;\">\n",
       "      <th></th>\n",
       "      <th>id</th>\n",
       "      <th>articleType</th>\n",
       "      <th>productDisplayName</th>\n",
       "      <th>preprocessed_description</th>\n",
       "      <th>masterCategory</th>\n",
       "    </tr>\n",
       "  </thead>\n",
       "  <tbody>\n",
       "    <tr>\n",
       "      <th>0</th>\n",
       "      <td>52367</td>\n",
       "      <td>nightdress</td>\n",
       "      <td>red rose women green nightdress</td>\n",
       "      <td>green knee length nightdress round neck sleeve...</td>\n",
       "      <td>Apparel</td>\n",
       "    </tr>\n",
       "    <tr>\n",
       "      <th>1</th>\n",
       "      <td>52979</td>\n",
       "      <td>sarees</td>\n",
       "      <td>fnf multi coloured sari</td>\n",
       "      <td>multicoloured sari overtones green red self pa...</td>\n",
       "      <td>Apparel</td>\n",
       "    </tr>\n",
       "    <tr>\n",
       "      <th>2</th>\n",
       "      <td>20431</td>\n",
       "      <td>wallets</td>\n",
       "      <td>baggit women tijori viva brown wallet</td>\n",
       "      <td>worry longer managing money cards coins tote b...</td>\n",
       "      <td>Accessories</td>\n",
       "    </tr>\n",
       "    <tr>\n",
       "      <th>3</th>\n",
       "      <td>49232</td>\n",
       "      <td>socks</td>\n",
       "      <td>calzini men pack of 5 sports socks</td>\n",
       "      <td>pack five socks assorted colours ribbed elasti...</td>\n",
       "      <td>Accessories</td>\n",
       "    </tr>\n",
       "    <tr>\n",
       "      <th>4</th>\n",
       "      <td>28959</td>\n",
       "      <td>kurtas</td>\n",
       "      <td>biba women ethnic white kurta</td>\n",
       "      <td>white round neck kurta made 100 cotton short p...</td>\n",
       "      <td>Apparel</td>\n",
       "    </tr>\n",
       "  </tbody>\n",
       "</table>\n",
       "</div>"
      ],
      "text/plain": [
       "      id articleType                     productDisplayName  \\\n",
       "0  52367  nightdress        red rose women green nightdress   \n",
       "1  52979      sarees                fnf multi coloured sari   \n",
       "2  20431     wallets  baggit women tijori viva brown wallet   \n",
       "3  49232       socks     calzini men pack of 5 sports socks   \n",
       "4  28959      kurtas          biba women ethnic white kurta   \n",
       "\n",
       "                            preprocessed_description masterCategory  \n",
       "0  green knee length nightdress round neck sleeve...        Apparel  \n",
       "1  multicoloured sari overtones green red self pa...        Apparel  \n",
       "2  worry longer managing money cards coins tote b...    Accessories  \n",
       "3  pack five socks assorted colours ribbed elasti...    Accessories  \n",
       "4  white round neck kurta made 100 cotton short p...        Apparel  "
      ]
     },
     "execution_count": 32,
     "metadata": {
      "tags": []
     },
     "output_type": "execute_result"
    }
   ],
   "source": [
    "data.head()"
   ]
  },
  {
   "cell_type": "markdown",
   "metadata": {
    "colab_type": "text",
    "id": "UP4Z6edrthEe"
   },
   "source": [
    "## Storing preprocessed data into csv"
   ]
  },
  {
   "cell_type": "markdown",
   "metadata": {
    "colab_type": "text",
    "id": "R51Pofq3tOn2"
   },
   "source": [
    "Due to preprocessing some of the descriptions have become empty. This results in NaN values in csv. "
   ]
  },
  {
   "cell_type": "code",
   "execution_count": 33,
   "metadata": {
    "colab": {
     "base_uri": "https://localhost:8080/",
     "height": 206
    },
    "colab_type": "code",
    "id": "ZDWb2pNkZ13c",
    "outputId": "38f3c7dd-b8ea-404f-bcfc-92c04f865686"
   },
   "outputs": [
    {
     "data": {
      "text/html": [
       "<div>\n",
       "<style scoped>\n",
       "    .dataframe tbody tr th:only-of-type {\n",
       "        vertical-align: middle;\n",
       "    }\n",
       "\n",
       "    .dataframe tbody tr th {\n",
       "        vertical-align: top;\n",
       "    }\n",
       "\n",
       "    .dataframe thead th {\n",
       "        text-align: right;\n",
       "    }\n",
       "</style>\n",
       "<table border=\"1\" class=\"dataframe\">\n",
       "  <thead>\n",
       "    <tr style=\"text-align: right;\">\n",
       "      <th></th>\n",
       "      <th>id</th>\n",
       "      <th>articleType</th>\n",
       "      <th>productDisplayName</th>\n",
       "      <th>preprocessed_description</th>\n",
       "      <th>masterCategory</th>\n",
       "    </tr>\n",
       "  </thead>\n",
       "  <tbody>\n",
       "    <tr>\n",
       "      <th>176</th>\n",
       "      <td>52506</td>\n",
       "      <td>bath_robe</td>\n",
       "      <td>red rose women blue floral printed bathrobe</td>\n",
       "      <td></td>\n",
       "      <td>Apparel</td>\n",
       "    </tr>\n",
       "    <tr>\n",
       "      <th>407</th>\n",
       "      <td>45035</td>\n",
       "      <td>watches</td>\n",
       "      <td>maxima men grey dial watch</td>\n",
       "      <td></td>\n",
       "      <td>Accessories</td>\n",
       "    </tr>\n",
       "    <tr>\n",
       "      <th>899</th>\n",
       "      <td>45273</td>\n",
       "      <td>watches</td>\n",
       "      <td>casio youth men blue digital watch i072 w7532avdf</td>\n",
       "      <td></td>\n",
       "      <td>Accessories</td>\n",
       "    </tr>\n",
       "    <tr>\n",
       "      <th>1460</th>\n",
       "      <td>40647</td>\n",
       "      <td>kurtas</td>\n",
       "      <td>span women purple kurta</td>\n",
       "      <td></td>\n",
       "      <td>Apparel</td>\n",
       "    </tr>\n",
       "    <tr>\n",
       "      <th>1461</th>\n",
       "      <td>40607</td>\n",
       "      <td>kurtas</td>\n",
       "      <td>span women red kurta</td>\n",
       "      <td></td>\n",
       "      <td>Apparel</td>\n",
       "    </tr>\n",
       "  </tbody>\n",
       "</table>\n",
       "</div>"
      ],
      "text/plain": [
       "         id articleType                                 productDisplayName  \\\n",
       "176   52506   bath_robe        red rose women blue floral printed bathrobe   \n",
       "407   45035     watches                         maxima men grey dial watch   \n",
       "899   45273     watches  casio youth men blue digital watch i072 w7532avdf   \n",
       "1460  40647      kurtas                            span women purple kurta   \n",
       "1461  40607      kurtas                               span women red kurta   \n",
       "\n",
       "     preprocessed_description masterCategory  \n",
       "176                                  Apparel  \n",
       "407                              Accessories  \n",
       "899                              Accessories  \n",
       "1460                                 Apparel  \n",
       "1461                                 Apparel  "
      ]
     },
     "execution_count": 33,
     "metadata": {
      "tags": []
     },
     "output_type": "execute_result"
    }
   ],
   "source": [
    "data[data.preprocessed_description == ''].head()"
   ]
  },
  {
   "cell_type": "markdown",
   "metadata": {
    "colab_type": "text",
    "id": "qaeL8Xn3uElU"
   },
   "source": [
    "Lests see what was the extracted description at these ids"
   ]
  },
  {
   "cell_type": "code",
   "execution_count": 34,
   "metadata": {
    "colab": {
     "base_uri": "https://localhost:8080/",
     "height": 206
    },
    "colab_type": "code",
    "id": "qh6VRIqjfQ6G",
    "outputId": "d07bb74a-c09d-446d-81ec-b2e8706e3906"
   },
   "outputs": [
    {
     "data": {
      "text/html": [
       "<div>\n",
       "<style scoped>\n",
       "    .dataframe tbody tr th:only-of-type {\n",
       "        vertical-align: middle;\n",
       "    }\n",
       "\n",
       "    .dataframe tbody tr th {\n",
       "        vertical-align: top;\n",
       "    }\n",
       "\n",
       "    .dataframe thead th {\n",
       "        text-align: right;\n",
       "    }\n",
       "</style>\n",
       "<table border=\"1\" class=\"dataframe\">\n",
       "  <thead>\n",
       "    <tr style=\"text-align: right;\">\n",
       "      <th></th>\n",
       "      <th>articleType</th>\n",
       "      <th>description</th>\n",
       "      <th>id</th>\n",
       "      <th>masterCategory</th>\n",
       "      <th>productDisplayName</th>\n",
       "    </tr>\n",
       "  </thead>\n",
       "  <tbody>\n",
       "    <tr>\n",
       "      <th>178</th>\n",
       "      <td>bath_robe</td>\n",
       "      <td>&lt;p&gt;Style Note&lt;/p&gt;</td>\n",
       "      <td>52506</td>\n",
       "      <td>Apparel</td>\n",
       "      <td>red rose women blue floral printed bathrobe</td>\n",
       "    </tr>\n",
       "    <tr>\n",
       "      <th>411</th>\n",
       "      <td>watches</td>\n",
       "      <td>&lt;p&gt;Style Note&lt;/p&gt;</td>\n",
       "      <td>45035</td>\n",
       "      <td>Accessories</td>\n",
       "      <td>maxima men grey dial watch</td>\n",
       "    </tr>\n",
       "    <tr>\n",
       "      <th>911</th>\n",
       "      <td>watches</td>\n",
       "      <td>Style Note</td>\n",
       "      <td>45273</td>\n",
       "      <td>Accessories</td>\n",
       "      <td>casio youth men blue digital watch i072 w7532avdf</td>\n",
       "    </tr>\n",
       "    <tr>\n",
       "      <th>1481</th>\n",
       "      <td>kurtas</td>\n",
       "      <td>&lt;p&gt;Style Note&lt;/p&gt;</td>\n",
       "      <td>40647</td>\n",
       "      <td>Apparel</td>\n",
       "      <td>span women purple kurta</td>\n",
       "    </tr>\n",
       "    <tr>\n",
       "      <th>1482</th>\n",
       "      <td>kurtas</td>\n",
       "      <td>&lt;p&gt;Style Note&lt;/p&gt;</td>\n",
       "      <td>40607</td>\n",
       "      <td>Apparel</td>\n",
       "      <td>span women red kurta</td>\n",
       "    </tr>\n",
       "  </tbody>\n",
       "</table>\n",
       "</div>"
      ],
      "text/plain": [
       "     articleType        description     id masterCategory  \\\n",
       "178    bath_robe  <p>Style Note</p>  52506        Apparel   \n",
       "411      watches  <p>Style Note</p>  45035    Accessories   \n",
       "911      watches         Style Note  45273    Accessories   \n",
       "1481      kurtas  <p>Style Note</p>  40647        Apparel   \n",
       "1482      kurtas  <p>Style Note</p>  40607        Apparel   \n",
       "\n",
       "                                     productDisplayName  \n",
       "178         red rose women blue floral printed bathrobe  \n",
       "411                          maxima men grey dial watch  \n",
       "911   casio youth men blue digital watch i072 w7532avdf  \n",
       "1481                            span women purple kurta  \n",
       "1482                               span women red kurta  "
      ]
     },
     "execution_count": 34,
     "metadata": {
      "tags": []
     },
     "output_type": "execute_result"
    }
   ],
   "source": [
    "ids = data[data.preprocessed_description == ''].head().id.values                        #taking the above ids\n",
    "descriptors_df.loc[descriptors_df['id'].isin(ids)]"
   ]
  },
  {
   "cell_type": "markdown",
   "metadata": {
    "colab_type": "text",
    "id": "Kdp2vP7DvSl7"
   },
   "source": [
    "As extracted dataset contain only Style Note in its description, the preprocessed dataset has nothing in its description."
   ]
  },
  {
   "cell_type": "markdown",
   "metadata": {
    "colab_type": "text",
    "id": "1JgSZA8EvpzI"
   },
   "source": [
    "Removing rows with no description"
   ]
  },
  {
   "cell_type": "code",
   "execution_count": 0,
   "metadata": {
    "colab": {},
    "colab_type": "code",
    "id": "jLBfaw_Xcktr"
   },
   "outputs": [],
   "source": [
    "data = data[data.preprocessed_description != '']"
   ]
  },
  {
   "cell_type": "markdown",
   "metadata": {
    "colab_type": "text",
    "id": "mmBOPqgTYQzZ"
   },
   "source": [
    "Removing rows for which image is not present"
   ]
  },
  {
   "cell_type": "code",
   "execution_count": 36,
   "metadata": {
    "colab": {
     "base_uri": "https://localhost:8080/",
     "height": 34
    },
    "colab_type": "code",
    "id": "EFGRj_4IbqiQ",
    "outputId": "068c40d4-91bf-4fa2-aea4-f27424ce90c9"
   },
   "outputs": [
    {
     "name": "stdout",
     "output_type": "stream",
     "text": [
      "Total rows before removing rows for which image is not present 43316\n"
     ]
    }
   ],
   "source": [
    "print('Total rows before removing rows for which image is not present', data.shape[0])"
   ]
  },
  {
   "cell_type": "code",
   "execution_count": 0,
   "metadata": {
    "colab": {},
    "colab_type": "code",
    "id": "aNAEHMVJaLN_"
   },
   "outputs": [],
   "source": [
    "dir_path = './fashion-dataset/images/'\n",
    "files = os.listdir(dir_path) \n",
    "\n",
    "for index, row in data.iterrows():\n",
    "    img_name = str(row['id']) + '.jpg'                    #getting image name from data\n",
    "    if(img_name not in files):                            #if no file for present for image name\n",
    "        data = data[data.id != row['id']]                 #remove that row"
   ]
  },
  {
   "cell_type": "code",
   "execution_count": 38,
   "metadata": {
    "colab": {
     "base_uri": "https://localhost:8080/",
     "height": 34
    },
    "colab_type": "code",
    "id": "dgq6NOhFb2eA",
    "outputId": "c73a08a1-37fd-4250-e713-0345082ec88f"
   },
   "outputs": [
    {
     "name": "stdout",
     "output_type": "stream",
     "text": [
      "Total rows after removing rows for which image is not present 27887\n"
     ]
    }
   ],
   "source": [
    "print('Total rows after removing rows for which image is not present', data.shape[0])"
   ]
  },
  {
   "cell_type": "code",
   "execution_count": 39,
   "metadata": {
    "colab": {
     "base_uri": "https://localhost:8080/",
     "height": 191
    },
    "colab_type": "code",
    "id": "cbIGKlJbdRZQ",
    "outputId": "a93cf5e7-a7f8-4ddd-9374-0fe87c1cee5b"
   },
   "outputs": [
    {
     "name": "stdout",
     "output_type": "stream",
     "text": [
      "<class 'pandas.core.frame.DataFrame'>\n",
      "Int64Index: 27887 entries, 0 to 43439\n",
      "Data columns (total 5 columns):\n",
      "id                          27887 non-null int64\n",
      "articleType                 27887 non-null object\n",
      "productDisplayName          27887 non-null object\n",
      "preprocessed_description    27887 non-null object\n",
      "masterCategory              27887 non-null object\n",
      "dtypes: int64(1), object(4)\n",
      "memory usage: 1.3+ MB\n"
     ]
    }
   ],
   "source": [
    "data.info()"
   ]
  },
  {
   "cell_type": "code",
   "execution_count": 0,
   "metadata": {
    "colab": {},
    "colab_type": "code",
    "id": "6hyhFeGvA6y7"
   },
   "outputs": [],
   "source": [
    "data.reset_index(drop = True, inplace = True)"
   ]
  },
  {
   "cell_type": "code",
   "execution_count": 0,
   "metadata": {
    "colab": {},
    "colab_type": "code",
    "id": "lDLXxwPTwCqL"
   },
   "outputs": [],
   "source": [
    "data.to_csv('preprocessed_data.csv', index = False)"
   ]
  },
  {
   "cell_type": "markdown",
   "metadata": {
    "colab_type": "text",
    "id": "glCm7ZqRv40f"
   },
   "source": [
    "# Data Analysis"
   ]
  },
  {
   "cell_type": "code",
   "execution_count": 0,
   "metadata": {
    "colab": {},
    "colab_type": "code",
    "id": "ZK2YFvPqwCqd"
   },
   "outputs": [],
   "source": [
    "data = pd.read_csv('preprocessed_data.csv')"
   ]
  },
  {
   "cell_type": "code",
   "execution_count": 43,
   "metadata": {
    "colab": {
     "base_uri": "https://localhost:8080/",
     "height": 191
    },
    "colab_type": "code",
    "id": "P1hBgq-VwCqn",
    "outputId": "7178c82b-6b8c-4f01-fe2b-4bc8c572be87"
   },
   "outputs": [
    {
     "name": "stdout",
     "output_type": "stream",
     "text": [
      "<class 'pandas.core.frame.DataFrame'>\n",
      "RangeIndex: 27887 entries, 0 to 27886\n",
      "Data columns (total 5 columns):\n",
      "id                          27887 non-null int64\n",
      "articleType                 27887 non-null object\n",
      "productDisplayName          27887 non-null object\n",
      "preprocessed_description    27887 non-null object\n",
      "masterCategory              27887 non-null object\n",
      "dtypes: int64(1), object(4)\n",
      "memory usage: 1.1+ MB\n"
     ]
    }
   ],
   "source": [
    "data.info()"
   ]
  },
  {
   "cell_type": "code",
   "execution_count": 44,
   "metadata": {
    "colab": {
     "base_uri": "https://localhost:8080/",
     "height": 34
    },
    "colab_type": "code",
    "id": "9xavxAFT5e39",
    "outputId": "e251c611-e883-41c0-faf9-fd6f8c60ba61"
   },
   "outputs": [
    {
     "name": "stdout",
     "output_type": "stream",
     "text": [
      "Total number of data points are 27887\n"
     ]
    }
   ],
   "source": [
    "print('Total number of data points are', data.shape[0])"
   ]
  },
  {
   "cell_type": "markdown",
   "metadata": {
    "colab_type": "text",
    "id": "tOzGIaF64FHj"
   },
   "source": [
    "## Distribution of class labels "
   ]
  },
  {
   "cell_type": "code",
   "execution_count": 45,
   "metadata": {
    "colab": {
     "base_uri": "https://localhost:8080/",
     "height": 457
    },
    "colab_type": "code",
    "id": "t0SUPjpg34Xo",
    "outputId": "b677a92e-39b3-4cb6-ad25-207d34bda7c7"
   },
   "outputs": [
    {
     "data": {
      "image/png": "[encoded data removed]",
      "text/plain": [
       "<Figure size 432x288 with 1 Axes>"
      ]
     },
     "metadata": {
      "tags": []
     },
     "output_type": "display_data"
    },
    {
     "name": "stdout",
     "output_type": "stream",
     "text": [
      "Number of data points in class 1 : 13500 ( 48.41 %)\n",
      "Number of data points in class 0 : 6944 ( 24.9 %)\n",
      "Number of data points in class 2 : 5767 ( 20.68 %)\n",
      "Number of data points in class 4 : 1594 ( 5.716 %)\n",
      "Number of data points in class 3 : 64 ( 0.229 %)\n",
      "Number of data points in class 5 : 18 ( 0.065 %)\n"
     ]
    }
   ],
   "source": [
    "value_counts = data['masterCategory'].value_counts().sortlevel()\n",
    "\n",
    "value_counts.plot(kind = 'bar')\n",
    "plt.xlabel('Class')\n",
    "plt.ylabel('Number of points')\n",
    "plt.title('Data points per class')\n",
    "plt.show()\n",
    "\n",
    "sorted_vc = np.argsort(-value_counts.values)\n",
    "for i in sorted_vc:\n",
    "    print('Number of data points in class', i, ':',value_counts.values[i], '(', np.round((value_counts.values[i]/data.shape[0]*100), 3), '%)')"
   ]
  },
  {
   "cell_type": "markdown",
   "metadata": {
    "colab_type": "text",
    "id": "xhIyJwFC82DP"
   },
   "source": [
    "The data is highly imbalaced, with class 1 covering 48% of total datapoints whiles classes 3 and 6 have only 0.229% and 0.065% of points."
   ]
  },
  {
   "cell_type": "markdown",
   "metadata": {
    "colab_type": "text",
    "id": "6vcgvRliwufa"
   },
   "source": [
    "### Convering Categorical output into numerical output"
   ]
  },
  {
   "cell_type": "code",
   "execution_count": 46,
   "metadata": {
    "colab": {
     "base_uri": "https://localhost:8080/",
     "height": 293
    },
    "colab_type": "code",
    "id": "TWXEbpL9wdBJ",
    "outputId": "cbe622fd-5ad8-447e-d34a-e5e37e57b886"
   },
   "outputs": [
    {
     "data": {
      "text/html": [
       "<div>\n",
       "<style scoped>\n",
       "    .dataframe tbody tr th:only-of-type {\n",
       "        vertical-align: middle;\n",
       "    }\n",
       "\n",
       "    .dataframe tbody tr th {\n",
       "        vertical-align: top;\n",
       "    }\n",
       "\n",
       "    .dataframe thead th {\n",
       "        text-align: right;\n",
       "    }\n",
       "</style>\n",
       "<table border=\"1\" class=\"dataframe\">\n",
       "  <thead>\n",
       "    <tr style=\"text-align: right;\">\n",
       "      <th></th>\n",
       "      <th>id</th>\n",
       "      <th>articleType</th>\n",
       "      <th>productDisplayName</th>\n",
       "      <th>preprocessed_description</th>\n",
       "      <th>masterCategory</th>\n",
       "      <th>masterCategoryEncoded</th>\n",
       "    </tr>\n",
       "  </thead>\n",
       "  <tbody>\n",
       "    <tr>\n",
       "      <th>0</th>\n",
       "      <td>52367</td>\n",
       "      <td>nightdress</td>\n",
       "      <td>red rose women green nightdress</td>\n",
       "      <td>green knee length nightdress round neck sleeve...</td>\n",
       "      <td>Apparel</td>\n",
       "      <td>1</td>\n",
       "    </tr>\n",
       "    <tr>\n",
       "      <th>1</th>\n",
       "      <td>52979</td>\n",
       "      <td>sarees</td>\n",
       "      <td>fnf multi coloured sari</td>\n",
       "      <td>multicoloured sari overtones green red self pa...</td>\n",
       "      <td>Apparel</td>\n",
       "      <td>1</td>\n",
       "    </tr>\n",
       "    <tr>\n",
       "      <th>2</th>\n",
       "      <td>20431</td>\n",
       "      <td>wallets</td>\n",
       "      <td>baggit women tijori viva brown wallet</td>\n",
       "      <td>worry longer managing money cards coins tote b...</td>\n",
       "      <td>Accessories</td>\n",
       "      <td>0</td>\n",
       "    </tr>\n",
       "    <tr>\n",
       "      <th>3</th>\n",
       "      <td>28959</td>\n",
       "      <td>kurtas</td>\n",
       "      <td>biba women ethnic white kurta</td>\n",
       "      <td>white round neck kurta made 100 cotton short p...</td>\n",
       "      <td>Apparel</td>\n",
       "      <td>1</td>\n",
       "    </tr>\n",
       "    <tr>\n",
       "      <th>4</th>\n",
       "      <td>53468</td>\n",
       "      <td>bra</td>\n",
       "      <td>amante confidence nudecoloured balconette bra ...</td>\n",
       "      <td>nude coloured black balconette bra lightly pad...</td>\n",
       "      <td>Apparel</td>\n",
       "      <td>1</td>\n",
       "    </tr>\n",
       "  </tbody>\n",
       "</table>\n",
       "</div>"
      ],
      "text/plain": [
       "      id articleType                                 productDisplayName  \\\n",
       "0  52367  nightdress                    red rose women green nightdress   \n",
       "1  52979      sarees                            fnf multi coloured sari   \n",
       "2  20431     wallets              baggit women tijori viva brown wallet   \n",
       "3  28959      kurtas                      biba women ethnic white kurta   \n",
       "4  53468         bra  amante confidence nudecoloured balconette bra ...   \n",
       "\n",
       "                            preprocessed_description masterCategory  \\\n",
       "0  green knee length nightdress round neck sleeve...        Apparel   \n",
       "1  multicoloured sari overtones green red self pa...        Apparel   \n",
       "2  worry longer managing money cards coins tote b...    Accessories   \n",
       "3  white round neck kurta made 100 cotton short p...        Apparel   \n",
       "4  nude coloured black balconette bra lightly pad...        Apparel   \n",
       "\n",
       "   masterCategoryEncoded  \n",
       "0                      1  \n",
       "1                      1  \n",
       "2                      0  \n",
       "3                      1  \n",
       "4                      1  "
      ]
     },
     "execution_count": 46,
     "metadata": {
      "tags": []
     },
     "output_type": "execute_result"
    }
   ],
   "source": [
    "le = LabelEncoder()\n",
    "\n",
    "masterCategoryEncoded = le.fit_transform(data['masterCategory'])\n",
    "data['masterCategoryEncoded'] = masterCategoryEncoded\n",
    "data.head()"
   ]
  },
  {
   "cell_type": "markdown",
   "metadata": {
    "colab_type": "text",
    "id": "_tMLPhcTjw8e"
   },
   "source": [
    "## Analysis on articleType"
   ]
  },
  {
   "cell_type": "code",
   "execution_count": 47,
   "metadata": {
    "colab": {
     "base_uri": "https://localhost:8080/",
     "height": 1094
    },
    "colab_type": "code",
    "id": "ehcw7ysQlBDY",
    "outputId": "46d826e7-8282-4b29-b010-c7018c391b00"
   },
   "outputs": [
    {
     "data": {
      "text/plain": [
       "tshirts                      4415\n",
       "shirts                       2130\n",
       "casual_shoes                 1779\n",
       "watches                      1527\n",
       "sports_shoes                 1286\n",
       "kurtas                       1147\n",
       "handbags                     1133\n",
       "tops                         1016\n",
       "heels                         842\n",
       "wallets                       580\n",
       "sandals                       573\n",
       "flip_flops                    548\n",
       "briefs                        543\n",
       "sunglasses                    540\n",
       "belts                         519\n",
       "backpacks                     478\n",
       "socks                         470\n",
       "perfume_and_body_mist         406\n",
       "shorts                        384\n",
       "formal_shoes                  377\n",
       "jeans                         350\n",
       "trousers                      348\n",
       "flats                         313\n",
       "sarees                        290\n",
       "bra                           283\n",
       "dresses                       263\n",
       "earrings                      240\n",
       "deodorant                     216\n",
       "track_pants                   214\n",
       "nail_polish                   211\n",
       "                             ... \n",
       "jumpsuit                        5\n",
       "travel_accessory                5\n",
       "beauty_accessory                4\n",
       "headband                        4\n",
       "eye_cream                       4\n",
       "robe                            4\n",
       "lip_plumper                     4\n",
       "hat                             3\n",
       "nail_essentials                 3\n",
       "toner                           3\n",
       "blazers                         3\n",
       "nehru_jackets                   3\n",
       "shrug                           3\n",
       "face_scrub_and_exfoliator       3\n",
       "salwar_and_dupatta              2\n",
       "makeup_remover                  2\n",
       "ties_and_cufflinks              2\n",
       "key_chain                       2\n",
       "trolley_bag                     2\n",
       "face_serum_and_gel              2\n",
       "tablet_sleeve                   2\n",
       "lounge_tshirts                  2\n",
       "wristbands                      2\n",
       "umbrellas                       2\n",
       "lehenga_choli                   2\n",
       "hair_accessory                  1\n",
       "body_wash_and_scrub             1\n",
       "shoe_laces                      1\n",
       "ipad                            1\n",
       "mens_grooming_kit               1\n",
       "Name: articleType, Length: 139, dtype: int64"
      ]
     },
     "execution_count": 47,
     "metadata": {
      "tags": []
     },
     "output_type": "execute_result"
    }
   ],
   "source": [
    "#different articles and their number of occurances\n",
    "data['articleType'].value_counts()"
   ]
  },
  {
   "cell_type": "code",
   "execution_count": 48,
   "metadata": {
    "colab": {
     "base_uri": "https://localhost:8080/",
     "height": 34
    },
    "colab_type": "code",
    "id": "KdjQnpEjj1Y0",
    "outputId": "2f6b0afc-b3a8-4dfd-9d3c-f04ed01edaa3"
   },
   "outputs": [
    {
     "name": "stdout",
     "output_type": "stream",
     "text": [
      "Total unique values in articleType are 139\n"
     ]
    }
   ],
   "source": [
    "print('Total unique values in articleType are', len(data['articleType'].unique()))"
   ]
  },
  {
   "cell_type": "markdown",
   "metadata": {
    "colab_type": "text",
    "id": "8-BSm8aPlg75"
   },
   "source": [
    "### Top articleType for each class"
   ]
  },
  {
   "cell_type": "code",
   "execution_count": 49,
   "metadata": {
    "colab": {
     "base_uri": "https://localhost:8080/",
     "height": 442
    },
    "colab_type": "code",
    "id": "a1O4Vm4glemi",
    "outputId": "a44f008e-b6fd-4f37-f905-5ee3e7e2d7c8"
   },
   "outputs": [
    {
     "data": {
      "image/png": "[encoded data removed]",
      "text/plain": [
       "<Figure size 1296x504 with 6 Axes>"
      ]
     },
     "metadata": {
      "tags": []
     },
     "output_type": "display_data"
    }
   ],
   "source": [
    "fix, axs = plt.subplots(nrows = 2, ncols = 3, figsize=(18, 7))\n",
    "\n",
    "for i in range(2):\n",
    "    for j in range(3):\n",
    "        feature_counts = data[data['masterCategoryEncoded'] == i*3+j].groupby('articleType')['id'].count().reset_index()         #selecting a master category and grouping by articleType and counting values, 'id' is provided so that count values becomes a column\n",
    "        sorted_feature_counts = feature_counts.sort_values('id', ascending = False)[0:5]\n",
    "        sns.barplot(x = 'id', y = 'articleType', data = sorted_feature_counts, ax=axs[i][j])"
   ]
  },
  {
   "cell_type": "markdown",
   "metadata": {
    "colab_type": "text",
    "id": "tHa-Pbhrm9l1"
   },
   "source": [
    "Top articleType for each class are very different, hence this feature can be very usefull in classification."
   ]
  },
  {
   "cell_type": "markdown",
   "metadata": {
    "colab_type": "text",
    "id": "aHg4NUl0m3z1"
   },
   "source": [
    "## Analysis on displayName"
   ]
  },
  {
   "cell_type": "markdown",
   "metadata": {
    "colab_type": "text",
    "id": "3tgkZKtynPPt"
   },
   "source": [
    "### Top words for each class"
   ]
  },
  {
   "cell_type": "code",
   "execution_count": 0,
   "metadata": {
    "colab": {},
    "colab_type": "code",
    "id": "-b00arPbnPP2"
   },
   "outputs": [],
   "source": [
    "#creating a dictionary which will contain a word as key and its frequency as value for a single class\n",
    "\n",
    "#takes a dataframe which will contain rows of a particular class\n",
    "def dictionary_for_class(df):\n",
    "    dictionary = defaultdict(int)\n",
    "    for index, row in df.iterrows():\n",
    "        for word in row['productDisplayName'].split():\n",
    "            dictionary[word] +=1\n",
    "    return dictionary"
   ]
  },
  {
   "cell_type": "code",
   "execution_count": 0,
   "metadata": {
    "colab": {},
    "colab_type": "code",
    "id": "WpQv9vb4nPQE"
   },
   "outputs": [],
   "source": [
    "dict_list = []                                             #a dictionary which will contain 6 dictionarys for each class\n",
    "\n",
    "for i in range(0,6):\n",
    "    df = data[data['masterCategoryEncoded'] == i]\n",
    "    dict_list.append(dictionary_for_class(df))"
   ]
  },
  {
   "cell_type": "code",
   "execution_count": 52,
   "metadata": {
    "colab": {
     "base_uri": "https://localhost:8080/",
     "height": 442
    },
    "colab_type": "code",
    "id": "yT3GJNUhnPQN",
    "outputId": "3284ca0e-1712-476c-d2e2-f53b062b2a5e"
   },
   "outputs": [
    {
     "data": {
      "image/png": "[encoded data removed]",
      "text/plain": [
       "<Figure size 1296x504 with 6 Axes>"
      ]
     },
     "metadata": {
      "tags": []
     },
     "output_type": "display_data"
    }
   ],
   "source": [
    "fix, axs = plt.subplots(nrows = 2, ncols = 3, figsize=(18, 7))\n",
    "\n",
    "for i in range(2):\n",
    "    for j in range(3):\n",
    "        temp = pd.DataFrame(list(dict_list[(i*3+j)].items()), columns = ['Words', 'Counts'])\n",
    "        sorted_words = temp.sort_values('Counts', ascending = False)[:10]\n",
    "        sns.barplot(x = \"Counts\", y = \"Words\", data = sorted_words, ax=axs[i][j])"
   ]
  },
  {
   "cell_type": "markdown",
   "metadata": {
    "colab_type": "text",
    "id": "wKFAzdibnp6H"
   },
   "source": [
    "Top words for each categories have some common words like, men, women, black. white, etc. Hence this feature wont be much usefull in classification"
   ]
  },
  {
   "cell_type": "markdown",
   "metadata": {
    "colab_type": "text",
    "id": "wfkSAs3ioM0o"
   },
   "source": [
    "## Analysis on discription"
   ]
  },
  {
   "cell_type": "markdown",
   "metadata": {
    "colab_type": "text",
    "id": "D03ohF9M9bkj"
   },
   "source": [
    "### Top words for each class"
   ]
  },
  {
   "cell_type": "code",
   "execution_count": 0,
   "metadata": {
    "colab": {},
    "colab_type": "code",
    "id": "8atPydAM1hBX"
   },
   "outputs": [],
   "source": [
    "#creating a dictionary which will contain a word as key and its frequency as value for a single class\n",
    "\n",
    "#takes a dataframe which will contain rows of a particular class\n",
    "def dictionary_for_class(df):\n",
    "    dictionary = defaultdict(int)\n",
    "    for index, row in df.iterrows():\n",
    "        for word in row['preprocessed_description'].split():\n",
    "            dictionary[word] +=1\n",
    "    return dictionary"
   ]
  },
  {
   "cell_type": "code",
   "execution_count": 0,
   "metadata": {
    "colab": {},
    "colab_type": "code",
    "id": "rezuLg8Q2VTS"
   },
   "outputs": [],
   "source": [
    "dict_list = []                                             #a dictionary which will contain 6 dictionarys for each class\n",
    "\n",
    "for i in range(0,6):\n",
    "    df = data[data['masterCategoryEncoded'] == i]\n",
    "    dict_list.append(dictionary_for_class(df))"
   ]
  },
  {
   "cell_type": "code",
   "execution_count": 55,
   "metadata": {
    "colab": {
     "base_uri": "https://localhost:8080/",
     "height": 442
    },
    "colab_type": "code",
    "id": "n7BHFlMt29jE",
    "outputId": "a3ec0b19-b833-41cb-ab06-cbdeec261876"
   },
   "outputs": [
    {
     "data": {
      "image/png": "[encoded data removed]",
      "text/plain": [
       "<Figure size 1296x504 with 6 Axes>"
      ]
     },
     "metadata": {
      "tags": []
     },
     "output_type": "display_data"
    }
   ],
   "source": [
    "fix, axs = plt.subplots(nrows = 2, ncols = 3, figsize=(18, 7))\n",
    "\n",
    "for i in range(2):\n",
    "    for j in range(3):\n",
    "        temp = pd.DataFrame(list(dict_list[(i*3+j)].items()), columns = ['Words', 'Counts'])\n",
    "        sorted_words = temp.sort_values('Counts', ascending = False)[:10]\n",
    "        sns.barplot(x = \"Counts\", y = \"Words\", data = sorted_words, ax=axs[i][j])"
   ]
  },
  {
   "cell_type": "markdown",
   "metadata": {
    "colab_type": "text",
    "id": "siysFSNi-zQW"
   },
   "source": [
    "Top words are each class are very different except for class 0 and 3 i.e Accessories and Free Items. Maybe many of the  Free Items are Accessories."
   ]
  },
  {
   "cell_type": "markdown",
   "metadata": {
    "colab_type": "text",
    "id": "A5ABoYRE_mtR"
   },
   "source": [
    "As top words for each class are different we can easily classify the data points. However there are very few data points for Free Items and Sporting Goods classes, which can be a problem."
   ]
  },
  {
   "cell_type": "markdown",
   "metadata": {
    "colab_type": "text",
    "id": "v1O7Xcz8pqk_"
   },
   "source": [
    "# Creating train and test dataset"
   ]
  },
  {
   "cell_type": "markdown",
   "metadata": {
    "colab_type": "text",
    "id": "rkx9vulQ_tYl"
   },
   "source": [
    "## Splitting the dataset"
   ]
  },
  {
   "cell_type": "code",
   "execution_count": 56,
   "metadata": {
    "colab": {
     "base_uri": "https://localhost:8080/",
     "height": 34
    },
    "colab_type": "code",
    "id": "XoV92m8X93XV",
    "outputId": "c0a24290-e738-4bdb-8339-43c644a7e152"
   },
   "outputs": [
    {
     "name": "stdout",
     "output_type": "stream",
     "text": [
      "Shape of tr data, cv data and test data is : (17847, 4) (4462, 4) (5578, 4)\n"
     ]
    }
   ],
   "source": [
    "#creating input and output parts\n",
    "X = data.drop(['masterCategory', 'masterCategoryEncoded'], axis = 1)\n",
    "Y = data['masterCategoryEncoded']\n",
    "\n",
    "#splitting the data into train/test\n",
    "X_train, X_test, Y_train, Y_test = train_test_split(X, Y, test_size = 0.2, stratify = Y, random_state = 0)\n",
    "X_tr, X_cv, Y_tr, Y_cv = train_test_split(X_train, Y_train, test_size = 0.2, stratify = Y_train, random_state = 0)\n",
    "\n",
    "print(\"Shape of tr data, cv data and test data is :\", X_tr.shape, X_cv.shape, X_test.shape)"
   ]
  },
  {
   "cell_type": "code",
   "execution_count": 57,
   "metadata": {
    "colab": {
     "base_uri": "https://localhost:8080/",
     "height": 206
    },
    "colab_type": "code",
    "id": "gSh6EY43o8iV",
    "outputId": "56832e62-33d2-47ff-878d-b2b4eeaa56df"
   },
   "outputs": [
    {
     "data": {
      "text/html": [
       "<div>\n",
       "<style scoped>\n",
       "    .dataframe tbody tr th:only-of-type {\n",
       "        vertical-align: middle;\n",
       "    }\n",
       "\n",
       "    .dataframe tbody tr th {\n",
       "        vertical-align: top;\n",
       "    }\n",
       "\n",
       "    .dataframe thead th {\n",
       "        text-align: right;\n",
       "    }\n",
       "</style>\n",
       "<table border=\"1\" class=\"dataframe\">\n",
       "  <thead>\n",
       "    <tr style=\"text-align: right;\">\n",
       "      <th></th>\n",
       "      <th>id</th>\n",
       "      <th>articleType</th>\n",
       "      <th>productDisplayName</th>\n",
       "      <th>preprocessed_description</th>\n",
       "    </tr>\n",
       "  </thead>\n",
       "  <tbody>\n",
       "    <tr>\n",
       "      <th>4341</th>\n",
       "      <td>32036</td>\n",
       "      <td>socks</td>\n",
       "      <td>playboy men navy socks</td>\n",
       "      <td>navy blue light blue socks ribbed mouth brandi...</td>\n",
       "    </tr>\n",
       "    <tr>\n",
       "      <th>26339</th>\n",
       "      <td>59502</td>\n",
       "      <td>pendant</td>\n",
       "      <td>lucera gold plated pendant with chain</td>\n",
       "      <td>gold toned pendant encrusted stones comes chai...</td>\n",
       "    </tr>\n",
       "    <tr>\n",
       "      <th>15957</th>\n",
       "      <td>12852</td>\n",
       "      <td>shirts</td>\n",
       "      <td>ant kids pocket button green shirts</td>\n",
       "      <td>green black white check shirt made 100 cotton ...</td>\n",
       "    </tr>\n",
       "    <tr>\n",
       "      <th>8569</th>\n",
       "      <td>5870</td>\n",
       "      <td>casual_shoes</td>\n",
       "      <td>converse unisex heck os black white shoe</td>\n",
       "      <td>dedicated basketball champ chuck taylor chuck ...</td>\n",
       "    </tr>\n",
       "    <tr>\n",
       "      <th>12255</th>\n",
       "      <td>34105</td>\n",
       "      <td>shorts</td>\n",
       "      <td>doodle boys check blue shorts</td>\n",
       "      <td>multi hued check shorts two side pockets two p...</td>\n",
       "    </tr>\n",
       "  </tbody>\n",
       "</table>\n",
       "</div>"
      ],
      "text/plain": [
       "          id   articleType                        productDisplayName  \\\n",
       "4341   32036         socks                    playboy men navy socks   \n",
       "26339  59502       pendant     lucera gold plated pendant with chain   \n",
       "15957  12852        shirts       ant kids pocket button green shirts   \n",
       "8569    5870  casual_shoes  converse unisex heck os black white shoe   \n",
       "12255  34105        shorts             doodle boys check blue shorts   \n",
       "\n",
       "                                preprocessed_description  \n",
       "4341   navy blue light blue socks ribbed mouth brandi...  \n",
       "26339  gold toned pendant encrusted stones comes chai...  \n",
       "15957  green black white check shirt made 100 cotton ...  \n",
       "8569   dedicated basketball champ chuck taylor chuck ...  \n",
       "12255  multi hued check shorts two side pockets two p...  "
      ]
     },
     "execution_count": 57,
     "metadata": {
      "tags": []
     },
     "output_type": "execute_result"
    }
   ],
   "source": [
    "X_tr.head()"
   ]
  },
  {
   "cell_type": "markdown",
   "metadata": {
    "colab_type": "text",
    "id": "5dbz3doJ7w4k"
   },
   "source": [
    "### Distribution of class labels for train, cv and test data."
   ]
  },
  {
   "cell_type": "code",
   "execution_count": 58,
   "metadata": {
    "colab": {
     "base_uri": "https://localhost:8080/",
     "height": 1183
    },
    "colab_type": "code",
    "id": "2txZ6rDn75Ev",
    "outputId": "9fcc4c39-3ce7-45fb-a470-025fb84b1f20"
   },
   "outputs": [
    {
     "data": {
      "image/png": "[encoded data removed]",
      "text/plain": [
       "<Figure size 432x288 with 1 Axes>"
      ]
     },
     "metadata": {
      "tags": []
     },
     "output_type": "display_data"
    },
    {
     "name": "stdout",
     "output_type": "stream",
     "text": [
      "Number of data points in class 1 : 8640 ( 48.411 %)\n",
      "Number of data points in class 0 : 4444 ( 24.901 %)\n",
      "Number of data points in class 2 : 3691 ( 20.681 %)\n",
      "Number of data points in class 4 : 1020 ( 5.715 %)\n",
      "Number of data points in class 3 : 41 ( 0.23 %)\n",
      "Number of data points in class 5 : 11 ( 0.062 %)\n",
      "--------------------------------------------------------------------------------\n"
     ]
    },
    {
     "data": {
      "image/png": "[encoded data removed]",
      "text/plain": [
       "<Figure size 432x288 with 1 Axes>"
      ]
     },
     "metadata": {
      "tags": []
     },
     "output_type": "display_data"
    },
    {
     "name": "stdout",
     "output_type": "stream",
     "text": [
      "Number of data points in class 1 : 2160 ( 12.103 %)\n",
      "Number of data points in class 0 : 1111 ( 6.225 %)\n",
      "Number of data points in class 2 : 923 ( 5.172 %)\n",
      "Number of data points in class 4 : 255 ( 1.429 %)\n",
      "Number of data points in class 3 : 10 ( 0.056 %)\n",
      "Number of data points in class 5 : 3 ( 0.017 %)\n",
      "--------------------------------------------------------------------------------\n"
     ]
    },
    {
     "data": {
      "image/png": "[encoded data removed]",
      "text/plain": [
       "<Figure size 432x288 with 1 Axes>"
      ]
     },
     "metadata": {
      "tags": []
     },
     "output_type": "display_data"
    },
    {
     "name": "stdout",
     "output_type": "stream",
     "text": [
      "Number of data points in class 1 : 2700 ( 48.404 %)\n",
      "Number of data points in class 0 : 1389 ( 24.901 %)\n",
      "Number of data points in class 2 : 1153 ( 20.67 %)\n",
      "Number of data points in class 4 : 319 ( 5.719 %)\n",
      "Number of data points in class 3 : 13 ( 0.233 %)\n",
      "Number of data points in class 5 : 4 ( 0.072 %)\n"
     ]
    }
   ],
   "source": [
    "value_counts = Y_tr.value_counts().sortlevel()\n",
    "\n",
    "value_counts.plot(kind = 'bar')\n",
    "plt.xlabel('Class')\n",
    "plt.ylabel('Number of points')\n",
    "plt.title('Data points per class for train data')\n",
    "plt.show()\n",
    "\n",
    "sorted_vc = np.argsort(-value_counts.values)\n",
    "for i in sorted_vc:\n",
    "    print('Number of data points in class', i, ':',value_counts.values[i], '(', np.round((value_counts.values[i]/X_tr.shape[0]*100), 3), '%)')\n",
    "    \n",
    "   \n",
    "print('-'*80)\n",
    "value_counts = Y_cv.value_counts().sortlevel()\n",
    "\n",
    "value_counts.plot(kind = 'bar')\n",
    "plt.xlabel('Class')\n",
    "plt.ylabel('Number of points')\n",
    "plt.title('Data points per class for train data')\n",
    "plt.show()\n",
    "\n",
    "sorted_vc = np.argsort(-value_counts.values)\n",
    "for i in sorted_vc:\n",
    "    print('Number of data points in class', i, ':',value_counts.values[i], '(', np.round((value_counts.values[i]/X_tr.shape[0]*100), 3), '%)')\n",
    "\n",
    "    \n",
    "print('-'*80)\n",
    "value_counts = Y_test.value_counts().sortlevel()\n",
    "\n",
    "value_counts.plot(kind = 'bar')\n",
    "plt.xlabel('Class')\n",
    "plt.ylabel('Number of points')\n",
    "plt.title('Data points per class for test data')\n",
    "plt.show()\n",
    "\n",
    "sorted_vc = np.argsort(-value_counts.values)\n",
    "for i in sorted_vc:\n",
    "    print('Number of data points in class', i, ':',value_counts.values[i], '(', np.round((value_counts.values[i]/X_test.shape[0]*100), 3), '%)')"
   ]
  },
  {
   "cell_type": "markdown",
   "metadata": {
    "colab_type": "text",
    "id": "9WNlOQ2Rq7np"
   },
   "source": [
    "## Encoding Features"
   ]
  },
  {
   "cell_type": "markdown",
   "metadata": {
    "colab_type": "text",
    "id": "JRlVSa3trA0B"
   },
   "source": [
    "### One Hot encoding of articleType"
   ]
  },
  {
   "cell_type": "code",
   "execution_count": 59,
   "metadata": {
    "colab": {
     "base_uri": "https://localhost:8080/",
     "height": 69
    },
    "colab_type": "code",
    "id": "TzTIgYNMrIuF",
    "outputId": "741d393f-db8e-4908-a737-72fe1d064cf4"
   },
   "outputs": [
    {
     "name": "stdout",
     "output_type": "stream",
     "text": [
      "Shape of matrix after one hot encoding  (17847, 136)\n",
      "Shape of matrix after one hot encoding  (4462, 136)\n",
      "Shape of matrix after one hot encoding  (5578, 136)\n"
     ]
    }
   ],
   "source": [
    "vectorizer = CountVectorizer(lowercase = False, binary = True)\n",
    "articleType_tr = vectorizer.fit_transform(X_tr['articleType'].values)\n",
    "articleType_cv = vectorizer.transform(X_cv['articleType'].values)\n",
    "articleType_test = vectorizer.transform(X_test['articleType'].values)\n",
    "\n",
    "print(\"Shape of matrix after one hot encoding \",articleType_tr.shape)\n",
    "print(\"Shape of matrix after one hot encoding \",articleType_cv.shape)\n",
    "print(\"Shape of matrix after one hot encoding \",articleType_test.shape)"
   ]
  },
  {
   "cell_type": "markdown",
   "metadata": {
    "colab_type": "text",
    "id": "Ieg3qpdtrzyy"
   },
   "source": [
    "### Bag of words encoding of product displayName"
   ]
  },
  {
   "cell_type": "code",
   "execution_count": 60,
   "metadata": {
    "colab": {
     "base_uri": "https://localhost:8080/",
     "height": 69
    },
    "colab_type": "code",
    "id": "-aVwdmOlr7xF",
    "outputId": "2f46e289-3c41-4249-8dc6-cd99af4dbd88"
   },
   "outputs": [
    {
     "name": "stdout",
     "output_type": "stream",
     "text": [
      "Shape of matrix after bow encoding  (17847, 806)\n",
      "Shape of matrix after bow encoding  (4462, 806)\n",
      "Shape of matrix after bow encoding  (5578, 806)\n"
     ]
    }
   ],
   "source": [
    "vectorizer = CountVectorizer(min_df = 10)\n",
    "displayName_tr = vectorizer.fit_transform(X_tr['productDisplayName'])\n",
    "displayName_cv = vectorizer.transform(X_cv['productDisplayName'])\n",
    "displayName_test = vectorizer.transform(X_test['productDisplayName'])\n",
    "\n",
    "print(\"Shape of matrix after bow encoding \",displayName_tr.shape)\n",
    "print(\"Shape of matrix after bow encoding \",displayName_cv.shape)\n",
    "print(\"Shape of matrix after bow encoding \",displayName_test.shape)"
   ]
  },
  {
   "cell_type": "markdown",
   "metadata": {
    "colab_type": "text",
    "id": "v9BP-6bhAjw3"
   },
   "source": [
    "### Bag of words encoding of product description"
   ]
  },
  {
   "cell_type": "code",
   "execution_count": 61,
   "metadata": {
    "colab": {
     "base_uri": "https://localhost:8080/",
     "height": 69
    },
    "colab_type": "code",
    "id": "V6L6Gw_VAVXa",
    "outputId": "8a90473f-610d-4d3e-9b1f-2968c3614177"
   },
   "outputs": [
    {
     "name": "stdout",
     "output_type": "stream",
     "text": [
      "Shape of matrix after bow encoding  (17847, 5117)\n",
      "Shape of matrix after bow encoding  (4462, 5117)\n",
      "Shape of matrix after bow encoding  (5578, 5117)\n"
     ]
    }
   ],
   "source": [
    "vectorizer = CountVectorizer(min_df = 10)\n",
    "description_tr = vectorizer.fit_transform(X_tr['preprocessed_description'])\n",
    "description_cv = vectorizer.transform(X_cv['preprocessed_description'])\n",
    "description_test = vectorizer.transform(X_test['preprocessed_description'])\n",
    "\n",
    "print(\"Shape of matrix after bow encoding \",description_tr.shape)\n",
    "print(\"Shape of matrix after bow encoding \",description_cv.shape)\n",
    "print(\"Shape of matrix after bow encoding \",description_test.shape)"
   ]
  },
  {
   "cell_type": "markdown",
   "metadata": {
    "colab_type": "text",
    "id": "zGhFLaD7Odbi"
   },
   "source": [
    "### Encoding Image as feature vector using VGG16 model"
   ]
  },
  {
   "cell_type": "code",
   "execution_count": 62,
   "metadata": {
    "colab": {
     "base_uri": "https://localhost:8080/",
     "height": 141
    },
    "colab_type": "code",
    "id": "OpI2jePgp1JX",
    "outputId": "84c79a10-6e74-4e4e-da5e-80baa859ae03"
   },
   "outputs": [
    {
     "name": "stderr",
     "output_type": "stream",
     "text": [
      "Using TensorFlow backend.\n"
     ]
    },
    {
     "name": "stdout",
     "output_type": "stream",
     "text": [
      "WARNING:tensorflow:From /usr/local/lib/python3.6/dist-packages/tensorflow/python/framework/op_def_library.py:263: colocate_with (from tensorflow.python.framework.ops) is deprecated and will be removed in a future version.\n",
      "Instructions for updating:\n",
      "Colocations handled automatically by placer.\n",
      "Downloading data from https://github.com/fchollet/deep-learning-models/releases/download/v0.1/vgg16_weights_tf_dim_ordering_tf_kernels_notop.h5\n",
      "58892288/58889256 [==============================] - 1s 0us/step\n"
     ]
    }
   ],
   "source": [
    "#https://medium.com/@franky07724_57962/using-keras-pre-trained-models-for-feature-extraction-in-image-clustering-a142c6cdf5b1\n",
    "from keras.preprocessing import image\n",
    "from keras.applications.vgg16 import VGG16\n",
    "from keras.applications.vgg16 import preprocess_input\n",
    "\n",
    "model = VGG16(include_top = False, weights = 'imagenet')"
   ]
  },
  {
   "cell_type": "code",
   "execution_count": 63,
   "metadata": {
    "colab": {
     "base_uri": "https://localhost:8080/",
     "height": 69
    },
    "colab_type": "code",
    "id": "LQsjM9WuQhAa",
    "outputId": "01c41cd8-1da4-4e4d-e1aa-68057e934540"
   },
   "outputs": [
    {
     "name": "stdout",
     "output_type": "stream",
     "text": [
      "Shape of matrix after image encoding 17847\n",
      "Shape of matrix after image encoding 4462\n",
      "Shape of matrix after image encoding 5578\n"
     ]
    }
   ],
   "source": [
    "dir_path = './fashion-dataset/images/'\n",
    "image_tr = []\n",
    "image_cv = []\n",
    "image_test = []\n",
    "#for train set\n",
    "for index, row in X_tr.iterrows():\n",
    "    img_path = dir_path + str(row['id']) + '.jpg'\n",
    "\n",
    "    img = image.load_img(img_path, target_size = (224, 224))         #loads the perticular image\n",
    "    img_data = image.img_to_array(img)                               #converts image to array, shape = (224, 224, 3)\n",
    "    img_data = np.expand_dims(img_data, axis = 0)                    #changing the shape of image to 4d, the extra dimension is for batch\n",
    "    img_data = preprocess_input(img_data)                            #shape = (1, 224, 224, 3)\n",
    "    \n",
    "    image_feature = model.predict(img_data)\n",
    "    image_feature = image_feature.reshape(25088)\n",
    "    \n",
    "    image_tr.append(image_feature)\n",
    "\n",
    "    \n",
    "#for cv set\n",
    "for index, row in X_cv.iterrows():\n",
    "    img_path = dir_path + str(row['id']) + '.jpg'\n",
    "\n",
    "    img = image.load_img(img_path, target_size = (224, 224))         #loads the perticular image\n",
    "    img_data = image.img_to_array(img)                               #converts image to array, shape = (224, 224, 3)\n",
    "    img_data = np.expand_dims(img_data, axis = 0)                    #changing the shape of image to 4d, the extra dimension is for batch\n",
    "    img_data = preprocess_input(img_data)                            #shape = (1, 224, 224, 3)\n",
    "    \n",
    "    image_feature = model.predict(img_data)\n",
    "    image_feature = image_feature.reshape(25088)\n",
    "    \n",
    "    image_cv.append(image_feature)\n",
    "\n",
    "    \n",
    "#for test set\n",
    "for index, row in X_test.iterrows():\n",
    "    img_path = dir_path + str(row['id']) + '.jpg'\n",
    "    \n",
    "    img = image.load_img(img_path, target_size = (224, 224))         #loads the perticular image\n",
    "    img_data = image.img_to_array(img)                               #converts image to array, shape = (224, 224, 3)\n",
    "    img_data = np.expand_dims(img_data, axis = 0)                    #changing the shape of image to 4d, the extra dimension is for batch\n",
    "    img_data = preprocess_input(img_data)                            #shape = (1, 224, 224, 3)\n",
    "    \n",
    "    image_feature = model.predict(img_data)\n",
    "    image_feature = image_feature.reshape(25088)\n",
    "    \n",
    "    image_test.append(image_feature) \n",
    "    \n",
    "print(\"Shape of matrix after image encoding\", len(image_tr))\n",
    "print(\"Shape of matrix after image encoding\", len(image_cv))\n",
    "print(\"Shape of matrix after image encoding\", len(image_test))"
   ]
  },
  {
   "cell_type": "markdown",
   "metadata": {
    "colab_type": "text",
    "id": "-z4YYRsqs74O"
   },
   "source": [
    "### Stacking the above features"
   ]
  },
  {
   "cell_type": "code",
   "execution_count": 64,
   "metadata": {
    "colab": {
     "base_uri": "https://localhost:8080/",
     "height": 69
    },
    "colab_type": "code",
    "id": "v_iLU_Y1s_0x",
    "outputId": "251fe4ed-8b51-4585-df32-603ea05c3114"
   },
   "outputs": [
    {
     "name": "stdout",
     "output_type": "stream",
     "text": [
      "Shape of train data matrix (17847, 31147)\n",
      "Shape of cv data matrix (4462, 31147)\n",
      "Shape of test data matrix (5578, 31147)\n"
     ]
    }
   ],
   "source": [
    "Xtr = hstack((articleType_tr, displayName_tr, description_tr, image_tr)).tocsr()\n",
    "Xcv = hstack((articleType_cv, displayName_cv, description_cv, image_cv)).tocsr()\n",
    "Xtest = hstack((articleType_test, displayName_test, description_test, image_test)).tocsr()\n",
    "\n",
    "print(\"Shape of train data matrix\", Xtr.shape)\n",
    "print(\"Shape of cv data matrix\", Xcv.shape)\n",
    "print(\"Shape of test data matrix\", Xtest.shape)"
   ]
  },
  {
   "cell_type": "markdown",
   "metadata": {
    "colab_type": "text",
    "id": "Avc_XSzL-J-_"
   },
   "source": [
    "## TSNE visualization of data points"
   ]
  },
  {
   "cell_type": "code",
   "execution_count": 0,
   "metadata": {
    "colab": {
     "base_uri": "https://localhost:8080/",
     "height": 456
    },
    "colab_type": "code",
    "id": "TgY8b6wQ-IXY",
    "outputId": "cd8c4c1f-81d6-4836-fc51-0f407db6233b"
   },
   "outputs": [
    {
     "data": {
      "image/png": "[encoded data removed]",
      "text/plain": [
       "<Figure size 482x432 with 1 Axes>"
      ]
     },
     "metadata": {
      "tags": []
     },
     "output_type": "display_data"
    }
   ],
   "source": [
    "x = Xtr.toarray()[:5000]\n",
    "y = Y_tr[:5000]\n",
    "model = TSNE(n_components = 2, perplexity = 50, random_state = 0)\n",
    "tsne_data = model.fit_transform(x)\n",
    "tsne_data = np.vstack((tsne_data.T, y)).T\n",
    "tsne_df = pd.DataFrame(data = tsne_data, columns = (\"Dim_1\", \"Dim_2\", \"label\"))\n",
    "sns.FacetGrid(tsne_df, hue=\"label\", size=6).map(plt.scatter, 'Dim_1','Dim_2').add_legend()\n",
    "plt.title(\"TSNE visualtion of data points\")\n",
    "plt.show()"
   ]
  },
  {
   "cell_type": "markdown",
   "metadata": {
    "colab_type": "text",
    "id": "oCnyE3dbDym-"
   },
   "source": [
    "The graph shows that data is quite seperable, only at some points there is overlap between the classes"
   ]
  },
  {
   "cell_type": "markdown",
   "metadata": {
    "colab_type": "text",
    "id": "GpumCpjfCnT8"
   },
   "source": [
    "# Machine Learning Modelling"
   ]
  },
  {
   "cell_type": "code",
   "execution_count": 0,
   "metadata": {
    "colab": {},
    "colab_type": "code",
    "id": "oMH-H4b2I4_M"
   },
   "outputs": [],
   "source": [
    "def plot_confusion_matrix(test_y, predict_y):\n",
    "    C = confusion_matrix(test_y, predict_y)\n",
    "    A = (((C.T)/(C.sum(axis = 1))).T)\n",
    "    B = (C/C.sum(axis = 0))\n",
    "\n",
    "    labels = [0, 1, 2, 3, 4, 5]\n",
    "    \n",
    "    print(\"-\"*20, \"Confusion matrix\", \"-\"*20)\n",
    "    plt.figure(figsize = (15,7))\n",
    "    sns.heatmap(C, annot = True, cmap = \"YlGnBu\", fmt = \".3f\", xticklabels = labels, yticklabels = labels)\n",
    "    plt.xlabel('Predicted Class')\n",
    "    plt.ylabel('Original Class')\n",
    "    plt.show()\n",
    "    \n",
    "    print(\"-\"*20, \"Precision matrix (Columm Sum=1)\", \"-\"*20)\n",
    "    plt.figure(figsize = (15,7))\n",
    "    sns.heatmap(B, annot = True, cmap = \"YlGnBu\", fmt = \".3f\", xticklabels = labels, yticklabels = labels)\n",
    "    plt.xlabel('Predicted Class')\n",
    "    plt.ylabel('Original Class')\n",
    "    plt.show()\n",
    "    \n",
    "    print(\"-\"*20, \"Recall matrix (Row sum=1)\", \"-\"*20)\n",
    "    plt.figure(figsize = (15,7))\n",
    "    sns.heatmap(A, annot = True, cmap = \"YlGnBu\", fmt = \".3f\", xticklabels = labels, yticklabels = labels)\n",
    "    plt.xlabel('Predicted Class')\n",
    "    plt.ylabel('Original Class')\n",
    "    plt.show()"
   ]
  },
  {
   "cell_type": "markdown",
   "metadata": {
    "colab_type": "text",
    "id": "sxeqM_woHw33"
   },
   "source": [
    "## Random Model"
   ]
  },
  {
   "cell_type": "code",
   "execution_count": 0,
   "metadata": {
    "colab": {
     "base_uri": "https://localhost:8080/",
     "height": 1365
    },
    "colab_type": "code",
    "id": "VbCuxP7THwP6",
    "outputId": "e42cc37a-76de-4c65-bf1d-f4a92086254b"
   },
   "outputs": [
    {
     "name": "stdout",
     "output_type": "stream",
     "text": [
      "Log loss on Test Data using Random Model 2.0878165506159982\n",
      "-------------------- Confusion matrix --------------------\n"
     ]
    },
    {
     "data": {
      "image/png": "[encoded data removed]",
      "text/plain": [
       "<Figure size 1080x504 with 2 Axes>"
      ]
     },
     "metadata": {
      "tags": []
     },
     "output_type": "display_data"
    },
    {
     "name": "stdout",
     "output_type": "stream",
     "text": [
      "-------------------- Precision matrix (Columm Sum=1) --------------------\n"
     ]
    },
    {
     "data": {
      "image/png": "[encoded data removed]",
      "text/plain": [
       "<Figure size 1080x504 with 2 Axes>"
      ]
     },
     "metadata": {
      "tags": []
     },
     "output_type": "display_data"
    },
    {
     "name": "stdout",
     "output_type": "stream",
     "text": [
      "-------------------- Recall matrix (Row sum=1) --------------------\n"
     ]
    },
    {
     "data": {
      "image/png": "[encoded data removed]",
      "text/plain": [
       "<Figure size 1080x504 with 2 Axes>"
      ]
     },
     "metadata": {
      "tags": []
     },
     "output_type": "display_data"
    }
   ],
   "source": [
    "# we need to generate 6 numbers and the sum of numbers should be 1\n",
    "# one solution is to genarate 6 numbers and divide each of the numbers by their sum\n",
    "# ref: https://stackoverflow.com/a/18662466/4084039\n",
    "\n",
    "test_data_len = Xtest.shape[0]\n",
    "\n",
    "#Test set\n",
    "#we create a output array that has exactly same as the test data\n",
    "test_predicted_y = np.zeros((test_data_len, 6))\n",
    "for i in range(test_data_len):\n",
    "    rand_probs = np.random.rand(1, 6)\n",
    "    test_predicted_y[i] = ((rand_probs/sum(sum(rand_probs)))[0])\n",
    "print(\"Log loss on Test Data using Random Model\", log_loss(Y_test, test_predicted_y, eps = 1e-15))\n",
    "\n",
    "predicted_y = np.argmax(test_predicted_y, axis = 1)\n",
    "plot_confusion_matrix(Y_test, predicted_y)"
   ]
  },
  {
   "cell_type": "markdown",
   "metadata": {
    "colab_type": "text",
    "id": "G77zdB0dHzRS"
   },
   "source": [
    "## Logistic Regression model"
   ]
  },
  {
   "cell_type": "code",
   "execution_count": 0,
   "metadata": {
    "colab": {
     "base_uri": "https://localhost:8080/",
     "height": 294
    },
    "colab_type": "code",
    "id": "B87DWCScVoRX",
    "outputId": "b64a88ae-9d23-48c5-c279-b3d40307d9ca"
   },
   "outputs": [
    {
     "data": {
      "image/png": "[encoded data removed]",
      "text/plain": [
       "<Figure size 1440x288 with 4 Axes>"
      ]
     },
     "metadata": {
      "tags": []
     },
     "output_type": "display_data"
    }
   ],
   "source": [
    "alpha = [10**i for i in range(-4, 4)]\n",
    "penalty = ['l1', 'l2']\n",
    "\n",
    "logloss_tr_array = []\n",
    "logloss_cv_array = []\n",
    "for i in alpha:\n",
    "    for j in penalty:\n",
    "        model = SGDClassifier(alpha = i, penalty = j, loss = 'log')\n",
    "        sig_clf = CalibratedClassifierCV(model, method = \"sigmoid\")\n",
    "        sig_clf.fit(Xtr, Y_tr)    \n",
    "        pred_tr = sig_clf.predict_proba(Xtr)\n",
    "        pred_cv = sig_clf.predict_proba(Xcv)\n",
    "        logloss_tr_array.append(log_loss(Y_tr, pred_tr))\n",
    "        logloss_cv_array.append(log_loss(Y_cv, pred_cv))\n",
    "        \n",
    "        \n",
    "#Heatmaps for logloss of train and test data\n",
    "plt.figure(figsize = (20,4))\n",
    "plt.subplot(1, 2, 1)\n",
    "logloss_tr_array = np.array(logloss_tr_array)\n",
    "logloss_tr_array = logloss_tr_array.reshape(len(alpha),len(penalty))\n",
    "sns.heatmap(logloss_tr_array, annot = True, xticklabels = penalty, yticklabels = alpha)\n",
    "plt.xlabel('Penalty')\n",
    "plt.ylabel('Alpha')\n",
    "plt.title('Logloss values of train data')\n",
    "\n",
    "plt.subplot(1, 2, 2)\n",
    "logloss_cv_array = np.array(logloss_cv_array)\n",
    "logloss_cv_array = logloss_cv_array.reshape(len(alpha),len(penalty))\n",
    "sns.heatmap(logloss_cv_array, annot = True, xticklabels = penalty, yticklabels = alpha)\n",
    "plt.xlabel('Penalty')\n",
    "plt.ylabel('Alpha')\n",
    "plt.title('Logloss values of cv data')\n",
    "plt.show()"
   ]
  },
  {
   "cell_type": "code",
   "execution_count": 71,
   "metadata": {
    "colab": {
     "base_uri": "https://localhost:8080/",
     "height": 1400
    },
    "colab_type": "code",
    "id": "XvqnjgYkyoZ3",
    "outputId": "8f982575-8351-4969-fb5e-6eb88f8c0a08"
   },
   "outputs": [
    {
     "name": "stdout",
     "output_type": "stream",
     "text": [
      "Values of best parameters are alpha : 10 and penalty : l2\n",
      "Training on best parameters...\n",
      "For best parameters train logloss is 0.01830914628166722 and test logloss is 0.03998018134724457\n",
      "-------------------- Confusion matrix --------------------\n"
     ]
    },
    {
     "data": {
      "image/png": "[encoded data removed]",
      "text/plain": [
       "<Figure size 1080x504 with 2 Axes>"
      ]
     },
     "metadata": {
      "tags": []
     },
     "output_type": "display_data"
    },
    {
     "name": "stdout",
     "output_type": "stream",
     "text": [
      "-------------------- Precision matrix (Columm Sum=1) --------------------\n"
     ]
    },
    {
     "data": {
      "image/png": "[encoded data removed]",
      "text/plain": [
       "<Figure size 1080x504 with 2 Axes>"
      ]
     },
     "metadata": {
      "tags": []
     },
     "output_type": "display_data"
    },
    {
     "name": "stdout",
     "output_type": "stream",
     "text": [
      "-------------------- Recall matrix (Row sum=1) --------------------\n"
     ]
    },
    {
     "data": {
      "image/png": "[encoded data removed]",
      "text/plain": [
       "<Figure size 1080x504 with 2 Axes>"
      ]
     },
     "metadata": {
      "tags": []
     },
     "output_type": "display_data"
    }
   ],
   "source": [
    "print(\"Values of best parameters are alpha : 10 and penalty : l2\")\n",
    "print(\"Training on best parameters...\")\n",
    "\n",
    "model = SGDClassifier(alpha = 10, penalty = 'l2', loss = 'log')\n",
    "sig_clf = CalibratedClassifierCV(model, method = \"sigmoid\")\n",
    "sig_clf.fit(Xtr, Y_tr)    \n",
    "\n",
    "pred_tr = sig_clf.predict_proba(Xtr)\n",
    "pred_test = sig_clf.predict_proba(Xtest)\n",
    "\n",
    "logloss_tr_lr = log_loss(Y_tr, pred_tr)\n",
    "logloss_test_lr = log_loss(Y_test, pred_test)\n",
    "print(\"For best parameters train logloss is\", logloss_tr_lr, \"and test logloss is\", logloss_test_lr)\n",
    "\n",
    "plot_confusion_matrix(Y_test, sig_clf.predict(Xtest))"
   ]
  },
  {
   "cell_type": "markdown",
   "metadata": {
    "colab_type": "text",
    "id": "FL0Gvou-O4hl"
   },
   "source": [
    "As said before that Free Items(Class 3) are similar to Accesorries(Class0), we can see in the confusion matrix and recall matrix of test set, that the points belonging to class 3 are getting predicted as class 0 class 2. "
   ]
  },
  {
   "cell_type": "markdown",
   "metadata": {
    "colab_type": "text",
    "id": "2BgO8sx251fM"
   },
   "source": [
    "## Random Forest Model"
   ]
  },
  {
   "cell_type": "code",
   "execution_count": 0,
   "metadata": {
    "colab": {
     "base_uri": "https://localhost:8080/",
     "height": 294
    },
    "colab_type": "code",
    "id": "aQvwtwwx7Q6D",
    "outputId": "38f04a06-c05a-4390-bf01-db77bf6bbf81"
   },
   "outputs": [
    {
     "data": {
      "image/png": "[encoded data removed]",
      "text/plain": [
       "<Figure size 1440x288 with 4 Axes>"
      ]
     },
     "metadata": {
      "tags": []
     },
     "output_type": "display_data"
    }
   ],
   "source": [
    "max_depth = [10, 20, 50, 100, 200]\n",
    "n_estimators = [10, 20, 50]\n",
    "\n",
    "logloss_tr_array = []\n",
    "logloss_cv_array = []\n",
    "for i in max_depth:\n",
    "    for j in n_estimators:\n",
    "        model = RandomForestClassifier(max_depth = i, n_estimators = j)\n",
    "        sig_clf = CalibratedClassifierCV(model, method = \"sigmoid\")\n",
    "        sig_clf.fit(Xtr, Y_tr)    \n",
    "        pred_tr = sig_clf.predict_proba(Xtr)\n",
    "        pred_cv = sig_clf.predict_proba(Xcv)\n",
    "        logloss_tr_array.append(log_loss(Y_tr, pred_tr))\n",
    "        logloss_cv_array.append(log_loss(Y_cv, pred_cv))\n",
    "        \n",
    "        \n",
    "#Heatmaps for logloss of train and test data\n",
    "plt.figure(figsize = (20,4))\n",
    "plt.subplot(1, 2, 1)\n",
    "logloss_tr_array = np.array(logloss_tr_array)\n",
    "logloss_tr_array = logloss_tr_array.reshape(len(max_depth),len(n_estimators))\n",
    "sns.heatmap(logloss_tr_array, annot = True, xticklabels = n_estimators, yticklabels = max_depth)\n",
    "plt.xlabel('Estimators')\n",
    "plt.ylabel('Depth')\n",
    "plt.title('Logloss values of train data')\n",
    "\n",
    "plt.subplot(1, 2, 2)\n",
    "logloss_cv_array = np.array(logloss_cv_array)\n",
    "logloss_cv_array = logloss_cv_array.reshape(len(max_depth),len(n_estimators))\n",
    "sns.heatmap(logloss_cv_array, annot = True, xticklabels = n_estimators, yticklabels = max_depth)\n",
    "plt.xlabel('Estimators')\n",
    "plt.ylabel('Depth')\n",
    "plt.title('Logloss values of cv data')\n",
    "plt.show()"
   ]
  },
  {
   "cell_type": "code",
   "execution_count": 70,
   "metadata": {
    "colab": {
     "base_uri": "https://localhost:8080/",
     "height": 1400
    },
    "colab_type": "code",
    "id": "W1aQwTMc7pkx",
    "outputId": "ecf30ac9-ad96-4ba9-e598-a91235b8cf7c"
   },
   "outputs": [
    {
     "name": "stdout",
     "output_type": "stream",
     "text": [
      "Values of best parameters are max_depth : 100 and n_estimators : 50\n",
      "Training on best parameters...\n",
      "For best parameters train logloss is 0.010658678921453184 and test logloss is 0.03717527191379461\n",
      "-------------------- Confusion matrix --------------------\n"
     ]
    },
    {
     "data": {
      "image/png": "[encoded data removed]",
      "text/plain": [
       "<Figure size 1080x504 with 2 Axes>"
      ]
     },
     "metadata": {
      "tags": []
     },
     "output_type": "display_data"
    },
    {
     "name": "stdout",
     "output_type": "stream",
     "text": [
      "-------------------- Precision matrix (Columm Sum=1) --------------------\n"
     ]
    },
    {
     "data": {
      "image/png": "[encoded data removed]",
      "text/plain": [
       "<Figure size 1080x504 with 2 Axes>"
      ]
     },
     "metadata": {
      "tags": []
     },
     "output_type": "display_data"
    },
    {
     "name": "stdout",
     "output_type": "stream",
     "text": [
      "-------------------- Recall matrix (Row sum=1) --------------------\n"
     ]
    },
    {
     "data": {
      "image/png": "[encoded data removed]",
      "text/plain": [
       "<Figure size 1080x504 with 2 Axes>"
      ]
     },
     "metadata": {
      "tags": []
     },
     "output_type": "display_data"
    }
   ],
   "source": [
    "print(\"Values of best parameters are max_depth : 100 and n_estimators : 50\")\n",
    "print(\"Training on best parameters...\")\n",
    "\n",
    "model = RandomForestClassifier(max_depth = 50, n_estimators = 50)\n",
    "sig_clf = CalibratedClassifierCV(model, method = \"sigmoid\")\n",
    "sig_clf.fit(Xtr, Y_tr)    \n",
    "\n",
    "pred_tr = sig_clf.predict_proba(Xtr)\n",
    "pred_test = sig_clf.predict_proba(Xtest)\n",
    "\n",
    "logloss_tr_rf = log_loss(Y_tr, pred_tr)\n",
    "logloss_test_rf = log_loss(Y_test, pred_test)\n",
    "print(\"For best parameters train logloss is\", logloss_tr_rf, \"and test logloss is\", logloss_test_rf)\n",
    "\n",
    "plot_confusion_matrix(Y_test, sig_clf.predict(Xtest))"
   ]
  },
  {
   "cell_type": "markdown",
   "metadata": {
    "colab_type": "text",
    "id": "9b9VjC_M-6Ez"
   },
   "source": [
    "## XGBoost Model"
   ]
  },
  {
   "cell_type": "code",
   "execution_count": 65,
   "metadata": {
    "colab": {
     "base_uri": "https://localhost:8080/",
     "height": 294
    },
    "colab_type": "code",
    "id": "JMoiGC6rkbQq",
    "outputId": "f95de877-5f15-489a-b33a-aa45c4dfd15a"
   },
   "outputs": [
    {
     "data": {
      "image/png": "[encoded data removed]",
      "text/plain": [
       "<Figure size 1440x288 with 4 Axes>"
      ]
     },
     "metadata": {
      "tags": []
     },
     "output_type": "display_data"
    }
   ],
   "source": [
    "max_depth = [1, 3, 6, 9]\n",
    "n_estimators = [50, 100]\n",
    "\n",
    "logloss_tr_array = []\n",
    "logloss_cv_array = []\n",
    "for i in max_depth:\n",
    "    for j in n_estimators:\n",
    "        model = XGBClassifier(max_depth = i, n_estimators = j)\n",
    "        sig_clf = CalibratedClassifierCV(model, method = \"sigmoid\")\n",
    "        sig_clf.fit(Xtr, Y_tr)    \n",
    "        pred_tr = sig_clf.predict_proba(Xtr)\n",
    "        pred_cv = sig_clf.predict_proba(Xcv)\n",
    "        logloss_tr_array.append(log_loss(Y_tr, pred_tr))\n",
    "        logloss_cv_array.append(log_loss(Y_cv, pred_cv))\n",
    "\n",
    "#Heatmaps for logloss of train and test data\n",
    "plt.figure(figsize = (20,4))\n",
    "plt.subplot(1, 2, 1)\n",
    "logloss_tr_array = np.array(logloss_tr_array)\n",
    "logloss_tr_array = logloss_tr_array.reshape(len(max_depth),len(n_estimators))\n",
    "sns.heatmap(logloss_tr_array, annot = True, xticklabels = n_estimators, yticklabels = max_depth)\n",
    "plt.xlabel('Estimators')\n",
    "plt.ylabel('Depth')\n",
    "plt.title('Logloss values of train data')\n",
    "\n",
    "plt.subplot(1, 2, 2)\n",
    "logloss_cv_array = np.array(logloss_cv_array)\n",
    "logloss_cv_array = logloss_cv_array.reshape(len(max_depth),len(n_estimators))\n",
    "sns.heatmap(logloss_cv_array, annot = True, xticklabels = n_estimators, yticklabels = max_depth)\n",
    "plt.xlabel('Estimators')\n",
    "plt.ylabel('Depth')\n",
    "plt.title('Logloss values of cv data')\n",
    "plt.show()"
   ]
  },
  {
   "cell_type": "code",
   "execution_count": 69,
   "metadata": {
    "colab": {
     "base_uri": "https://localhost:8080/",
     "height": 1405
    },
    "colab_type": "code",
    "id": "_9EtIcPD9aWb",
    "outputId": "5e0b025e-55c9-4fd2-a8b9-bfbfe3deda88"
   },
   "outputs": [
    {
     "name": "stdout",
     "output_type": "stream",
     "text": [
      "Values of best parameters are max_depth : 3 and n_estimators : 100\n",
      "Training on best parameters...\n",
      "For best parameters train logloss is 0.007330568828890052 and test logloss is 0.022584469401845105\n",
      "-------------------- Confusion matrix --------------------\n"
     ]
    },
    {
     "data": {
      "image/png": "[encoded data removed]",
      "text/plain": [
       "<Figure size 1080x504 with 2 Axes>"
      ]
     },
     "metadata": {
      "tags": []
     },
     "output_type": "display_data"
    },
    {
     "name": "stdout",
     "output_type": "stream",
     "text": [
      "-------------------- Precision matrix (Columm Sum=1) --------------------\n"
     ]
    },
    {
     "data": {
      "image/png": "[encoded data removed]",
      "text/plain": [
       "<Figure size 1080x504 with 2 Axes>"
      ]
     },
     "metadata": {
      "tags": []
     },
     "output_type": "display_data"
    },
    {
     "name": "stdout",
     "output_type": "stream",
     "text": [
      "-------------------- Recall matrix (Row sum=1) --------------------\n"
     ]
    },
    {
     "data": {
      "image/png": "[encoded data removed]",
      "text/plain": [
       "<Figure size 1080x504 with 2 Axes>"
      ]
     },
     "metadata": {
      "tags": []
     },
     "output_type": "display_data"
    }
   ],
   "source": [
    "print(\"Values of best parameters are max_depth : 3 and n_estimators : 100\")\n",
    "print(\"Training on best parameters...\")\n",
    "\n",
    "model = XGBClassifier(max_depth = 3, n_estimators = 100)\n",
    "sig_clf = CalibratedClassifierCV(model, method = \"sigmoid\")\n",
    "sig_clf.fit(Xtr, Y_tr)    \n",
    "\n",
    "pred_tr = sig_clf.predict_proba(Xtr)\n",
    "pred_test = sig_clf.predict_proba(Xtest)\n",
    "\n",
    "logloss_tr_xgb = log_loss(Y_tr, pred_tr)\n",
    "logloss_test_xgb = log_loss(Y_test, pred_test)\n",
    "print(\"For best parameters train logloss is\", logloss_tr_xgb, \"and test logloss is\", logloss_test_xgb)\n",
    "\n",
    "plot_confusion_matrix(Y_test, sig_clf.predict(Xtest))"
   ]
  },
  {
   "cell_type": "markdown",
   "metadata": {
    "colab_type": "text",
    "id": "DjtxDYyVBo3J"
   },
   "source": [
    "# Step by Step Procedure\n",
    "\n",
    "1. Reading json files and extracting product data from json files\n",
    "2. Preprocessing the extracted data, such as removal of html tags, removal of stopwords, etc from description and display name of products\n",
    "3. Analysis on different features describing how much different values they can take for each class\n",
    "4. Featuring data using one hot encoding and bag of words encoding\n",
    "5. Modelling data using Logistic Regression, Random Forest and XGBoost"
   ]
  },
  {
   "cell_type": "markdown",
   "metadata": {
    "colab_type": "text",
    "id": "XpQRs-mvAuUj"
   },
   "source": [
    "# Model Comparison"
   ]
  },
  {
   "cell_type": "code",
   "execution_count": 72,
   "metadata": {
    "colab": {
     "base_uri": "https://localhost:8080/",
     "height": 139
    },
    "colab_type": "code",
    "id": "UIyTGVhjAt56",
    "outputId": "923a42f2-0cae-4f34-ee53-59a836295201"
   },
   "outputs": [
    {
     "name": "stdout",
     "output_type": "stream",
     "text": [
      "+---------------------+----------------------+----------------------+\n",
      "|        Model        |    Train Logloss     |     Test Logloss     |\n",
      "+---------------------+----------------------+----------------------+\n",
      "| Logistic Regression | 0.01830914628166722  | 0.03998018134724457  |\n",
      "|    Random Forest    | 0.010658678921453184 | 0.03717527191379461  |\n",
      "|       XGBoost       | 0.007330568828890052 | 0.022584469401845105 |\n",
      "+---------------------+----------------------+----------------------+\n"
     ]
    }
   ],
   "source": [
    "from prettytable import PrettyTable\n",
    "t = PrettyTable()\n",
    "t.field_names = [\"Model\", \"Train Logloss\", \"Test Logloss\"]\n",
    "t.add_row([\"Logistic Regression\", logloss_tr_lr, logloss_test_lr])\n",
    "t.add_row([\"Random Forest\", logloss_tr_rf, logloss_test_rf])\n",
    "t.add_row([\"XGBoost\", logloss_tr_xgb, logloss_test_xgb])\n",
    "print(t)"
   ]
  }
 ],
 "metadata": {
  "accelerator": "GPU",
  "colab": {
   "collapsed_sections": [],
   "name": "snatthani_gmail_com_A27_V2.ipynb",
   "provenance": [],
   "version": "0.3.2"
  },
  "kernelspec": {
   "display_name": "Python 3",
   "language": "python",
   "name": "python3"
  },
  "language_info": {
   "codemirror_mode": {
    "name": "ipython",
    "version": 3
   },
   "file_extension": ".py",
   "mimetype": "text/x-python",
   "name": "python",
   "nbconvert_exporter": "python",
   "pygments_lexer": "ipython3",
   "version": "3.5.2"
  }
 },
 "nbformat": 4,
 "nbformat_minor": 1
}
